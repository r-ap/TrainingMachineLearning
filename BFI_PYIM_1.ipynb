{
  "nbformat": 4,
  "nbformat_minor": 0,
  "metadata": {
    "colab": {
      "name": "BFI PYIM 1.ipynb",
      "provenance": [],
      "include_colab_link": true
    },
    "kernelspec": {
      "name": "python3",
      "display_name": "Python 3"
    },
    "language_info": {
      "name": "python"
    }
  },
  "cells": [
    {
      "cell_type": "markdown",
      "metadata": {
        "id": "view-in-github",
        "colab_type": "text"
      },
      "source": [
        "<a href=\"https://colab.research.google.com/github/r-ap/TrainingMachineLearning/blob/Session1/BFI_PYIM_1.ipynb\" target=\"_parent\"><img src=\"https://colab.research.google.com/assets/colab-badge.svg\" alt=\"Open In Colab\"/></a>"
      ]
    },
    {
      "cell_type": "markdown",
      "source": [
        "# Basic Python & Syntax"
      ],
      "metadata": {
        "id": "hE2lrsV4W_It"
      }
    },
    {
      "cell_type": "markdown",
      "source": [
        "## Python keywords"
      ],
      "metadata": {
        "id": "o1XHR7bqd_uV"
      }
    },
    {
      "cell_type": "code",
      "execution_count": null,
      "metadata": {
        "colab": {
          "base_uri": "https://localhost:8080/"
        },
        "id": "pF9AAV-oWwAy",
        "outputId": "0cbe51a2-2854-4c5c-c77b-fa946cedc13e"
      },
      "outputs": [
        {
          "output_type": "stream",
          "name": "stdout",
          "text": [
            "\n",
            "Here is a list of the Python keywords.  Enter any keyword to get more help.\n",
            "\n",
            "False               class               from                or\n",
            "None                continue            global              pass\n",
            "True                def                 if                  raise\n",
            "and                 del                 import              return\n",
            "as                  elif                in                  try\n",
            "assert              else                is                  while\n",
            "async               except              lambda              with\n",
            "await               finally             nonlocal            yield\n",
            "break               for                 not                 \n",
            "\n"
          ]
        }
      ],
      "source": [
        "help(\"keywords\")"
      ]
    },
    {
      "cell_type": "markdown",
      "source": [
        "## Basic Syntax"
      ],
      "metadata": {
        "id": "EXd6VvVNeA2e"
      }
    },
    {
      "cell_type": "markdown",
      "source": [
        "### Definisi Variabel\n",
        "\n",
        "Variabel merupakan objek Python yang menyimpan suatu data yang nantinya dapat dipanggil kembali.\n",
        "\n",
        "Aturan penamaan pada variabel:\n",
        "- perbedaan cetak huruf, maka berbeda arti\n",
        "- hanya mengandung karakter huruf, angka, dan underscore\n",
        "- angka tidak boleh menjadi karakter yang paling depan"
      ],
      "metadata": {
        "id": "gQwCrTbheE6p"
      }
    },
    {
      "cell_type": "code",
      "source": [
        "A = 5"
      ],
      "metadata": {
        "id": "adzW-qcTeQsQ"
      },
      "execution_count": null,
      "outputs": []
    },
    {
      "cell_type": "code",
      "source": [
        "A"
      ],
      "metadata": {
        "colab": {
          "base_uri": "https://localhost:8080/"
        },
        "id": "F0AU3fUmeVBZ",
        "outputId": "7b571828-a01f-41fe-8a6e-32ee6bdda84c"
      },
      "execution_count": null,
      "outputs": [
        {
          "output_type": "execute_result",
          "data": {
            "text/plain": [
              "5"
            ]
          },
          "metadata": {},
          "execution_count": 10
        }
      ]
    },
    {
      "cell_type": "code",
      "source": [
        "a"
      ],
      "metadata": {
        "colab": {
          "base_uri": "https://localhost:8080/",
          "height": 164
        },
        "id": "GfQicDNjeYBf",
        "outputId": "b35e1cba-8fe5-44b0-fe88-6a5cc1c6bff0"
      },
      "execution_count": null,
      "outputs": [
        {
          "output_type": "error",
          "ename": "NameError",
          "evalue": "ignored",
          "traceback": [
            "\u001b[0;31m---------------------------------------------------------------------------\u001b[0m",
            "\u001b[0;31mNameError\u001b[0m                                 Traceback (most recent call last)",
            "\u001b[0;32m<ipython-input-11-3f786850e387>\u001b[0m in \u001b[0;36m<module>\u001b[0;34m()\u001b[0m\n\u001b[0;32m----> 1\u001b[0;31m \u001b[0ma\u001b[0m\u001b[0;34m\u001b[0m\u001b[0;34m\u001b[0m\u001b[0m\n\u001b[0m",
            "\u001b[0;31mNameError\u001b[0m: name 'a' is not defined"
          ]
        }
      ]
    },
    {
      "cell_type": "code",
      "source": [
        "a = 2"
      ],
      "metadata": {
        "id": "IKQNNi73eY-6"
      },
      "execution_count": null,
      "outputs": []
    },
    {
      "cell_type": "code",
      "source": [
        "a"
      ],
      "metadata": {
        "colab": {
          "base_uri": "https://localhost:8080/"
        },
        "id": "V6pOpIYnee-Z",
        "outputId": "f6eb3e07-6166-4272-e330-36ce4a39b840"
      },
      "execution_count": null,
      "outputs": [
        {
          "output_type": "execute_result",
          "data": {
            "text/plain": [
              "2"
            ]
          },
          "metadata": {},
          "execution_count": 13
        }
      ]
    },
    {
      "cell_type": "code",
      "source": [
        "1c = 4\n",
        "1c"
      ],
      "metadata": {
        "colab": {
          "base_uri": "https://localhost:8080/",
          "height": 130
        },
        "id": "IVFE9z0IehFv",
        "outputId": "3ca6fd52-321d-4c03-f609-3c9724421a9e"
      },
      "execution_count": null,
      "outputs": [
        {
          "output_type": "error",
          "ename": "SyntaxError",
          "evalue": "ignored",
          "traceback": [
            "\u001b[0;36m  File \u001b[0;32m\"<ipython-input-14-c99b29ffc497>\"\u001b[0;36m, line \u001b[0;32m1\u001b[0m\n\u001b[0;31m    1c = 4\u001b[0m\n\u001b[0m     ^\u001b[0m\n\u001b[0;31mSyntaxError\u001b[0m\u001b[0;31m:\u001b[0m invalid syntax\n"
          ]
        }
      ]
    },
    {
      "cell_type": "code",
      "source": [
        "c1 = 4\n",
        "c1"
      ],
      "metadata": {
        "colab": {
          "base_uri": "https://localhost:8080/"
        },
        "id": "XczOkxfQej1q",
        "outputId": "27f44c7d-01f9-4948-894b-b7cdd8e09dab"
      },
      "execution_count": null,
      "outputs": [
        {
          "output_type": "execute_result",
          "data": {
            "text/plain": [
              "4"
            ]
          },
          "metadata": {},
          "execution_count": 15
        }
      ]
    },
    {
      "cell_type": "code",
      "source": [
        "_2 = 3\n",
        "_2"
      ],
      "metadata": {
        "colab": {
          "base_uri": "https://localhost:8080/"
        },
        "id": "r64yRtX9emEw",
        "outputId": "3ff456cf-4cc1-4f43-e04b-08902ca88a19"
      },
      "execution_count": null,
      "outputs": [
        {
          "output_type": "execute_result",
          "data": {
            "text/plain": [
              "3"
            ]
          },
          "metadata": {},
          "execution_count": 16
        }
      ]
    },
    {
      "cell_type": "code",
      "source": [
        "a,b = 0"
      ],
      "metadata": {
        "colab": {
          "base_uri": "https://localhost:8080/",
          "height": 164
        },
        "id": "h3tOyxM4e8CR",
        "outputId": "b7a031af-806b-40c3-b6c0-8ba0251dd8b0"
      },
      "execution_count": null,
      "outputs": [
        {
          "output_type": "error",
          "ename": "TypeError",
          "evalue": "ignored",
          "traceback": [
            "\u001b[0;31m---------------------------------------------------------------------------\u001b[0m",
            "\u001b[0;31mTypeError\u001b[0m                                 Traceback (most recent call last)",
            "\u001b[0;32m<ipython-input-17-97f93658ac75>\u001b[0m in \u001b[0;36m<module>\u001b[0;34m()\u001b[0m\n\u001b[0;32m----> 1\u001b[0;31m \u001b[0ma\u001b[0m\u001b[0;34m,\u001b[0m\u001b[0mb\u001b[0m \u001b[0;34m=\u001b[0m \u001b[0;36m0\u001b[0m\u001b[0;34m\u001b[0m\u001b[0;34m\u001b[0m\u001b[0m\n\u001b[0m",
            "\u001b[0;31mTypeError\u001b[0m: cannot unpack non-iterable int object"
          ]
        }
      ]
    },
    {
      "cell_type": "markdown",
      "source": [
        "### Perintah mencetak suatu keluaran (\"Print\")\n",
        "\n",
        "print(value, ..., sep=' ', end='\\n')"
      ],
      "metadata": {
        "id": "8YVHmuVZfH7I"
      }
    },
    {
      "cell_type": "code",
      "source": [
        "print(20000)"
      ],
      "metadata": {
        "colab": {
          "base_uri": "https://localhost:8080/"
        },
        "id": "mA1qWnY9fPS9",
        "outputId": "0fddde0f-b218-47d7-97cc-50b0a8bbb57b"
      },
      "execution_count": null,
      "outputs": [
        {
          "output_type": "stream",
          "name": "stdout",
          "text": [
            "20000\n"
          ]
        }
      ]
    },
    {
      "cell_type": "code",
      "source": [
        "print(\"halo, apa kabar?\")"
      ],
      "metadata": {
        "colab": {
          "base_uri": "https://localhost:8080/"
        },
        "id": "X37qJhtRfegG",
        "outputId": "ac25c738-b1e0-4f4c-84be-cf804f86ab9c"
      },
      "execution_count": null,
      "outputs": [
        {
          "output_type": "stream",
          "name": "stdout",
          "text": [
            "halo, apa kabar?\n"
          ]
        }
      ]
    },
    {
      "cell_type": "code",
      "source": [
        "print(\"halo\",\"apa\",\"kabar?\")"
      ],
      "metadata": {
        "colab": {
          "base_uri": "https://localhost:8080/"
        },
        "id": "zlrM8jNAfjad",
        "outputId": "40c3d53c-d6bb-48a6-d55c-bcaffc15c69f"
      },
      "execution_count": null,
      "outputs": [
        {
          "output_type": "stream",
          "name": "stdout",
          "text": [
            "halo apa kabar?\n"
          ]
        }
      ]
    },
    {
      "cell_type": "code",
      "source": [
        "print(\"halo\",\"apa\",\"kabar?\",sep='m')\n",
        "print(\"halo\",\"apa\",\"kabar?\",sep='\\n')"
      ],
      "metadata": {
        "colab": {
          "base_uri": "https://localhost:8080/"
        },
        "id": "gJpygq7YfmwZ",
        "outputId": "913ad2b2-bb58-440e-b7f3-430f9830a846"
      },
      "execution_count": null,
      "outputs": [
        {
          "output_type": "stream",
          "name": "stdout",
          "text": [
            "halomapamkabar?\n",
            "halo\n",
            "apa\n",
            "kabar?\n"
          ]
        }
      ]
    },
    {
      "cell_type": "code",
      "source": [
        "print(\"halo, apa kabar?\", sep='m')"
      ],
      "metadata": {
        "colab": {
          "base_uri": "https://localhost:8080/"
        },
        "id": "4DTjrFHBggnD",
        "outputId": "2a627006-1b51-441d-859d-d0e048e364ed"
      },
      "execution_count": null,
      "outputs": [
        {
          "output_type": "stream",
          "name": "stdout",
          "text": [
            "halo, apa kabar?\n"
          ]
        }
      ]
    },
    {
      "cell_type": "code",
      "source": [
        "print(1)\n",
        "print(2)\n",
        "print(3)"
      ],
      "metadata": {
        "colab": {
          "base_uri": "https://localhost:8080/"
        },
        "id": "HX1huMDbf_Am",
        "outputId": "03515f89-5379-490d-a40f-0f8a321ea82c"
      },
      "execution_count": null,
      "outputs": [
        {
          "output_type": "stream",
          "name": "stdout",
          "text": [
            "1\n",
            "2\n",
            "3\n"
          ]
        }
      ]
    },
    {
      "cell_type": "code",
      "source": [
        "print(1,end=' ')\n",
        "print(2,end=' ')\n",
        "print(3,end=' ')"
      ],
      "metadata": {
        "colab": {
          "base_uri": "https://localhost:8080/"
        },
        "id": "w2zQocvdgE3q",
        "outputId": "d687e2fc-fc81-4551-e3dd-7d9fb69151d3"
      },
      "execution_count": null,
      "outputs": [
        {
          "output_type": "stream",
          "name": "stdout",
          "text": [
            "1 2 3 "
          ]
        }
      ]
    },
    {
      "cell_type": "markdown",
      "source": [
        "### Memberikan Input dan menyimpan ke dalam variabel\n",
        "\n",
        "input(prompt='')"
      ],
      "metadata": {
        "id": "-aUOK93BhVez"
      }
    },
    {
      "cell_type": "code",
      "source": [
        "input(\"Masukkan angka: \")"
      ],
      "metadata": {
        "colab": {
          "base_uri": "https://localhost:8080/",
          "height": 54
        },
        "id": "LxvGB1LQhZ7b",
        "outputId": "9cc8ffe6-99d3-4799-cb82-93192d994d19"
      },
      "execution_count": null,
      "outputs": [
        {
          "name": "stdout",
          "output_type": "stream",
          "text": [
            "Masukkan angka: 4\n"
          ]
        },
        {
          "output_type": "execute_result",
          "data": {
            "text/plain": [
              "'4'"
            ],
            "application/vnd.google.colaboratory.intrinsic+json": {
              "type": "string"
            }
          },
          "metadata": {},
          "execution_count": 31
        }
      ]
    },
    {
      "cell_type": "code",
      "source": [
        "angka = input(\"Masukkan angka: \")\n",
        "angka"
      ],
      "metadata": {
        "colab": {
          "base_uri": "https://localhost:8080/",
          "height": 54
        },
        "id": "UBgp-ZoLhtJn",
        "outputId": "483052b0-146b-451e-de6b-47788f0e0cb3"
      },
      "execution_count": null,
      "outputs": [
        {
          "name": "stdout",
          "output_type": "stream",
          "text": [
            "Masukkan angka: 5\n"
          ]
        },
        {
          "output_type": "execute_result",
          "data": {
            "text/plain": [
              "'5'"
            ],
            "application/vnd.google.colaboratory.intrinsic+json": {
              "type": "string"
            }
          },
          "metadata": {},
          "execution_count": 32
        }
      ]
    },
    {
      "cell_type": "code",
      "source": [
        "print(angka)"
      ],
      "metadata": {
        "colab": {
          "base_uri": "https://localhost:8080/"
        },
        "id": "xi7Fo4fYh0DG",
        "outputId": "085f1bc6-b6a5-4429-8721-dc1727f9bbb7"
      },
      "execution_count": null,
      "outputs": [
        {
          "output_type": "stream",
          "name": "stdout",
          "text": [
            "5\n"
          ]
        }
      ]
    },
    {
      "cell_type": "markdown",
      "source": [
        "# Data Types\n",
        "Boolean Type: bool (True/False)\n",
        "\n",
        "Set Types: frozenset, set\n",
        "\n",
        "Mapping Type: dict\n",
        "\n",
        "Sequence Types: range, tuple, list\n",
        "\n",
        "Numeric Types: complex, float, int\n",
        "\n",
        "Text Type: str"
      ],
      "metadata": {
        "id": "bXBSttQqY_AY"
      }
    },
    {
      "cell_type": "markdown",
      "source": [
        "## Numeric Types"
      ],
      "metadata": {
        "id": "sl9vFGjlZP5W"
      }
    },
    {
      "cell_type": "markdown",
      "source": [
        "### Integer\n",
        "\n",
        "Pada Python3, tidak ada batasan jumlah digit sebuah integer/bilangan bulat"
      ],
      "metadata": {
        "id": "nNwH_nAAcDxZ"
      }
    },
    {
      "cell_type": "code",
      "source": [
        "print(500000)\n",
        "print(type(500000))"
      ],
      "metadata": {
        "colab": {
          "base_uri": "https://localhost:8080/"
        },
        "id": "1alesTTrYu3X",
        "outputId": "1621bf0f-a9fd-4c12-ae75-86d39b956da6"
      },
      "execution_count": null,
      "outputs": [
        {
          "output_type": "stream",
          "name": "stdout",
          "text": [
            "500000\n",
            "<class 'int'>\n"
          ]
        }
      ]
    },
    {
      "cell_type": "markdown",
      "source": [
        "### Float\n",
        "\n",
        "Float merupakan tipe data yang menampung bilangan desimal. Dapat dinotasikan dalam desimal biasa atau dalam bentuk pangkat."
      ],
      "metadata": {
        "id": "HNLtKXROb5BZ"
      }
    },
    {
      "cell_type": "code",
      "source": [
        "print(50.0)\n",
        "print(2.7)\n",
        "print(type(12.35))"
      ],
      "metadata": {
        "colab": {
          "base_uri": "https://localhost:8080/"
        },
        "id": "EfsufUgob-Vv",
        "outputId": "11cb014c-c82f-42ec-88c3-26ab7ddcce0f"
      },
      "execution_count": null,
      "outputs": [
        {
          "output_type": "stream",
          "name": "stdout",
          "text": [
            "50.0\n",
            "2.7\n",
            "<class 'float'>\n"
          ]
        }
      ]
    },
    {
      "cell_type": "code",
      "source": [
        "print(2e5) #atau print(2E5)"
      ],
      "metadata": {
        "colab": {
          "base_uri": "https://localhost:8080/"
        },
        "id": "CPTVwThCcXqR",
        "outputId": "13e2eaf9-e775-455c-a373-c2658f8dac66"
      },
      "execution_count": null,
      "outputs": [
        {
          "output_type": "stream",
          "name": "stdout",
          "text": [
            "200000.0\n"
          ]
        }
      ]
    },
    {
      "cell_type": "code",
      "source": [
        "print(1e-3) #atau print(1E-3)"
      ],
      "metadata": {
        "colab": {
          "base_uri": "https://localhost:8080/"
        },
        "id": "BVYdesk7cagR",
        "outputId": "b41cbb59-cb2e-4b91-957c-9beb1e0e3fe9"
      },
      "execution_count": null,
      "outputs": [
        {
          "output_type": "stream",
          "name": "stdout",
          "text": [
            "0.001\n"
          ]
        }
      ]
    },
    {
      "cell_type": "markdown",
      "source": [
        "### Konversi Float <> Integer"
      ],
      "metadata": {
        "id": "-wyyo3tXcqBA"
      }
    },
    {
      "cell_type": "code",
      "source": [
        "A = 5\n",
        "type(A)"
      ],
      "metadata": {
        "colab": {
          "base_uri": "https://localhost:8080/"
        },
        "id": "SNlh55rzccmZ",
        "outputId": "59ae9014-1015-4f40-8ed3-f8e7abe9b3f9"
      },
      "execution_count": null,
      "outputs": [
        {
          "output_type": "execute_result",
          "data": {
            "text/plain": [
              "int"
            ]
          },
          "metadata": {},
          "execution_count": 34
        }
      ]
    },
    {
      "cell_type": "code",
      "source": [
        "A = float(5)\n",
        "print(A)\n",
        "print(type(A))"
      ],
      "metadata": {
        "colab": {
          "base_uri": "https://localhost:8080/"
        },
        "id": "aH2S6wroh-H6",
        "outputId": "30039af1-64c9-4f5c-fbba-ed0a7547d3b1"
      },
      "execution_count": null,
      "outputs": [
        {
          "output_type": "stream",
          "name": "stdout",
          "text": [
            "5.0\n",
            "<class 'float'>\n"
          ]
        }
      ]
    },
    {
      "cell_type": "code",
      "source": [
        "B = 2.8\n",
        "C = 3.1\n",
        "\n",
        "print(int(B))\n",
        "print(int(C))"
      ],
      "metadata": {
        "colab": {
          "base_uri": "https://localhost:8080/"
        },
        "id": "pJ3xrnjUiGgW",
        "outputId": "99764670-a8a1-4da1-fef3-80677fdc7ab4"
      },
      "execution_count": null,
      "outputs": [
        {
          "output_type": "stream",
          "name": "stdout",
          "text": [
            "2\n",
            "3\n"
          ]
        }
      ]
    },
    {
      "cell_type": "code",
      "source": [
        "B = 2.8\n",
        "C = 3.1\n",
        "\n",
        "print(round(B))\n",
        "print(round(C))\n",
        "\n",
        "# round(number, ndigits=None)"
      ],
      "metadata": {
        "colab": {
          "base_uri": "https://localhost:8080/"
        },
        "id": "H9gPRQv3iM_6",
        "outputId": "2aeae708-892e-4c5f-c842-90dbcd60031a"
      },
      "execution_count": null,
      "outputs": [
        {
          "output_type": "stream",
          "name": "stdout",
          "text": [
            "3\n",
            "3\n"
          ]
        }
      ]
    },
    {
      "cell_type": "code",
      "source": [
        "print(round(2.6789,1))\n",
        "print(round(2.6789,2))"
      ],
      "metadata": {
        "colab": {
          "base_uri": "https://localhost:8080/"
        },
        "id": "xI5juoqEiRn9",
        "outputId": "f684ca39-be7d-4522-f167-50db6173926a"
      },
      "execution_count": null,
      "outputs": [
        {
          "output_type": "stream",
          "name": "stdout",
          "text": [
            "2.7\n",
            "2.68\n"
          ]
        }
      ]
    },
    {
      "cell_type": "markdown",
      "source": [
        "### Operasi Aritmatika"
      ],
      "metadata": {
        "id": "LbyaFIsYipNs"
      }
    },
    {
      "cell_type": "code",
      "source": [
        "a = 4\n",
        "b = 3\n",
        "\n",
        "print(a + b) #tambah"
      ],
      "metadata": {
        "colab": {
          "base_uri": "https://localhost:8080/"
        },
        "id": "eoPEWJXqitFt",
        "outputId": "b741fafc-e01c-4070-82a7-ce1d1dde16b5"
      },
      "execution_count": null,
      "outputs": [
        {
          "output_type": "stream",
          "name": "stdout",
          "text": [
            "7\n"
          ]
        }
      ]
    },
    {
      "cell_type": "code",
      "source": [
        "a = 4\n",
        "b = 3\n",
        "\n",
        "print(a - b) #kurang"
      ],
      "metadata": {
        "colab": {
          "base_uri": "https://localhost:8080/"
        },
        "id": "sHRYs5Zgi94Z",
        "outputId": "2bc2acad-0d4f-430c-9598-dd3f3c79dd2b"
      },
      "execution_count": null,
      "outputs": [
        {
          "output_type": "stream",
          "name": "stdout",
          "text": [
            "1\n"
          ]
        }
      ]
    },
    {
      "cell_type": "code",
      "source": [
        "a = 4\n",
        "b = 3\n",
        "\n",
        "print(a * b) #kali"
      ],
      "metadata": {
        "colab": {
          "base_uri": "https://localhost:8080/"
        },
        "id": "EHAhQMbni_T5",
        "outputId": "671c0d01-7ea3-436a-f558-85f07dc954ae"
      },
      "execution_count": null,
      "outputs": [
        {
          "output_type": "stream",
          "name": "stdout",
          "text": [
            "12\n"
          ]
        }
      ]
    },
    {
      "cell_type": "code",
      "source": [
        "a = 4\n",
        "b = 3\n",
        "\n",
        "print(a / b) # bagi"
      ],
      "metadata": {
        "colab": {
          "base_uri": "https://localhost:8080/"
        },
        "id": "nMy22r3RjAdj",
        "outputId": "5403db4e-fa9d-41b8-b266-c61d816a0fc7"
      },
      "execution_count": null,
      "outputs": [
        {
          "output_type": "stream",
          "name": "stdout",
          "text": [
            "1.3333333333333333\n"
          ]
        }
      ]
    },
    {
      "cell_type": "code",
      "source": [
        "a = 4\n",
        "b = 3\n",
        "\n",
        "print(a // b) # bagi & ambil bilangan bulatnya saja"
      ],
      "metadata": {
        "colab": {
          "base_uri": "https://localhost:8080/"
        },
        "id": "xbvRQ_JSjBwq",
        "outputId": "85754454-0ffc-4d6c-a1d4-0ad23313de1e"
      },
      "execution_count": null,
      "outputs": [
        {
          "output_type": "stream",
          "name": "stdout",
          "text": [
            "1\n"
          ]
        }
      ]
    },
    {
      "cell_type": "code",
      "source": [
        "a = 4\n",
        "b = 3\n",
        "\n",
        "print(a % b) #modulo"
      ],
      "metadata": {
        "colab": {
          "base_uri": "https://localhost:8080/"
        },
        "id": "W_bzszskjCyF",
        "outputId": "4ed9393d-a682-406e-a221-54bbea1cab7f"
      },
      "execution_count": null,
      "outputs": [
        {
          "output_type": "stream",
          "name": "stdout",
          "text": [
            "1\n"
          ]
        }
      ]
    },
    {
      "cell_type": "code",
      "source": [
        "a = 4\n",
        "b = 3\n",
        "\n",
        "print(a ** b) #pangkat"
      ],
      "metadata": {
        "colab": {
          "base_uri": "https://localhost:8080/"
        },
        "id": "b_bqofn_jD8u",
        "outputId": "a803a41e-5d61-4542-e2ec-cd6e2c4292c9"
      },
      "execution_count": null,
      "outputs": [
        {
          "output_type": "stream",
          "name": "stdout",
          "text": [
            "64\n"
          ]
        }
      ]
    },
    {
      "cell_type": "markdown",
      "source": [
        "### Operator Perbandingan/Logika"
      ],
      "metadata": {
        "id": "e2fheiH0jTWW"
      }
    },
    {
      "cell_type": "code",
      "source": [
        "a = 10\n",
        "b = 20\n",
        "print(a == b)\n",
        "\n",
        "print(a != b)\n",
        "\n",
        "print(a <= b)\n",
        "\n",
        "print(a >= b)"
      ],
      "metadata": {
        "colab": {
          "base_uri": "https://localhost:8080/"
        },
        "id": "_NX6A5tcjWu-",
        "outputId": "10b86c0c-6d4c-44cb-c27b-8e769c571010"
      },
      "execution_count": null,
      "outputs": [
        {
          "output_type": "stream",
          "name": "stdout",
          "text": [
            "False\n",
            "True\n",
            "True\n",
            "False\n"
          ]
        }
      ]
    },
    {
      "cell_type": "markdown",
      "source": [
        "## String\n",
        "\n",
        "String merupakan tipe data yang menampung data berjenis karakter. Selalu diikuti dengan \" \" atau ' '."
      ],
      "metadata": {
        "id": "Y2Yj9ULKjq5L"
      }
    },
    {
      "cell_type": "code",
      "source": [
        "\"Saya suka makan nasi goreng\""
      ],
      "metadata": {
        "colab": {
          "base_uri": "https://localhost:8080/",
          "height": 37
        },
        "id": "bVh-rsQkj7YW",
        "outputId": "e60be0ee-82b1-4659-c3d6-83d6e3905a3f"
      },
      "execution_count": null,
      "outputs": [
        {
          "output_type": "execute_result",
          "data": {
            "text/plain": [
              "'Saya suka makan nasi goreng'"
            ],
            "application/vnd.google.colaboratory.intrinsic+json": {
              "type": "string"
            }
          },
          "metadata": {},
          "execution_count": 51
        }
      ]
    },
    {
      "cell_type": "code",
      "source": [
        "print(\"apa kabar semuanya?\")"
      ],
      "metadata": {
        "colab": {
          "base_uri": "https://localhost:8080/"
        },
        "id": "oKiAM-Htj-zI",
        "outputId": "261c008f-4102-4ed7-d831-f086c8ee4378"
      },
      "execution_count": null,
      "outputs": [
        {
          "output_type": "stream",
          "name": "stdout",
          "text": [
            "apa kabar semuanya?\n"
          ]
        }
      ]
    },
    {
      "cell_type": "code",
      "source": [
        "print('apa kabar?\")"
      ],
      "metadata": {
        "colab": {
          "base_uri": "https://localhost:8080/",
          "height": 130
        },
        "id": "BfR72jFzkF38",
        "outputId": "41e2689c-86e8-455c-9015-d31263619c01"
      },
      "execution_count": null,
      "outputs": [
        {
          "output_type": "error",
          "ename": "SyntaxError",
          "evalue": "ignored",
          "traceback": [
            "\u001b[0;36m  File \u001b[0;32m\"<ipython-input-53-c7af9545db7f>\"\u001b[0;36m, line \u001b[0;32m1\u001b[0m\n\u001b[0;31m    print('apa kabar?\")\u001b[0m\n\u001b[0m                       ^\u001b[0m\n\u001b[0;31mSyntaxError\u001b[0m\u001b[0;31m:\u001b[0m EOL while scanning string literal\n"
          ]
        }
      ]
    },
    {
      "cell_type": "markdown",
      "source": [
        ""
      ],
      "metadata": {
        "id": "Pn4wpbwRj3n_"
      }
    },
    {
      "cell_type": "code",
      "source": [
        "print(type(\"Saya suka makan nasi goreng\"))"
      ],
      "metadata": {
        "colab": {
          "base_uri": "https://localhost:8080/"
        },
        "id": "-4ezYBGlj6TC",
        "outputId": "7c3bc720-80ea-4022-8634-3eac58965c25"
      },
      "execution_count": null,
      "outputs": [
        {
          "output_type": "stream",
          "name": "stdout",
          "text": [
            "<class 'str'>\n"
          ]
        }
      ]
    },
    {
      "cell_type": "markdown",
      "source": [
        "### Memanipulasi String\n",
        "\n",
        "**Penggabungan**"
      ],
      "metadata": {
        "id": "YiLq2oK_kR1E"
      }
    },
    {
      "cell_type": "code",
      "source": [
        "\"apa\" + \" \" + \"kabar?\""
      ],
      "metadata": {
        "colab": {
          "base_uri": "https://localhost:8080/",
          "height": 37
        },
        "id": "bNaZDLI9kUX1",
        "outputId": "e539ec19-4600-423c-c4f8-cd8ed7f2c186"
      },
      "execution_count": null,
      "outputs": [
        {
          "output_type": "execute_result",
          "data": {
            "text/plain": [
              "'apa kabar?'"
            ],
            "application/vnd.google.colaboratory.intrinsic+json": {
              "type": "string"
            }
          },
          "metadata": {},
          "execution_count": 56
        }
      ]
    },
    {
      "cell_type": "code",
      "source": [
        "print(\"apa\" + \" \" + \"kabar?\")"
      ],
      "metadata": {
        "colab": {
          "base_uri": "https://localhost:8080/"
        },
        "id": "yvQwQLU9klui",
        "outputId": "b548192f-2f74-457a-d9a7-a792b5d8fc68"
      },
      "execution_count": null,
      "outputs": [
        {
          "output_type": "stream",
          "name": "stdout",
          "text": [
            "apa kabar?\n"
          ]
        }
      ]
    },
    {
      "cell_type": "markdown",
      "source": [
        "**Penggandaan**"
      ],
      "metadata": {
        "id": "OVllGxhykrLO"
      }
    },
    {
      "cell_type": "code",
      "source": [
        "\"apa \" * 5"
      ],
      "metadata": {
        "colab": {
          "base_uri": "https://localhost:8080/",
          "height": 37
        },
        "id": "92g5Qca-kn64",
        "outputId": "17d8bc00-8c05-49f7-eda8-9c00ed954978"
      },
      "execution_count": null,
      "outputs": [
        {
          "output_type": "execute_result",
          "data": {
            "text/plain": [
              "'apa apa apa apa apa '"
            ],
            "application/vnd.google.colaboratory.intrinsic+json": {
              "type": "string"
            }
          },
          "metadata": {},
          "execution_count": 59
        }
      ]
    },
    {
      "cell_type": "markdown",
      "source": [
        "### Konversi Case"
      ],
      "metadata": {
        "id": "3dYOwzqsk6NJ"
      }
    },
    {
      "cell_type": "code",
      "source": [
        "# Case Conversion\n",
        "s = 'HackTIV8'\n",
        "\n",
        "# Capitalize\n",
        "print(s.capitalize())"
      ],
      "metadata": {
        "colab": {
          "base_uri": "https://localhost:8080/"
        },
        "id": "zLaVnpolk9xq",
        "outputId": "066db36f-68f3-4e48-e93f-c38d4d119e0f"
      },
      "execution_count": null,
      "outputs": [
        {
          "output_type": "stream",
          "name": "stdout",
          "text": [
            "Hacktiv8\n"
          ]
        }
      ]
    },
    {
      "cell_type": "code",
      "source": [
        "# Case Conversion\n",
        "s = 'HackTIV8'\n",
        "\n",
        "# Lower\n",
        "print(s.lower())"
      ],
      "metadata": {
        "colab": {
          "base_uri": "https://localhost:8080/"
        },
        "id": "e3naqfuWlAvq",
        "outputId": "8b3d812e-aa92-4a34-9d89-0da5c29f7323"
      },
      "execution_count": null,
      "outputs": [
        {
          "output_type": "stream",
          "name": "stdout",
          "text": [
            "hacktiv8\n"
          ]
        }
      ]
    },
    {
      "cell_type": "code",
      "source": [
        "# Case Conversion\n",
        "s = 'HackTIV8'\n",
        "\n",
        "# Swapcase\n",
        "print(s.swapcase())"
      ],
      "metadata": {
        "colab": {
          "base_uri": "https://localhost:8080/"
        },
        "id": "_YUCXaQQlC4n",
        "outputId": "b704046a-396f-4069-89a3-4b75a84a17a2"
      },
      "execution_count": null,
      "outputs": [
        {
          "output_type": "stream",
          "name": "stdout",
          "text": [
            "hACKtiv8\n"
          ]
        }
      ]
    },
    {
      "cell_type": "code",
      "source": [
        "# Case Conversion\n",
        "s = 'HackTIV8'\n",
        "\n",
        "# Title\n",
        "print(s.title())"
      ],
      "metadata": {
        "colab": {
          "base_uri": "https://localhost:8080/"
        },
        "id": "CsU2Etx9lEQ9",
        "outputId": "9350db07-56f4-4f17-bd17-c16687db234e"
      },
      "execution_count": null,
      "outputs": [
        {
          "output_type": "stream",
          "name": "stdout",
          "text": [
            "Hacktiv8\n"
          ]
        }
      ]
    },
    {
      "cell_type": "code",
      "source": [
        "# Case Conversion\n",
        "s = 'HackTIV8'\n",
        "\n",
        "# Uppercase\n",
        "print(s.upper())"
      ],
      "metadata": {
        "colab": {
          "base_uri": "https://localhost:8080/"
        },
        "id": "pQsDJ1jplFmo",
        "outputId": "38b1f89e-c4d3-4669-d07e-e45aea564ffc"
      },
      "execution_count": null,
      "outputs": [
        {
          "output_type": "stream",
          "name": "stdout",
          "text": [
            "HACKTIV8\n"
          ]
        }
      ]
    },
    {
      "cell_type": "markdown",
      "source": [
        "### Formatting\n",
        "\n",
        "Formatting pada String dilakukan agar ketika akan mencetak output lebih fleksibel, dapat memasukkan value dalam suatu variabel. Formatting juga dapat dianggap sebagai metode penggabungan beberapa tipe data menjadi sebuah string"
      ],
      "metadata": {
        "id": "35YuaNfjlmwj"
      }
    },
    {
      "cell_type": "code",
      "source": [
        "# Cara 1\n",
        "\n",
        "a = 7\n",
        "\n",
        "print(\"Variabel a, bernilai: {}\".format(a))"
      ],
      "metadata": {
        "colab": {
          "base_uri": "https://localhost:8080/"
        },
        "id": "cnhC6B6Rlzoe",
        "outputId": "84107e7f-4781-4af7-b30d-36f453c529f0"
      },
      "execution_count": null,
      "outputs": [
        {
          "output_type": "stream",
          "name": "stdout",
          "text": [
            "Variabel a, bernilai: 7\n"
          ]
        }
      ]
    },
    {
      "cell_type": "code",
      "source": [
        "# Cara 2\n",
        "\n",
        "print(f\"Variabel a, bernilai: {a}\")"
      ],
      "metadata": {
        "colab": {
          "base_uri": "https://localhost:8080/"
        },
        "id": "1_xgjefXmKPM",
        "outputId": "43e5537c-2663-434f-b914-987a346901ee"
      },
      "execution_count": null,
      "outputs": [
        {
          "output_type": "stream",
          "name": "stdout",
          "text": [
            "Variabel a, bernilai: 7\n"
          ]
        }
      ]
    },
    {
      "cell_type": "code",
      "source": [
        "# Cara 3\n",
        "\n",
        "print(\"Variabel a, bernilai: \" + str(a))"
      ],
      "metadata": {
        "colab": {
          "base_uri": "https://localhost:8080/"
        },
        "id": "dW_sw-ujmRpO",
        "outputId": "c346bd3a-9563-4645-854f-b1cb7edc3c09"
      },
      "execution_count": null,
      "outputs": [
        {
          "output_type": "stream",
          "name": "stdout",
          "text": [
            "Variabel a, bernilai: 7\n"
          ]
        }
      ]
    },
    {
      "cell_type": "markdown",
      "source": [
        "### Memisahkan String Menjadi List"
      ],
      "metadata": {
        "id": "209tbMR7eYQd"
      }
    },
    {
      "cell_type": "code",
      "source": [
        "kalimat = \"Saya ingin makan nasi goreng di sebuah restoran. Nasi gorengnya enak sekali\""
      ],
      "metadata": {
        "id": "g5JXmwO3edu8"
      },
      "execution_count": null,
      "outputs": []
    },
    {
      "cell_type": "code",
      "source": [
        "kalimat.split(\" \")"
      ],
      "metadata": {
        "colab": {
          "base_uri": "https://localhost:8080/"
        },
        "id": "1t65-krQek8p",
        "outputId": "5d4fc2dd-025c-4a3b-ec89-65ad49c52eca"
      },
      "execution_count": null,
      "outputs": [
        {
          "output_type": "execute_result",
          "data": {
            "text/plain": [
              "['Saya',\n",
              " 'ingin',\n",
              " 'makan',\n",
              " 'nasi',\n",
              " 'goreng',\n",
              " 'di',\n",
              " 'sebuah',\n",
              " 'restoran.',\n",
              " 'Nasi',\n",
              " 'gorengnya',\n",
              " 'enak',\n",
              " 'sekali']"
            ]
          },
          "metadata": {},
          "execution_count": 2
        }
      ]
    },
    {
      "cell_type": "code",
      "source": [
        "kalimat.split(\".\")"
      ],
      "metadata": {
        "colab": {
          "base_uri": "https://localhost:8080/"
        },
        "id": "1tqZLCgVeuhp",
        "outputId": "4895bfbf-776f-4cb0-d64d-213072132c90"
      },
      "execution_count": null,
      "outputs": [
        {
          "output_type": "execute_result",
          "data": {
            "text/plain": [
              "['Saya ingin makan nasi goreng di sebuah restoran',\n",
              " ' Nasi gorengnya enak sekali']"
            ]
          },
          "metadata": {},
          "execution_count": 3
        }
      ]
    },
    {
      "cell_type": "markdown",
      "source": [
        "## Sequences - List, Tuple"
      ],
      "metadata": {
        "id": "jOljpQLImaKG"
      }
    },
    {
      "cell_type": "markdown",
      "source": [
        "### List\n",
        "\n",
        "Cara menulis objek list, dapat gunakan kurung siku \"[ ]\"\n",
        "\n",
        "List merupakan objek sequence yang bersifat mutable (dapat diganti nilainhya)"
      ],
      "metadata": {
        "id": "4jkQjVXUmmef"
      }
    },
    {
      "cell_type": "code",
      "source": [
        "a = ['foo', 'bar', 'baz', 'qux']"
      ],
      "metadata": {
        "id": "2zAh0oX0lX5N"
      },
      "execution_count": null,
      "outputs": []
    },
    {
      "cell_type": "code",
      "source": [
        "b = [21.42, 'foobar', 3, 4, 'bark', False, 3.14159]\n",
        "\n",
        "print(a)"
      ],
      "metadata": {
        "colab": {
          "base_uri": "https://localhost:8080/"
        },
        "id": "Il33cCK9EB40",
        "outputId": "81d325cf-15a1-4009-b0fb-e757065b39a4"
      },
      "execution_count": null,
      "outputs": [
        {
          "output_type": "stream",
          "name": "stdout",
          "text": [
            "['foo', 'bar', 'baz', 'qux']\n"
          ]
        }
      ]
    },
    {
      "cell_type": "markdown",
      "source": [
        "**Akses elemen dalam list**"
      ],
      "metadata": {
        "id": "EKq_0snmFAzA"
      }
    },
    {
      "cell_type": "code",
      "source": [
        "print(b[0])\n",
        "print(b[2])\n",
        "print(b[-1])\n",
        "print(b[-3])"
      ],
      "metadata": {
        "colab": {
          "base_uri": "https://localhost:8080/"
        },
        "id": "fy0iFuJsEEyg",
        "outputId": "b8099ba9-d361-4e48-cb67-1f2b8da5cf80"
      },
      "execution_count": null,
      "outputs": [
        {
          "output_type": "stream",
          "name": "stdout",
          "text": [
            "21.42\n",
            "3\n",
            "3.14159\n",
            "bark\n"
          ]
        }
      ]
    },
    {
      "cell_type": "markdown",
      "source": [
        "**Akses multi elemen dalam list**\n",
        "\n",
        "List[start:end:step]\n",
        "\n",
        "index 'end' tidak akan dikeluarkan"
      ],
      "metadata": {
        "id": "nBQ-EKr8FEDS"
      }
    },
    {
      "cell_type": "code",
      "source": [
        "print(b)"
      ],
      "metadata": {
        "colab": {
          "base_uri": "https://localhost:8080/"
        },
        "id": "geNDvOBMFdUe",
        "outputId": "90e53f0c-1ea1-4002-9a1e-b8a8a25e9fe6"
      },
      "execution_count": null,
      "outputs": [
        {
          "output_type": "stream",
          "name": "stdout",
          "text": [
            "[21.42, 'foobar', 3, 4, 'bark', False, 3.14159]\n"
          ]
        }
      ]
    },
    {
      "cell_type": "code",
      "source": [
        "b[1:4]"
      ],
      "metadata": {
        "colab": {
          "base_uri": "https://localhost:8080/"
        },
        "id": "MvJkXhLMFLg5",
        "outputId": "50dea2aa-73f7-47f5-f190-ea8beaf3ba3b"
      },
      "execution_count": null,
      "outputs": [
        {
          "output_type": "execute_result",
          "data": {
            "text/plain": [
              "['foobar', 3, 4]"
            ]
          },
          "metadata": {},
          "execution_count": 6
        }
      ]
    },
    {
      "cell_type": "code",
      "source": [
        "b[1:5:2]"
      ],
      "metadata": {
        "colab": {
          "base_uri": "https://localhost:8080/"
        },
        "id": "Vm3v-H_zFOIZ",
        "outputId": "7c621ac6-58a1-4b43-dd43-d6ac60089ab5"
      },
      "execution_count": null,
      "outputs": [
        {
          "output_type": "execute_result",
          "data": {
            "text/plain": [
              "['foobar', 4]"
            ]
          },
          "metadata": {},
          "execution_count": 7
        }
      ]
    },
    {
      "cell_type": "code",
      "source": [
        "print(b + ['grault', 'garply'])\n",
        "print(b * 2)"
      ],
      "metadata": {
        "colab": {
          "base_uri": "https://localhost:8080/"
        },
        "id": "45yFIv3sEa1C",
        "outputId": "e3eb1099-1ffc-4d1e-99db-91b88a4c3e40"
      },
      "execution_count": null,
      "outputs": [
        {
          "output_type": "stream",
          "name": "stdout",
          "text": [
            "[21.42, 'foobar', 3, 4, 'bark', False, 3.14159, 'grault', 'garply']\n",
            "[21.42, 'foobar', 3, 4, 'bark', False, 3.14159, 21.42, 'foobar', 3, 4, 'bark', False, 3.14159]\n"
          ]
        }
      ]
    },
    {
      "cell_type": "code",
      "source": [
        "# len(), min(), max()\n",
        "\n",
        "print(a)\n",
        "\n",
        "print(len(a))\n",
        "print(min(a))\n",
        "print(max(a))"
      ],
      "metadata": {
        "colab": {
          "base_uri": "https://localhost:8080/"
        },
        "id": "t9fGnq-8Ei-c",
        "outputId": "8c9b5649-da40-4769-98ce-b0650186644c"
      },
      "execution_count": null,
      "outputs": [
        {
          "output_type": "stream",
          "name": "stdout",
          "text": [
            "['foo', 'bar', 'baz', 'qux']\n",
            "4\n",
            "bar\n",
            "qux\n"
          ]
        }
      ]
    },
    {
      "cell_type": "markdown",
      "source": [
        "**Modifikasi elemen dalam list**"
      ],
      "metadata": {
        "id": "fZrBww6jFtBJ"
      }
    },
    {
      "cell_type": "code",
      "source": [
        "print(a[2])"
      ],
      "metadata": {
        "colab": {
          "base_uri": "https://localhost:8080/"
        },
        "id": "bMB2tetnFwvB",
        "outputId": "3a0c1cd7-a5d8-4710-cf07-a24d12dbc0c3"
      },
      "execution_count": null,
      "outputs": [
        {
          "output_type": "stream",
          "name": "stdout",
          "text": [
            "baz\n"
          ]
        }
      ]
    },
    {
      "cell_type": "code",
      "source": [
        "a[2] = 'bras'\n",
        "\n",
        "print(a[2])"
      ],
      "metadata": {
        "colab": {
          "base_uri": "https://localhost:8080/"
        },
        "id": "LEcQml85F12P",
        "outputId": "72745146-d01b-46a1-91fc-23455b29ae78"
      },
      "execution_count": null,
      "outputs": [
        {
          "output_type": "stream",
          "name": "stdout",
          "text": [
            "bras\n"
          ]
        }
      ]
    },
    {
      "cell_type": "markdown",
      "source": [
        "**Menambahkan elemen dalam list**"
      ],
      "metadata": {
        "id": "SjIx3zKKGfAl"
      }
    },
    {
      "cell_type": "code",
      "source": [
        "print(a)"
      ],
      "metadata": {
        "colab": {
          "base_uri": "https://localhost:8080/"
        },
        "id": "BCUgMtA1Gi6-",
        "outputId": "9627512c-9e98-4c60-8dfb-fecb1ceeb75f"
      },
      "execution_count": null,
      "outputs": [
        {
          "output_type": "stream",
          "name": "stdout",
          "text": [
            "['foo', 'bar', 'bras', 'qux']\n"
          ]
        }
      ]
    },
    {
      "cell_type": "code",
      "source": [
        "a.append('bazquux')\n",
        "print(a)"
      ],
      "metadata": {
        "colab": {
          "base_uri": "https://localhost:8080/"
        },
        "id": "2jMMtkTBGkFN",
        "outputId": "2b3bbfe5-9b5f-4c9c-9367-6aa2e49c781b"
      },
      "execution_count": null,
      "outputs": [
        {
          "output_type": "stream",
          "name": "stdout",
          "text": [
            "['foo', 'bar', 'bras', 'qux', 'bazquux']\n"
          ]
        }
      ]
    },
    {
      "cell_type": "markdown",
      "source": [
        "**Menghapus elemen dalam list**"
      ],
      "metadata": {
        "id": "mQoSH07UGxa9"
      }
    },
    {
      "cell_type": "code",
      "source": [
        "del a[-1]"
      ],
      "metadata": {
        "id": "BnyZtobXGpV_"
      },
      "execution_count": null,
      "outputs": []
    },
    {
      "cell_type": "code",
      "source": [
        "print(a)"
      ],
      "metadata": {
        "colab": {
          "base_uri": "https://localhost:8080/"
        },
        "id": "J9aXq_XTG2ek",
        "outputId": "bcfbe44f-2155-4e5b-b0de-62f8a8d0de29"
      },
      "execution_count": null,
      "outputs": [
        {
          "output_type": "stream",
          "name": "stdout",
          "text": [
            "['foo', 'bar', 'bras', 'qux']\n"
          ]
        }
      ]
    },
    {
      "cell_type": "markdown",
      "source": [
        "**Unpacking**"
      ],
      "metadata": {
        "id": "p9f4lrxDHC-w"
      }
    },
    {
      "cell_type": "code",
      "source": [
        "a,b = [2,3]"
      ],
      "metadata": {
        "id": "8N6i9i9RG-_0"
      },
      "execution_count": null,
      "outputs": []
    },
    {
      "cell_type": "markdown",
      "source": [
        "**Nested List** (List di dalam list)"
      ],
      "metadata": {
        "id": "Qc9SC9sFH6eO"
      }
    },
    {
      "cell_type": "code",
      "source": [
        "nested_list = [[5,4,3], [1,2,3], [0,3]]"
      ],
      "metadata": {
        "id": "m8t1oAd1H-gU"
      },
      "execution_count": null,
      "outputs": []
    },
    {
      "cell_type": "code",
      "source": [
        "print(nested_list)"
      ],
      "metadata": {
        "colab": {
          "base_uri": "https://localhost:8080/"
        },
        "id": "Fn-uDc8OIE9y",
        "outputId": "85da0357-9bd5-42ac-db7c-325c580e7359"
      },
      "execution_count": null,
      "outputs": [
        {
          "output_type": "stream",
          "name": "stdout",
          "text": [
            "[[5, 4, 3], [1, 2, 3], [0, 3]]\n"
          ]
        }
      ]
    },
    {
      "cell_type": "code",
      "source": [
        "nested_list[1]"
      ],
      "metadata": {
        "colab": {
          "base_uri": "https://localhost:8080/"
        },
        "id": "kL8MzLA6IIbg",
        "outputId": "fa7d8b53-61f3-4f6d-b19c-7600a9b5f7d4"
      },
      "execution_count": null,
      "outputs": [
        {
          "output_type": "execute_result",
          "data": {
            "text/plain": [
              "[1, 2, 3]"
            ]
          },
          "metadata": {},
          "execution_count": 25
        }
      ]
    },
    {
      "cell_type": "code",
      "source": [
        "nested_list[1][2]"
      ],
      "metadata": {
        "colab": {
          "base_uri": "https://localhost:8080/"
        },
        "id": "7tjNexU-IKt0",
        "outputId": "d88a193f-b949-49c1-f29f-a06a5a69622e"
      },
      "execution_count": null,
      "outputs": [
        {
          "output_type": "execute_result",
          "data": {
            "text/plain": [
              "3"
            ]
          },
          "metadata": {},
          "execution_count": 26
        }
      ]
    },
    {
      "cell_type": "markdown",
      "source": [
        "### Tuple\n",
        "\n",
        "Tuple mirip dengan List, hanya saja Tuple bersifat immutable atau tidak dapat diubah nilainya setelah didefinisikan"
      ],
      "metadata": {
        "id": "ppkfgUDqG8ad"
      }
    },
    {
      "cell_type": "code",
      "source": [
        "A = (3,6,5,2,1,0)"
      ],
      "metadata": {
        "id": "vFGAui0GHON8"
      },
      "execution_count": null,
      "outputs": []
    },
    {
      "cell_type": "code",
      "source": [
        "A[3]"
      ],
      "metadata": {
        "colab": {
          "base_uri": "https://localhost:8080/"
        },
        "id": "wt2VadMZHg4O",
        "outputId": "02e34b80-238e-4bdf-d635-0282aa106eb4"
      },
      "execution_count": null,
      "outputs": [
        {
          "output_type": "execute_result",
          "data": {
            "text/plain": [
              "2"
            ]
          },
          "metadata": {},
          "execution_count": 19
        }
      ]
    },
    {
      "cell_type": "code",
      "source": [
        "A[-1]"
      ],
      "metadata": {
        "colab": {
          "base_uri": "https://localhost:8080/"
        },
        "id": "T3canRJqHj_h",
        "outputId": "8c1baa2e-298b-450c-c2d3-d46fc34ca97c"
      },
      "execution_count": null,
      "outputs": [
        {
          "output_type": "execute_result",
          "data": {
            "text/plain": [
              "0"
            ]
          },
          "metadata": {},
          "execution_count": 20
        }
      ]
    },
    {
      "cell_type": "code",
      "source": [
        "print(A[3])\n",
        "A[3] = 4"
      ],
      "metadata": {
        "colab": {
          "base_uri": "https://localhost:8080/",
          "height": 198
        },
        "id": "7nFgd0GJHl-y",
        "outputId": "599bd8f2-08e3-4097-fda2-8c4daa5e3066"
      },
      "execution_count": null,
      "outputs": [
        {
          "output_type": "stream",
          "name": "stdout",
          "text": [
            "2\n"
          ]
        },
        {
          "output_type": "error",
          "ename": "TypeError",
          "evalue": "ignored",
          "traceback": [
            "\u001b[0;31m---------------------------------------------------------------------------\u001b[0m",
            "\u001b[0;31mTypeError\u001b[0m                                 Traceback (most recent call last)",
            "\u001b[0;32m<ipython-input-21-8530498e5ff1>\u001b[0m in \u001b[0;36m<module>\u001b[0;34m()\u001b[0m\n\u001b[1;32m      1\u001b[0m \u001b[0mprint\u001b[0m\u001b[0;34m(\u001b[0m\u001b[0mA\u001b[0m\u001b[0;34m[\u001b[0m\u001b[0;36m3\u001b[0m\u001b[0;34m]\u001b[0m\u001b[0;34m)\u001b[0m\u001b[0;34m\u001b[0m\u001b[0;34m\u001b[0m\u001b[0m\n\u001b[0;32m----> 2\u001b[0;31m \u001b[0mA\u001b[0m\u001b[0;34m[\u001b[0m\u001b[0;36m3\u001b[0m\u001b[0;34m]\u001b[0m \u001b[0;34m=\u001b[0m \u001b[0;36m4\u001b[0m\u001b[0;34m\u001b[0m\u001b[0;34m\u001b[0m\u001b[0m\n\u001b[0m",
            "\u001b[0;31mTypeError\u001b[0m: 'tuple' object does not support item assignment"
          ]
        }
      ]
    },
    {
      "cell_type": "markdown",
      "source": [
        "**Packing and Unpacking**"
      ],
      "metadata": {
        "id": "VfxE9KReHwtC"
      }
    },
    {
      "cell_type": "code",
      "source": [
        "(s1, s2, s3, s4) = ('foo', 'bar', 'baz', 'qux')\n",
        "s1"
      ],
      "metadata": {
        "colab": {
          "base_uri": "https://localhost:8080/",
          "height": 37
        },
        "id": "OFVIMpYVHsVu",
        "outputId": "89e5864c-1bdf-4b82-bc6a-19656c1a64bd"
      },
      "execution_count": null,
      "outputs": [
        {
          "output_type": "execute_result",
          "data": {
            "text/plain": [
              "'foo'"
            ],
            "application/vnd.google.colaboratory.intrinsic+json": {
              "type": "string"
            }
          },
          "metadata": {},
          "execution_count": 22
        }
      ]
    },
    {
      "cell_type": "markdown",
      "source": [
        "### Dictionary"
      ],
      "metadata": {
        "id": "ASnBS2v8IRTJ"
      }
    },
    {
      "cell_type": "code",
      "source": [
        "Indonesia = {\n",
        "    'Ibukota':'Jakarta',\n",
        "    'Lagu Kebangsaan':'Indonesia Raya',\n",
        "    'Mata Uang':'Rupiah',\n",
        "    'Sistem Pemerintahan':'Presidensial'\n",
        "}"
      ],
      "metadata": {
        "id": "ITw2ZPtdH0cI"
      },
      "execution_count": 7,
      "outputs": []
    },
    {
      "cell_type": "code",
      "source": [
        "Indonesia"
      ],
      "metadata": {
        "colab": {
          "base_uri": "https://localhost:8080/"
        },
        "id": "YXQ9X215Ir7j",
        "outputId": "e0ea9a4c-9bb9-4796-ecee-ef7c024a6e78"
      },
      "execution_count": 8,
      "outputs": [
        {
          "output_type": "execute_result",
          "data": {
            "text/plain": [
              "{'Ibukota': 'Jakarta',\n",
              " 'Lagu Kebangsaan': 'Indonesia Raya',\n",
              " 'Mata Uang': 'Rupiah',\n",
              " 'Sistem Pemerintahan': 'Presidensial'}"
            ]
          },
          "metadata": {},
          "execution_count": 8
        }
      ]
    },
    {
      "cell_type": "code",
      "source": [
        "Indonesia['Ibukota']"
      ],
      "metadata": {
        "colab": {
          "base_uri": "https://localhost:8080/",
          "height": 35
        },
        "id": "h-JGRYN_Iwu-",
        "outputId": "8fae91bd-3a1d-4d9d-9693-e3254791c47f"
      },
      "execution_count": 9,
      "outputs": [
        {
          "output_type": "execute_result",
          "data": {
            "text/plain": [
              "'Jakarta'"
            ],
            "application/vnd.google.colaboratory.intrinsic+json": {
              "type": "string"
            }
          },
          "metadata": {},
          "execution_count": 9
        }
      ]
    },
    {
      "cell_type": "code",
      "source": [
        "Indonesia['Ibukota'] = 'Nusantara'"
      ],
      "metadata": {
        "id": "46d47kteIymK"
      },
      "execution_count": 10,
      "outputs": []
    },
    {
      "cell_type": "code",
      "source": [
        "Indonesia"
      ],
      "metadata": {
        "colab": {
          "base_uri": "https://localhost:8080/"
        },
        "id": "IPG8nE_qI9Q7",
        "outputId": "1096b3b8-7e7a-42c9-ff3c-f693de8dbd1b"
      },
      "execution_count": 11,
      "outputs": [
        {
          "output_type": "execute_result",
          "data": {
            "text/plain": [
              "{'Ibukota': 'Nusantara',\n",
              " 'Lagu Kebangsaan': 'Indonesia Raya',\n",
              " 'Mata Uang': 'Rupiah',\n",
              " 'Sistem Pemerintahan': 'Presidensial'}"
            ]
          },
          "metadata": {},
          "execution_count": 11
        }
      ]
    },
    {
      "cell_type": "code",
      "source": [
        "Indonesia['Benua'] = 'Asia'"
      ],
      "metadata": {
        "id": "jlaFV8IpI-GE"
      },
      "execution_count": 12,
      "outputs": []
    },
    {
      "cell_type": "code",
      "source": [
        "Indonesia"
      ],
      "metadata": {
        "colab": {
          "base_uri": "https://localhost:8080/"
        },
        "id": "_-038u_WJCak",
        "outputId": "b1ac4f3f-79e5-44b2-9b2f-6ac4e119b7d2"
      },
      "execution_count": 13,
      "outputs": [
        {
          "output_type": "execute_result",
          "data": {
            "text/plain": [
              "{'Benua': 'Asia',\n",
              " 'Ibukota': 'Nusantara',\n",
              " 'Lagu Kebangsaan': 'Indonesia Raya',\n",
              " 'Mata Uang': 'Rupiah',\n",
              " 'Sistem Pemerintahan': 'Presidensial'}"
            ]
          },
          "metadata": {},
          "execution_count": 13
        }
      ]
    },
    {
      "cell_type": "markdown",
      "source": [
        "**Building a Dictionary Incrementally**"
      ],
      "metadata": {
        "id": "guFRdj_sJVby"
      }
    },
    {
      "cell_type": "code",
      "source": [
        "person = {}\n",
        "\n",
        "person['fname'] = 'Hack'\n",
        "person['lname'] = 'PTP'\n",
        "person['age'] = 51\n",
        "person['spouse'] = 'Edna'\n",
        "person['children'] = ['Ralph', 'Betty', 'Joey']\n",
        "person['pets'] = {'dog': 'Fido', 'cat': 'Sox'}"
      ],
      "metadata": {
        "id": "H2gBZNeAJDLn"
      },
      "execution_count": 14,
      "outputs": []
    },
    {
      "cell_type": "markdown",
      "source": [
        "**Built-In Methods**"
      ],
      "metadata": {
        "id": "vN6K7xQbJfef"
      }
    },
    {
      "cell_type": "code",
      "source": [
        "d = {'a': 10, 'b': 20, 'c': 30}\n",
        "\n",
        "# items\n",
        "print(d.items())\n",
        "\n",
        "# keys\n",
        "print(d.keys())\n",
        "\n",
        "# values\n",
        "print(d.values())"
      ],
      "metadata": {
        "colab": {
          "base_uri": "https://localhost:8080/"
        },
        "id": "JSvIXYwkJbSd",
        "outputId": "0d876613-cdfc-490e-abfd-9a7907dba05b"
      },
      "execution_count": 15,
      "outputs": [
        {
          "output_type": "stream",
          "name": "stdout",
          "text": [
            "dict_items([('a', 10), ('b', 20), ('c', 30)])\n",
            "dict_keys(['a', 'b', 'c'])\n",
            "dict_values([10, 20, 30])\n"
          ]
        }
      ]
    },
    {
      "cell_type": "code",
      "source": [
        "# items\n",
        "print(person.items())\n",
        "\n",
        "# keys\n",
        "print(person.keys())\n",
        "\n",
        "# values\n",
        "print(person.values())"
      ],
      "metadata": {
        "colab": {
          "base_uri": "https://localhost:8080/"
        },
        "id": "rhgEhkBWJoa3",
        "outputId": "27de1f82-9803-4bc7-c61e-2a0186eca36a"
      },
      "execution_count": 16,
      "outputs": [
        {
          "output_type": "stream",
          "name": "stdout",
          "text": [
            "dict_items([('fname', 'Hack'), ('lname', 'PTP'), ('age', 51), ('spouse', 'Edna'), ('children', ['Ralph', 'Betty', 'Joey']), ('pets', {'dog': 'Fido', 'cat': 'Sox'})])\n",
            "dict_keys(['fname', 'lname', 'age', 'spouse', 'children', 'pets'])\n",
            "dict_values(['Hack', 'PTP', 51, 'Edna', ['Ralph', 'Betty', 'Joey'], {'dog': 'Fido', 'cat': 'Sox'}])\n"
          ]
        }
      ]
    },
    {
      "cell_type": "markdown",
      "source": [
        "# LATIHAN"
      ],
      "metadata": {
        "id": "6kwJzDnEgY5x"
      }
    },
    {
      "cell_type": "markdown",
      "source": [
        "1. Write a Python program to display the first and last colors from the following list.\n",
        "\n",
        "color_list = [\"Red\",\"Green\",\"White\" ,\"Black\"]"
      ],
      "metadata": {
        "id": "rQVZp4YOgbNZ"
      }
    },
    {
      "cell_type": "code",
      "source": [
        "color_list = [\"Red\",\"Green\",\"White\" ,\"Black\"]\n",
        "color_list"
      ],
      "metadata": {
        "id": "LecSDDasgdxc",
        "colab": {
          "base_uri": "https://localhost:8080/"
        },
        "outputId": "fcb8a224-3257-4392-af77-7182190010da"
      },
      "execution_count": 2,
      "outputs": [
        {
          "output_type": "execute_result",
          "data": {
            "text/plain": [
              "['Red', 'Green', 'White', 'Black']"
            ]
          },
          "metadata": {},
          "execution_count": 2
        }
      ]
    },
    {
      "cell_type": "markdown",
      "source": [
        "2. Write a Python program to print a specified list after removing the 0th, 4th and 5th elements.\n",
        "\n",
        "Sample List : ['Red', 'Green', 'White', 'Black', 'Pink', 'Yellow']\n",
        "\n",
        "Expected Output : ['Green', 'White', 'Black']\n"
      ],
      "metadata": {
        "id": "0uRJ-CQygeAS"
      }
    },
    {
      "cell_type": "code",
      "source": [
        "a = ['Red', 'Green', 'White', 'Black', 'Pink', 'Yellow']\n",
        "del a[0]\n",
        "del a[3]\n",
        "del a[3]\n",
        "a\n",
        "\n"
      ],
      "metadata": {
        "id": "9vn0MkO5g9hH",
        "colab": {
          "base_uri": "https://localhost:8080/"
        },
        "outputId": "4194bc5c-df93-4b3d-a334-a0d7ab4548a1"
      },
      "execution_count": 6,
      "outputs": [
        {
          "output_type": "execute_result",
          "data": {
            "text/plain": [
              "['Green', 'White', 'Black']"
            ]
          },
          "metadata": {},
          "execution_count": 6
        }
      ]
    },
    {
      "cell_type": "markdown",
      "source": [
        "3. Write a Python script to add a key to a dictionary.\n",
        "\n",
        "Sample Dictionary : {0: 10, 1: 20}\n",
        "\n",
        "Expected Result : {0: 10, 1: 20, 2: 30}"
      ],
      "metadata": {
        "id": "higNfBQrg7Z-"
      }
    },
    {
      "cell_type": "code",
      "source": [
        "Dictionary = {0: 10, 1: 20}\n",
        "Dictionary[2]= 30\n",
        "Dictionary"
      ],
      "metadata": {
        "id": "sH2rvsyUhGWR",
        "colab": {
          "base_uri": "https://localhost:8080/"
        },
        "outputId": "4507bab9-3692-45b7-e029-d1fad7f0ce98"
      },
      "execution_count": 19,
      "outputs": [
        {
          "output_type": "execute_result",
          "data": {
            "text/plain": [
              "{0: 10, 1: 20, 2: 30}"
            ]
          },
          "metadata": {},
          "execution_count": 19
        }
      ]
    },
    {
      "cell_type": "markdown",
      "source": [
        "4. Write a Python program to get a single string from two given strings, separated by a space and swap the first two characters of each string. \n",
        "\n",
        "Sample String : 'abc', 'xyz' \n",
        "\n",
        "Expected Result : 'xyc abz'"
      ],
      "metadata": {
        "id": "LSxGcopGhGna"
      }
    },
    {
      "cell_type": "code",
      "source": [
        "stringsatu = input(\"string 1 :\")\n",
        "stringdua = input(\"string 2 :\")\n",
        "\n",
        "liststringsatu = list(stringsatu)\n",
        "liststringdua = list(stringdua)\n",
        "\n",
        "print(liststringdua[0]+liststringdua[1]+liststringsatu[2]+\" \"+liststringsatu[0]+liststringsatu[1]+liststringdua[2])"
      ],
      "metadata": {
        "id": "uDvAif6shUzv",
        "colab": {
          "base_uri": "https://localhost:8080/"
        },
        "outputId": "60d16649-ceb3-4f09-f5e3-60d9a88d149e"
      },
      "execution_count": 31,
      "outputs": [
        {
          "output_type": "stream",
          "name": "stdout",
          "text": [
            "string 1 :abc\n",
            "string 2 :xyz\n",
            "xyc abz\n"
          ]
        }
      ]
    }
  ]
}