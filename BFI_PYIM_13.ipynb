{
  "nbformat": 4,
  "nbformat_minor": 0,
  "metadata": {
    "colab": {
      "name": "BFI PYIM 13.ipynb",
      "provenance": [],
      "include_colab_link": true
    },
    "kernelspec": {
      "name": "python3",
      "display_name": "Python 3"
    },
    "language_info": {
      "name": "python"
    }
  },
  "cells": [
    {
      "cell_type": "markdown",
      "metadata": {
        "id": "view-in-github",
        "colab_type": "text"
      },
      "source": [
        "<a href=\"https://colab.research.google.com/github/r-ap/TrainingMachineLearning/blob/main/BFI_PYIM_13.ipynb\" target=\"_parent\"><img src=\"https://colab.research.google.com/assets/colab-badge.svg\" alt=\"Open In Colab\"/></a>"
      ]
    },
    {
      "cell_type": "markdown",
      "source": [
        "# **Klasifikasi**"
      ],
      "metadata": {
        "id": "Eo5vxd01Chkd"
      }
    },
    {
      "cell_type": "code",
      "source": [
        "import pandas as pd\n",
        "import matplotlib.pyplot as plt\n",
        "import seaborn as sns\n",
        "from sklearn.model_selection import train_test_split\n",
        "from sklearn.preprocessing import StandardScaler, MinMaxScaler"
      ],
      "metadata": {
        "id": "-Z7c3R1TEFrt"
      },
      "execution_count": null,
      "outputs": []
    },
    {
      "cell_type": "code",
      "source": [
        "df = pd.read_csv('https://raw.githubusercontent.com/ardhiraka/FSDS_Guidelines/master/p1/v3/w1/P1W1D4AM%20-%20KNN%20%26%20Naive%20Bayes.csv')\n",
        "df.head()"
      ],
      "metadata": {
        "colab": {
          "base_uri": "https://localhost:8080/",
          "height": 270
        },
        "id": "I7_twOOsopQe",
        "outputId": "c6be2ba4-7809-473b-cdb1-f5503e5505ad"
      },
      "execution_count": null,
      "outputs": [
        {
          "output_type": "execute_result",
          "data": {
            "text/plain": [
              "   Pregnancies  Glucose  BloodPressure  SkinThickness  Insulin   BMI  \\\n",
              "0            6      148             72             35        0  33.6   \n",
              "1            1       85             66             29        0  26.6   \n",
              "2            8      183             64              0        0  23.3   \n",
              "3            1       89             66             23       94  28.1   \n",
              "4            0      137             40             35      168  43.1   \n",
              "\n",
              "   DiabetesPedigreeFunction  Age  Outcome  \n",
              "0                     0.627   50        1  \n",
              "1                     0.351   31        0  \n",
              "2                     0.672   32        1  \n",
              "3                     0.167   21        0  \n",
              "4                     2.288   33        1  "
            ],
            "text/html": [
              "\n",
              "  <div id=\"df-b6a53a38-7266-455f-aeb2-13813ace1bbd\">\n",
              "    <div class=\"colab-df-container\">\n",
              "      <div>\n",
              "<style scoped>\n",
              "    .dataframe tbody tr th:only-of-type {\n",
              "        vertical-align: middle;\n",
              "    }\n",
              "\n",
              "    .dataframe tbody tr th {\n",
              "        vertical-align: top;\n",
              "    }\n",
              "\n",
              "    .dataframe thead th {\n",
              "        text-align: right;\n",
              "    }\n",
              "</style>\n",
              "<table border=\"1\" class=\"dataframe\">\n",
              "  <thead>\n",
              "    <tr style=\"text-align: right;\">\n",
              "      <th></th>\n",
              "      <th>Pregnancies</th>\n",
              "      <th>Glucose</th>\n",
              "      <th>BloodPressure</th>\n",
              "      <th>SkinThickness</th>\n",
              "      <th>Insulin</th>\n",
              "      <th>BMI</th>\n",
              "      <th>DiabetesPedigreeFunction</th>\n",
              "      <th>Age</th>\n",
              "      <th>Outcome</th>\n",
              "    </tr>\n",
              "  </thead>\n",
              "  <tbody>\n",
              "    <tr>\n",
              "      <th>0</th>\n",
              "      <td>6</td>\n",
              "      <td>148</td>\n",
              "      <td>72</td>\n",
              "      <td>35</td>\n",
              "      <td>0</td>\n",
              "      <td>33.6</td>\n",
              "      <td>0.627</td>\n",
              "      <td>50</td>\n",
              "      <td>1</td>\n",
              "    </tr>\n",
              "    <tr>\n",
              "      <th>1</th>\n",
              "      <td>1</td>\n",
              "      <td>85</td>\n",
              "      <td>66</td>\n",
              "      <td>29</td>\n",
              "      <td>0</td>\n",
              "      <td>26.6</td>\n",
              "      <td>0.351</td>\n",
              "      <td>31</td>\n",
              "      <td>0</td>\n",
              "    </tr>\n",
              "    <tr>\n",
              "      <th>2</th>\n",
              "      <td>8</td>\n",
              "      <td>183</td>\n",
              "      <td>64</td>\n",
              "      <td>0</td>\n",
              "      <td>0</td>\n",
              "      <td>23.3</td>\n",
              "      <td>0.672</td>\n",
              "      <td>32</td>\n",
              "      <td>1</td>\n",
              "    </tr>\n",
              "    <tr>\n",
              "      <th>3</th>\n",
              "      <td>1</td>\n",
              "      <td>89</td>\n",
              "      <td>66</td>\n",
              "      <td>23</td>\n",
              "      <td>94</td>\n",
              "      <td>28.1</td>\n",
              "      <td>0.167</td>\n",
              "      <td>21</td>\n",
              "      <td>0</td>\n",
              "    </tr>\n",
              "    <tr>\n",
              "      <th>4</th>\n",
              "      <td>0</td>\n",
              "      <td>137</td>\n",
              "      <td>40</td>\n",
              "      <td>35</td>\n",
              "      <td>168</td>\n",
              "      <td>43.1</td>\n",
              "      <td>2.288</td>\n",
              "      <td>33</td>\n",
              "      <td>1</td>\n",
              "    </tr>\n",
              "  </tbody>\n",
              "</table>\n",
              "</div>\n",
              "      <button class=\"colab-df-convert\" onclick=\"convertToInteractive('df-b6a53a38-7266-455f-aeb2-13813ace1bbd')\"\n",
              "              title=\"Convert this dataframe to an interactive table.\"\n",
              "              style=\"display:none;\">\n",
              "        \n",
              "  <svg xmlns=\"http://www.w3.org/2000/svg\" height=\"24px\"viewBox=\"0 0 24 24\"\n",
              "       width=\"24px\">\n",
              "    <path d=\"M0 0h24v24H0V0z\" fill=\"none\"/>\n",
              "    <path d=\"M18.56 5.44l.94 2.06.94-2.06 2.06-.94-2.06-.94-.94-2.06-.94 2.06-2.06.94zm-11 1L8.5 8.5l.94-2.06 2.06-.94-2.06-.94L8.5 2.5l-.94 2.06-2.06.94zm10 10l.94 2.06.94-2.06 2.06-.94-2.06-.94-.94-2.06-.94 2.06-2.06.94z\"/><path d=\"M17.41 7.96l-1.37-1.37c-.4-.4-.92-.59-1.43-.59-.52 0-1.04.2-1.43.59L10.3 9.45l-7.72 7.72c-.78.78-.78 2.05 0 2.83L4 21.41c.39.39.9.59 1.41.59.51 0 1.02-.2 1.41-.59l7.78-7.78 2.81-2.81c.8-.78.8-2.07 0-2.86zM5.41 20L4 18.59l7.72-7.72 1.47 1.35L5.41 20z\"/>\n",
              "  </svg>\n",
              "      </button>\n",
              "      \n",
              "  <style>\n",
              "    .colab-df-container {\n",
              "      display:flex;\n",
              "      flex-wrap:wrap;\n",
              "      gap: 12px;\n",
              "    }\n",
              "\n",
              "    .colab-df-convert {\n",
              "      background-color: #E8F0FE;\n",
              "      border: none;\n",
              "      border-radius: 50%;\n",
              "      cursor: pointer;\n",
              "      display: none;\n",
              "      fill: #1967D2;\n",
              "      height: 32px;\n",
              "      padding: 0 0 0 0;\n",
              "      width: 32px;\n",
              "    }\n",
              "\n",
              "    .colab-df-convert:hover {\n",
              "      background-color: #E2EBFA;\n",
              "      box-shadow: 0px 1px 2px rgba(60, 64, 67, 0.3), 0px 1px 3px 1px rgba(60, 64, 67, 0.15);\n",
              "      fill: #174EA6;\n",
              "    }\n",
              "\n",
              "    [theme=dark] .colab-df-convert {\n",
              "      background-color: #3B4455;\n",
              "      fill: #D2E3FC;\n",
              "    }\n",
              "\n",
              "    [theme=dark] .colab-df-convert:hover {\n",
              "      background-color: #434B5C;\n",
              "      box-shadow: 0px 1px 3px 1px rgba(0, 0, 0, 0.15);\n",
              "      filter: drop-shadow(0px 1px 2px rgba(0, 0, 0, 0.3));\n",
              "      fill: #FFFFFF;\n",
              "    }\n",
              "  </style>\n",
              "\n",
              "      <script>\n",
              "        const buttonEl =\n",
              "          document.querySelector('#df-b6a53a38-7266-455f-aeb2-13813ace1bbd button.colab-df-convert');\n",
              "        buttonEl.style.display =\n",
              "          google.colab.kernel.accessAllowed ? 'block' : 'none';\n",
              "\n",
              "        async function convertToInteractive(key) {\n",
              "          const element = document.querySelector('#df-b6a53a38-7266-455f-aeb2-13813ace1bbd');\n",
              "          const dataTable =\n",
              "            await google.colab.kernel.invokeFunction('convertToInteractive',\n",
              "                                                     [key], {});\n",
              "          if (!dataTable) return;\n",
              "\n",
              "          const docLinkHtml = 'Like what you see? Visit the ' +\n",
              "            '<a target=\"_blank\" href=https://colab.research.google.com/notebooks/data_table.ipynb>data table notebook</a>'\n",
              "            + ' to learn more about interactive tables.';\n",
              "          element.innerHTML = '';\n",
              "          dataTable['output_type'] = 'display_data';\n",
              "          await google.colab.output.renderOutput(dataTable, element);\n",
              "          const docLink = document.createElement('div');\n",
              "          docLink.innerHTML = docLinkHtml;\n",
              "          element.appendChild(docLink);\n",
              "        }\n",
              "      </script>\n",
              "    </div>\n",
              "  </div>\n",
              "  "
            ]
          },
          "metadata": {},
          "execution_count": 37
        }
      ]
    },
    {
      "cell_type": "code",
      "source": [
        "X = df.drop(columns='Outcome')\n",
        "y = df['Outcome']"
      ],
      "metadata": {
        "id": "KfoHUMtiN7xf"
      },
      "execution_count": null,
      "outputs": []
    },
    {
      "cell_type": "code",
      "source": [
        "X_train, X_test, y_train, y_test = train_test_split(X,y,train_size=0.8, stratify=y)"
      ],
      "metadata": {
        "id": "IuQfmReIOEjI"
      },
      "execution_count": null,
      "outputs": []
    },
    {
      "cell_type": "code",
      "source": [
        "y.value_counts().plot(kind='bar')"
      ],
      "metadata": {
        "colab": {
          "base_uri": "https://localhost:8080/",
          "height": 300
        },
        "id": "vV37xKUSD0tC",
        "outputId": "cfab4de3-9a80-416c-f43b-f4ee40256dd3"
      },
      "execution_count": null,
      "outputs": [
        {
          "output_type": "execute_result",
          "data": {
            "text/plain": [
              "<matplotlib.axes._subplots.AxesSubplot at 0x7fd7a967f950>"
            ]
          },
          "metadata": {},
          "execution_count": 40
        },
        {
          "output_type": "display_data",
          "data": {
            "text/plain": [
              "<Figure size 432x288 with 1 Axes>"
            ],
            "image/png": "[encoded data removed]"
          },
          "metadata": {
            "needs_background": "light"
          }
        }
      ]
    },
    {
      "cell_type": "code",
      "source": [
        "y_train.value_counts().plot(kind='bar')"
      ],
      "metadata": {
        "colab": {
          "base_uri": "https://localhost:8080/",
          "height": 300
        },
        "id": "u_8HjtCgOOhu",
        "outputId": "524f8109-7609-471e-f14b-5db28cebf056"
      },
      "execution_count": null,
      "outputs": [
        {
          "output_type": "execute_result",
          "data": {
            "text/plain": [
              "<matplotlib.axes._subplots.AxesSubplot at 0x7fd7b9acaa10>"
            ]
          },
          "metadata": {},
          "execution_count": 5
        },
        {
          "output_type": "display_data",
          "data": {
            "text/plain": [
              "<Figure size 432x288 with 1 Axes>"
            ],
            "image/png": "[encoded data removed]"
          },
          "metadata": {
            "needs_background": "light"
          }
        }
      ]
    },
    {
      "cell_type": "code",
      "source": [
        "y_test.value_counts().plot(kind='bar')"
      ],
      "metadata": {
        "colab": {
          "base_uri": "https://localhost:8080/",
          "height": 300
        },
        "id": "_cSmrUSREJsA",
        "outputId": "ad8ea390-6193-41c1-93cd-78eac4ccad04"
      },
      "execution_count": null,
      "outputs": [
        {
          "output_type": "execute_result",
          "data": {
            "text/plain": [
              "<matplotlib.axes._subplots.AxesSubplot at 0x7fd7a951eb50>"
            ]
          },
          "metadata": {},
          "execution_count": 41
        },
        {
          "output_type": "display_data",
          "data": {
            "text/plain": [
              "<Figure size 432x288 with 1 Axes>"
            ],
            "image/png": "[encoded data removed]"
          },
          "metadata": {
            "needs_background": "light"
          }
        }
      ]
    },
    {
      "cell_type": "markdown",
      "source": [
        "### Resampling\n",
        "\n",
        "- Undersample\n",
        "- Oversample (SMOTE)"
      ],
      "metadata": {
        "id": "8KuREWyBEraE"
      }
    },
    {
      "cell_type": "code",
      "source": [
        "y_train_0 = y_train[y_train==0]\n",
        "y_train_1 = y_train[y_train==1]\n",
        "\n",
        "y_train_0_sample = y_train_0.sample(len(y_train_1))\n",
        "y_train_sample = pd.concat([y_train_0_sample,y_train_1]).sample(2*len(y_train_1))\n",
        "y_train_sample"
      ],
      "metadata": {
        "colab": {
          "base_uri": "https://localhost:8080/"
        },
        "id": "4XgYT2ITOxGT",
        "outputId": "87841f5b-198e-40a8-e19d-f6e29b8d2744"
      },
      "execution_count": null,
      "outputs": [
        {
          "output_type": "execute_result",
          "data": {
            "text/plain": [
              "422    0\n",
              "546    1\n",
              "519    0\n",
              "138    0\n",
              "411    0\n",
              "      ..\n",
              "463    0\n",
              "379    0\n",
              "119    0\n",
              "276    1\n",
              "214    1\n",
              "Name: Outcome, Length: 428, dtype: int64"
            ]
          },
          "metadata": {},
          "execution_count": 6
        }
      ]
    },
    {
      "cell_type": "code",
      "source": [
        "X_train_sample = X_train.loc[y_train_sample.index]"
      ],
      "metadata": {
        "id": "iYturIr9P5iB"
      },
      "execution_count": null,
      "outputs": []
    },
    {
      "cell_type": "code",
      "source": [
        "y_train_sample.value_counts().plot(kind='bar')"
      ],
      "metadata": {
        "colab": {
          "base_uri": "https://localhost:8080/",
          "height": 300
        },
        "id": "RgIQxeZqQCse",
        "outputId": "77220a49-da46-4dae-f641-48ab690b75da"
      },
      "execution_count": null,
      "outputs": [
        {
          "output_type": "execute_result",
          "data": {
            "text/plain": [
              "<matplotlib.axes._subplots.AxesSubplot at 0x7fd7ac8a3a90>"
            ]
          },
          "metadata": {},
          "execution_count": 8
        },
        {
          "output_type": "display_data",
          "data": {
            "text/plain": [
              "<Figure size 432x288 with 1 Axes>"
            ],
            "image/png": "[encoded data removed]"
          },
          "metadata": {
            "needs_background": "light"
          }
        }
      ]
    },
    {
      "cell_type": "code",
      "source": [
        "def diagnostic_plots(df, variable):\n",
        "    # Define figure size\n",
        "    plt.figure(figsize=(16, 4))\n",
        "\n",
        "    # Histogram\n",
        "    plt.subplot(1, 2, 1)\n",
        "    sns.histplot(df[variable], bins=30)\n",
        "    plt.title('Histogram')\n",
        "\n",
        "    # Boxplot\n",
        "    plt.subplot(1, 2, 2)\n",
        "    sns.boxplot(y=df[variable])\n",
        "    plt.title('Boxplot')\n",
        "\n",
        "    plt.show()\n",
        "\n",
        "for col in X_train_sample.columns:\n",
        "  diagnostic_plots(X_train_sample, col)"
      ],
      "metadata": {
        "colab": {
          "base_uri": "https://localhost:8080/",
          "height": 1000
        },
        "id": "aZrqhSaDN4Yy",
        "outputId": "0b5fb9cb-be25-4634-e315-e8aca40f33a0"
      },
      "execution_count": null,
      "outputs": [
        {
          "output_type": "display_data",
          "data": {
            "text/plain": [
              "<Figure size 1152x288 with 2 Axes>"
            ],
            "image/png": "[encoded data removed]"
          },
          "metadata": {
            "needs_background": "light"
          }
        },
        {
          "output_type": "display_data",
          "data": {
            "text/plain": [
              "<Figure size 1152x288 with 2 Axes>"
            ],
            "image/png": "[encoded data removed]"
          },
          "metadata": {
            "needs_background": "light"
          }
        },
        {
          "output_type": "display_data",
          "data": {
            "text/plain": [
              "<Figure size 1152x288 with 2 Axes>"
            ],
            "image/png": "[encoded data removed]"
          },
          "metadata": {
            "needs_background": "light"
          }
        },
        {
          "output_type": "display_data",
          "data": {
            "text/plain": [
              "<Figure size 1152x288 with 2 Axes>"
            ],
            "image/png": "[encoded data removed]"
          },
          "metadata": {
            "needs_background": "light"
          }
        },
        {
          "output_type": "display_data",
          "data": {
            "text/plain": [
              "<Figure size 1152x288 with 2 Axes>"
            ],
            "image/png": "[encoded data removed]"
          },
          "metadata": {
            "needs_background": "light"
          }
        },
        {
          "output_type": "display_data",
          "data": {
            "text/plain": [
              "<Figure size 1152x288 with 2 Axes>"
            ],
            "image/png": "[encoded data removed]"
          },
          "metadata": {
            "needs_background": "light"
          }
        },
        {
          "output_type": "display_data",
          "data": {
            "text/plain": [
              "<Figure size 1152x288 with 2 Axes>"
            ],
            "image/png": "[encoded data removed]"
          },
          "metadata": {
            "needs_background": "light"
          }
        },
        {
          "output_type": "display_data",
          "data": {
            "text/plain": [
              "<Figure size 1152x288 with 2 Axes>"
            ],
            "image/png": "[encoded data removed]"
          },
          "metadata": {
            "needs_background": "light"
          }
        }
      ]
    },
    {
      "cell_type": "code",
      "source": [
        "X_train_samp = X_train_sample[(X_train_sample['BMI']>0) & (X_train_sample['BloodPressure']>0) & (X_train_sample['Glucose']>0)]\n",
        "y_train_samp = y_train_sample.loc[X_train_samp.index]"
      ],
      "metadata": {
        "id": "eliCB9qmQqmN"
      },
      "execution_count": null,
      "outputs": []
    },
    {
      "cell_type": "code",
      "source": [
        "for col in X_train_samp:\n",
        "  print(f\"{col} skewness: {X_train_samp[col].skew()}\")"
      ],
      "metadata": {
        "colab": {
          "base_uri": "https://localhost:8080/"
        },
        "id": "L2q9oXRNSFiC",
        "outputId": "eead9b78-8605-46b9-d5f7-4c410bf51c0e"
      },
      "execution_count": null,
      "outputs": [
        {
          "output_type": "stream",
          "name": "stdout",
          "text": [
            "Pregnancies skewness: 0.8198459311937266\n",
            "Glucose skewness: 0.4216491645810772\n",
            "BloodPressure skewness: 0.24564765906474811\n",
            "SkinThickness skewness: -0.10757189165266366\n",
            "Insulin skewness: 2.0857056026272747\n",
            "BMI skewness: 0.6863800331749683\n",
            "DiabetesPedigreeFunction skewness: 2.022209801242754\n",
            "Age skewness: 0.9818709446717292\n"
          ]
        }
      ]
    },
    {
      "cell_type": "code",
      "source": [
        "scaler = MinMaxScaler()\n",
        "scaler.fit(X_train_samp)\n",
        "X_train_scaled = scaler.transform(X_train_samp)\n",
        "X_test_scaled = scaler.transform(X_test)"
      ],
      "metadata": {
        "id": "KDAbSlF0SsOb"
      },
      "execution_count": null,
      "outputs": []
    },
    {
      "cell_type": "markdown",
      "source": [
        "# Model"
      ],
      "metadata": {
        "id": "5d4QUQ7xClYt"
      }
    },
    {
      "cell_type": "markdown",
      "source": [
        "## Logistic Regression\n",
        "\n",
        "- Model klasifikasi yang berbasis linear regression dimana hasil dari model linear di-input ke fungsi sigmoid untuk ditentukan penentuan kelasnya\n",
        "\n",
        "<img src=\"https://studymachinelearning.com/wp-content/uploads/2019/09/sigmoid_graph.png\"></img>"
      ],
      "metadata": {
        "id": "ed9_S-yMCp2n"
      }
    },
    {
      "cell_type": "code",
      "execution_count": null,
      "metadata": {
        "id": "kwTh0vjACUsz"
      },
      "outputs": [],
      "source": [
        "from sklearn.linear_model import LogisticRegression\n",
        "\n",
        "logreg = LogisticRegression(penalty=\"l2\", C = 1, solver=\"lbfgs\")\n",
        "\n",
        "logreg.fit(X_train_scaled,y_train_samp)\n",
        "\n",
        "y_pred_train_lr = logreg.predict(X_train_scaled)\n",
        "y_pred_test_lr = logreg.predict(X_test_scaled)\n",
        "\n",
        "y_proba_train_lr = logreg.predict_proba(X_train_scaled)\n",
        "y_proba_test_lr = logreg.predict_proba(X_test_scaled)"
      ]
    },
    {
      "cell_type": "markdown",
      "source": [
        "## KNN\n",
        "\n",
        "<img src=\"http://res.cloudinary.com/dyd911kmh/image/upload/f_auto,q_auto:best/v1531424125/KNN_final1_ibdm8a.png\"></img>"
      ],
      "metadata": {
        "id": "YRGKKwSYDuB5"
      }
    },
    {
      "cell_type": "code",
      "source": [
        "from sklearn.neighbors import KNeighborsClassifier\n",
        "\n",
        "knn = KNeighborsClassifier(n_neighbors=5, metric='euclidean')\n",
        "\n",
        "knn.fit(X_train_scaled,y_train_samp)\n",
        "\n",
        "y_pred_train_knn = knn.predict(X_train_scaled)\n",
        "y_pred_test_knn = knn.predict(X_test_scaled)\n",
        "\n",
        "y_proba_train_knn = knn.predict_proba(X_train_scaled)\n",
        "y_proba_test_knn = knn.predict_proba(X_test_scaled)"
      ],
      "metadata": {
        "id": "VZ2BX0QBDuLQ"
      },
      "execution_count": null,
      "outputs": []
    },
    {
      "cell_type": "markdown",
      "source": [
        "## SVM\n",
        "\n",
        "<img src=\"https://miro.medium.com/max/662/0*rIGWbxfCPvxr_cz1\"></img>"
      ],
      "metadata": {
        "id": "so4e3S3yCu01"
      }
    },
    {
      "cell_type": "code",
      "source": [
        "from sklearn.svm import SVC\n",
        "\n",
        "svm = SVC(kernel='rbf', C=0.1, probability=True)\n",
        "\n",
        "svm.fit(X_train_scaled,y_train_samp)\n",
        "\n",
        "y_pred_train_svm = svm.predict(X_train_scaled)\n",
        "y_pred_test_svm = svm.predict(X_test_scaled)\n",
        "\n",
        "y_proba_train_svm = svm.predict_proba(X_train_scaled)\n",
        "y_proba_test_svm = svm.predict_proba(X_test_scaled)"
      ],
      "metadata": {
        "id": "rnbWtc45CwWw"
      },
      "execution_count": null,
      "outputs": []
    },
    {
      "cell_type": "markdown",
      "source": [
        "## Decision Tree\n",
        "\n",
        "<img src=\"https://lh4.googleusercontent.com/6SkO8uQBp3S5mpdXrnPaJUjnWpui1Qypt_erbfzjEOQ21HYD41_bGQ-tcOnN72cPa_OKaPBsH43TBSGTSLJ7HThUO4UJwaeeAK-cpFJwaNoXx-zob01tx1-Oy8IrXVT02CbfzQ\"></img>"
      ],
      "metadata": {
        "id": "6AbvshUNCwgm"
      }
    },
    {
      "cell_type": "code",
      "source": [
        "from sklearn.tree import DecisionTreeClassifier\n",
        "\n",
        "DT = DecisionTreeClassifier(criterion='gini',max_depth=5, min_samples_split=2, min_samples_leaf=1)\n",
        "\n",
        "DT.fit(X_train_samp,y_train_samp)\n",
        "\n",
        "y_pred_train_dt = DT.predict(X_train_samp)\n",
        "y_pred_test_dt = DT.predict(X_test)\n",
        "\n",
        "y_proba_train_dt = DT.predict_proba(X_train_samp)\n",
        "y_proba_test_dt = DT.predict_proba(X_test)"
      ],
      "metadata": {
        "id": "XVfmXqAsC2Yc"
      },
      "execution_count": null,
      "outputs": []
    },
    {
      "cell_type": "markdown",
      "source": [
        "## Ensemble Learning (Random Forest)\n",
        "\n",
        "<img src=\"https://www.tibco.com/sites/tibco/files/media_entity/2021-05/random-forest-diagram.svg\"></img>"
      ],
      "metadata": {
        "id": "GUytBzEuC2zy"
      }
    },
    {
      "cell_type": "code",
      "source": [
        "from sklearn.ensemble import RandomForestClassifier\n",
        "\n",
        "RF = RandomForestClassifier(n_estimators=100,criterion='gini', max_depth=5, min_samples_split=2, min_samples_leaf=1)\n",
        "\n",
        "RF.fit(X_train_samp,y_train_samp)\n",
        "\n",
        "y_pred_train_rf = RF.predict(X_train_samp)\n",
        "y_pred_test_rf = RF.predict(X_test)\n",
        "\n",
        "y_proba_train_rf = RF.predict_proba(X_train_samp)\n",
        "y_proba_test_rf = RF.predict_proba(X_test)"
      ],
      "metadata": {
        "id": "9TCJE9XGD_Ob"
      },
      "execution_count": null,
      "outputs": []
    },
    {
      "cell_type": "markdown",
      "source": [
        "# Model Evaluasi\n",
        "\n",
        "- Akurasi\n",
        "- Precision\n",
        "- Recall\n",
        "- F1 Score\n",
        "- ROC AUC Score"
      ],
      "metadata": {
        "id": "V_p_ALCQEHhK"
      }
    },
    {
      "cell_type": "code",
      "source": [
        "from sklearn.metrics import classification_report, roc_auc_score"
      ],
      "metadata": {
        "id": "_15r4nzzf1SZ"
      },
      "execution_count": null,
      "outputs": []
    },
    {
      "cell_type": "markdown",
      "source": [
        "**Logistic Regression**"
      ],
      "metadata": {
        "id": "C1_7YXnj5bmC"
      }
    },
    {
      "cell_type": "code",
      "source": [
        "print(\"Training\")\n",
        "print(classification_report(y_train_samp,y_pred_train_lr))\n",
        "print('ROC AUC Score:',roc_auc_score(y_train_samp,y_proba_train_lr[:,1]))\n",
        "print(\"\\n===========================\\n\")\n",
        "print(\"Test\")\n",
        "print(classification_report(y_test,y_pred_test_lr))\n",
        "print('ROC AUC Score:',roc_auc_score(y_test,y_proba_test_lr[:,1]))"
      ],
      "metadata": {
        "colab": {
          "base_uri": "https://localhost:8080/"
        },
        "id": "aFppWpzc5Yqh",
        "outputId": "2907de0a-073d-4854-fd4d-08f4c01867c5"
      },
      "execution_count": null,
      "outputs": [
        {
          "output_type": "stream",
          "name": "stdout",
          "text": [
            "Training\n",
            "              precision    recall  f1-score   support\n",
            "\n",
            "           0       0.74      0.80      0.77       205\n",
            "           1       0.77      0.71      0.74       198\n",
            "\n",
            "    accuracy                           0.75       403\n",
            "   macro avg       0.76      0.75      0.75       403\n",
            "weighted avg       0.76      0.75      0.75       403\n",
            "\n",
            "ROC AUC Score: 0.8574772111357476\n",
            "\n",
            "===========================\n",
            "\n",
            "Test\n",
            "              precision    recall  f1-score   support\n",
            "\n",
            "           0       0.84      0.79      0.81       100\n",
            "           1       0.65      0.72      0.68        54\n",
            "\n",
            "    accuracy                           0.77       154\n",
            "   macro avg       0.75      0.76      0.75       154\n",
            "weighted avg       0.77      0.77      0.77       154\n",
            "\n",
            "ROC AUC Score: 0.8392592592592593\n"
          ]
        }
      ]
    },
    {
      "cell_type": "markdown",
      "source": [
        "**KNN**"
      ],
      "metadata": {
        "id": "l1FpuYP07UfA"
      }
    },
    {
      "cell_type": "code",
      "source": [
        "print(\"Training\")\n",
        "print(classification_report(y_train_samp,y_pred_train_knn))\n",
        "print('ROC AUC Score:',roc_auc_score(y_train_samp,y_proba_train_knn[:,1]))\n",
        "print(\"\\n===========================\\n\")\n",
        "print(\"Test\")\n",
        "print(classification_report(y_test,y_pred_test_knn))\n",
        "print('ROC AUC Score:',roc_auc_score(y_test,y_proba_test_knn[:,1]))"
      ],
      "metadata": {
        "colab": {
          "base_uri": "https://localhost:8080/"
        },
        "id": "e1GkjF_F66uG",
        "outputId": "c0ae1a66-d653-4765-d5ee-1d0dc7e913cd"
      },
      "execution_count": null,
      "outputs": [
        {
          "output_type": "stream",
          "name": "stdout",
          "text": [
            "Training\n",
            "              precision    recall  f1-score   support\n",
            "\n",
            "           0       0.82      0.84      0.83       205\n",
            "           1       0.83      0.81      0.82       198\n",
            "\n",
            "    accuracy                           0.83       403\n",
            "   macro avg       0.83      0.83      0.83       403\n",
            "weighted avg       0.83      0.83      0.83       403\n",
            "\n",
            "ROC AUC Score: 0.9063932002956393\n",
            "\n",
            "===========================\n",
            "\n",
            "Test\n",
            "              precision    recall  f1-score   support\n",
            "\n",
            "           0       0.82      0.80      0.81       100\n",
            "           1       0.65      0.69      0.67        54\n",
            "\n",
            "    accuracy                           0.76       154\n",
            "   macro avg       0.74      0.74      0.74       154\n",
            "weighted avg       0.76      0.76      0.76       154\n",
            "\n",
            "ROC AUC Score: 0.805\n"
          ]
        }
      ]
    },
    {
      "cell_type": "markdown",
      "source": [
        "**SVM**"
      ],
      "metadata": {
        "id": "j2QtIlf07psl"
      }
    },
    {
      "cell_type": "code",
      "source": [
        "print(\"Training\")\n",
        "print(classification_report(y_train_samp,y_pred_train_svm))\n",
        "print('ROC AUC Score:',roc_auc_score(y_train_samp,y_proba_train_svm[:,1]))\n",
        "print(\"\\n===========================\\n\")\n",
        "print(\"Test\")\n",
        "print(classification_report(y_test,y_pred_test_svm))\n",
        "print('ROC AUC Score:',roc_auc_score(y_test,y_proba_test_svm[:,1]))"
      ],
      "metadata": {
        "colab": {
          "base_uri": "https://localhost:8080/"
        },
        "id": "KLW-43cR7bvS",
        "outputId": "dfb25b8f-5870-45f6-d43d-0a93883fb061"
      },
      "execution_count": null,
      "outputs": [
        {
          "output_type": "stream",
          "name": "stdout",
          "text": [
            "Training\n",
            "              precision    recall  f1-score   support\n",
            "\n",
            "           0       0.79      0.74      0.76       205\n",
            "           1       0.75      0.79      0.77       198\n",
            "\n",
            "    accuracy                           0.77       403\n",
            "   macro avg       0.77      0.77      0.77       403\n",
            "weighted avg       0.77      0.77      0.77       403\n",
            "\n",
            "ROC AUC Score: 0.8532150776053216\n",
            "\n",
            "===========================\n",
            "\n",
            "Test\n",
            "              precision    recall  f1-score   support\n",
            "\n",
            "           0       0.86      0.73      0.79       100\n",
            "           1       0.61      0.78      0.68        54\n",
            "\n",
            "    accuracy                           0.75       154\n",
            "   macro avg       0.73      0.75      0.74       154\n",
            "weighted avg       0.77      0.75      0.75       154\n",
            "\n",
            "ROC AUC Score: 0.8262962962962963\n"
          ]
        }
      ]
    },
    {
      "cell_type": "markdown",
      "source": [
        "**Decision Tree**"
      ],
      "metadata": {
        "id": "w8ybvdZ175AA"
      }
    },
    {
      "cell_type": "code",
      "source": [
        "print(\"Training\")\n",
        "print(classification_report(y_train_samp,y_pred_train_dt))\n",
        "print('ROC AUC Score:',roc_auc_score(y_train_samp,y_proba_train_dt[:,1]))\n",
        "print(\"\\n===========================\\n\")\n",
        "print(\"Test\")\n",
        "print(classification_report(y_test,y_pred_test_dt))\n",
        "print('ROC AUC Score:',roc_auc_score(y_test,y_proba_test_dt[:,1]))"
      ],
      "metadata": {
        "colab": {
          "base_uri": "https://localhost:8080/"
        },
        "id": "OaTYi9QF72Tn",
        "outputId": "37a75754-f18e-45bf-adbf-243155540394"
      },
      "execution_count": null,
      "outputs": [
        {
          "output_type": "stream",
          "name": "stdout",
          "text": [
            "Training\n",
            "              precision    recall  f1-score   support\n",
            "\n",
            "           0       0.93      0.81      0.87       205\n",
            "           1       0.83      0.94      0.88       198\n",
            "\n",
            "    accuracy                           0.88       403\n",
            "   macro avg       0.88      0.88      0.88       403\n",
            "weighted avg       0.88      0.88      0.88       403\n",
            "\n",
            "ROC AUC Score: 0.9374846021187484\n",
            "\n",
            "===========================\n",
            "\n",
            "Test\n",
            "              precision    recall  f1-score   support\n",
            "\n",
            "           0       0.86      0.73      0.79       100\n",
            "           1       0.61      0.78      0.68        54\n",
            "\n",
            "    accuracy                           0.75       154\n",
            "   macro avg       0.73      0.75      0.74       154\n",
            "weighted avg       0.77      0.75      0.75       154\n",
            "\n",
            "ROC AUC Score: 0.7657407407407407\n"
          ]
        }
      ]
    },
    {
      "cell_type": "markdown",
      "source": [
        "**Random Forest**"
      ],
      "metadata": {
        "id": "irtQtR718OKr"
      }
    },
    {
      "cell_type": "code",
      "source": [
        "print(\"Training\")\n",
        "print(classification_report(y_train_samp,y_pred_train_rf))\n",
        "print('ROC AUC Score:',roc_auc_score(y_train_samp,y_proba_train_rf[:,1]))\n",
        "print(\"\\n===========================\\n\")\n",
        "print(\"Test\")\n",
        "print(classification_report(y_test,y_pred_test_rf))\n",
        "print('ROC AUC Score:',roc_auc_score(y_test,y_proba_test_rf[:,1]))"
      ],
      "metadata": {
        "colab": {
          "base_uri": "https://localhost:8080/"
        },
        "id": "mE2Mb4ba8NZ-",
        "outputId": "b057d7c5-0865-4ce9-9e34-cde1b41088bb"
      },
      "execution_count": null,
      "outputs": [
        {
          "output_type": "stream",
          "name": "stdout",
          "text": [
            "Training\n",
            "              precision    recall  f1-score   support\n",
            "\n",
            "           0       0.90      0.85      0.87       205\n",
            "           1       0.85      0.90      0.88       198\n",
            "\n",
            "    accuracy                           0.88       403\n",
            "   macro avg       0.88      0.88      0.88       403\n",
            "weighted avg       0.88      0.88      0.88       403\n",
            "\n",
            "ROC AUC Score: 0.9607046070460705\n",
            "\n",
            "===========================\n",
            "\n",
            "Test\n",
            "              precision    recall  f1-score   support\n",
            "\n",
            "           0       0.87      0.77      0.81       100\n",
            "           1       0.65      0.78      0.71        54\n",
            "\n",
            "    accuracy                           0.77       154\n",
            "   macro avg       0.76      0.77      0.76       154\n",
            "weighted avg       0.79      0.77      0.78       154\n",
            "\n",
            "ROC AUC Score: 0.8364814814814814\n"
          ]
        }
      ]
    }
  ]
}