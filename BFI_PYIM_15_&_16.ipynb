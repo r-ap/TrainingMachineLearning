{
  "nbformat": 4,
  "nbformat_minor": 0,
  "metadata": {
    "colab": {
      "name": "BFI PYIM 15 & 16.ipynb",
      "provenance": [],
      "include_colab_link": true
    },
    "kernelspec": {
      "name": "python3",
      "display_name": "Python 3"
    },
    "language_info": {
      "name": "python"
    }
  },
  "cells": [
    {
      "cell_type": "markdown",
      "metadata": {
        "id": "view-in-github",
        "colab_type": "text"
      },
      "source": [
        "<a href=\"https://colab.research.google.com/github/r-ap/TrainingMachineLearning/blob/main/BFI_PYIM_15_%26_16.ipynb\" target=\"_parent\"><img src=\"https://colab.research.google.com/assets/colab-badge.svg\" alt=\"Open In Colab\"/></a>"
      ]
    },
    {
      "cell_type": "markdown",
      "source": [
        "# Model Boosting"
      ],
      "metadata": {
        "id": "iD9RMda963z_"
      }
    },
    {
      "cell_type": "markdown",
      "source": [
        "## Feature Engineering\n",
        "\n",
        "Data dan proses yang sama seperti sesi 13"
      ],
      "metadata": {
        "id": "Ot8lluAW7EtL"
      }
    },
    {
      "cell_type": "code",
      "execution_count": null,
      "metadata": {
        "id": "etPsLs036vdU"
      },
      "outputs": [],
      "source": [
        "import pandas as pd\n",
        "import matplotlib.pyplot as plt\n",
        "import seaborn as sns\n",
        "from sklearn.model_selection import train_test_split\n",
        "from sklearn.metrics import classification_report\n",
        "\n",
        "df = pd.read_csv('https://raw.githubusercontent.com/ardhiraka/FSDS_Guidelines/master/p1/v3/w1/P1W1D4AM%20-%20KNN%20%26%20Naive%20Bayes.csv')\n",
        "\n",
        "\n",
        "X = df.drop(columns='Outcome')\n",
        "y = df['Outcome']\n",
        "\n",
        "X_train, X_test, y_train, y_test = train_test_split(X,y,train_size=0.8, stratify=y)\n",
        "\n",
        "y_train_0 = y_train[y_train==0]\n",
        "y_train_1 = y_train[y_train==1]\n",
        "\n",
        "y_train_0_sample = y_train_0.sample(len(y_train_1))\n",
        "y_train_sample = pd.concat([y_train_0_sample,y_train_1]).sample(2*len(y_train_1))\n",
        "y_train_sample\n",
        "\n",
        "X_train_sample = X_train.loc[y_train_sample.index]\n",
        "\n",
        "X_train_samp = X_train_sample[(X_train_sample['BMI']>0) & (X_train_sample['BloodPressure']>0) & (X_train_sample['Glucose']>0)]\n",
        "y_train_samp = y_train_sample.loc[X_train_samp.index]"
      ]
    },
    {
      "cell_type": "markdown",
      "source": [
        "### AdaBoost"
      ],
      "metadata": {
        "id": "EKRc4wtK7sLz"
      }
    },
    {
      "cell_type": "code",
      "source": [
        "from sklearn.ensemble import AdaBoostClassifier\n",
        "\n",
        "ADB = AdaBoostClassifier(n_estimators=50)\n",
        "\n",
        "ADB.fit(X_train_samp,y_train_samp)\n",
        "\n",
        "y_pred_train_adb = ADB.predict(X_train_samp)\n",
        "y_pred_test_adb = ADB.predict(X_test)\n",
        "\n",
        "print(\"Training\")\n",
        "print(classification_report(y_train_samp,y_pred_train_adb))\n",
        "\n",
        "print(\"\\n===========================\\n\")\n",
        "print(\"Test\")\n",
        "print(classification_report(y_test,y_pred_test_adb))\n"
      ],
      "metadata": {
        "colab": {
          "base_uri": "https://localhost:8080/"
        },
        "id": "kdpihID-7pm5",
        "outputId": "ac5b96af-6175-4105-8e81-22128be9a240"
      },
      "execution_count": null,
      "outputs": [
        {
          "output_type": "stream",
          "name": "stdout",
          "text": [
            "Training\n",
            "              precision    recall  f1-score   support\n",
            "\n",
            "           0       0.86      0.84      0.85       206\n",
            "           1       0.84      0.85      0.85       198\n",
            "\n",
            "    accuracy                           0.85       404\n",
            "   macro avg       0.85      0.85      0.85       404\n",
            "weighted avg       0.85      0.85      0.85       404\n",
            "\n",
            "\n",
            "===========================\n",
            "\n",
            "Test\n",
            "              precision    recall  f1-score   support\n",
            "\n",
            "           0       0.81      0.73      0.77       100\n",
            "           1       0.58      0.69      0.63        54\n",
            "\n",
            "    accuracy                           0.71       154\n",
            "   macro avg       0.69      0.71      0.70       154\n",
            "weighted avg       0.73      0.71      0.72       154\n",
            "\n"
          ]
        }
      ]
    },
    {
      "cell_type": "markdown",
      "source": [
        "### Gradient Boosting"
      ],
      "metadata": {
        "id": "aEicLmeX92HZ"
      }
    },
    {
      "cell_type": "code",
      "source": [
        "from sklearn.ensemble import GradientBoostingClassifier\n",
        "\n",
        "GDB = GradientBoostingClassifier(n_estimators=50, criterion='squared_error', min_samples_split=3, min_samples_leaf=2)\n",
        "\n",
        "GDB.fit(X_train_samp,y_train_samp)\n",
        "\n",
        "y_pred_train_gdb = GDB.predict(X_train_samp)\n",
        "y_pred_test_gdb = GDB.predict(X_test)\n",
        "\n",
        "print(\"Training\")\n",
        "print(classification_report(y_train_samp,y_pred_train_gdb))\n",
        "\n",
        "print(\"\\n===========================\\n\")\n",
        "print(\"Test\")\n",
        "print(classification_report(y_test,y_pred_test_gdb))\n"
      ],
      "metadata": {
        "colab": {
          "base_uri": "https://localhost:8080/"
        },
        "id": "ZGYFTiiP9xCQ",
        "outputId": "2568ed9e-691f-4204-e4b5-69a97174a871"
      },
      "execution_count": null,
      "outputs": [
        {
          "output_type": "stream",
          "name": "stdout",
          "text": [
            "Training\n",
            "              precision    recall  f1-score   support\n",
            "\n",
            "           0       0.90      0.88      0.89       206\n",
            "           1       0.88      0.89      0.89       198\n",
            "\n",
            "    accuracy                           0.89       404\n",
            "   macro avg       0.89      0.89      0.89       404\n",
            "weighted avg       0.89      0.89      0.89       404\n",
            "\n",
            "\n",
            "===========================\n",
            "\n",
            "Test\n",
            "              precision    recall  f1-score   support\n",
            "\n",
            "           0       0.79      0.73      0.76       100\n",
            "           1       0.56      0.65      0.60        54\n",
            "\n",
            "    accuracy                           0.70       154\n",
            "   macro avg       0.68      0.69      0.68       154\n",
            "weighted avg       0.71      0.70      0.71       154\n",
            "\n"
          ]
        }
      ]
    },
    {
      "cell_type": "markdown",
      "source": [
        "# Hyperparameter Tunning"
      ],
      "metadata": {
        "id": "oUe_MsiaABGx"
      }
    },
    {
      "cell_type": "code",
      "source": [
        "from sklearn.model_selection import GridSearchCV\n",
        "from sklearn.svm import SVC\n",
        "from sklearn.preprocessing import MinMaxScaler\n",
        "\n",
        "scaler = MinMaxScaler()\n",
        "scaler.fit(X_train_samp)\n",
        "X_train_scaled = scaler.transform(X_train_samp)\n",
        "X_test_scaled = scaler.transform(X_test)\n",
        "\n",
        "params = {'kernel':['rbf','poly','sigmoid'],\n",
        "          'C':[0.1,1,10]}\n",
        "\n",
        "grid = GridSearchCV(estimator=SVC(),\n",
        "                    param_grid=params,\n",
        "                    cv=5,\n",
        "                    verbose=3,\n",
        "                    scoring='accuracy')\n",
        "\n",
        "grid.fit(X_train_scaled,y_train_samp)"
      ],
      "metadata": {
        "colab": {
          "base_uri": "https://localhost:8080/"
        },
        "id": "g_N7lFqlAP7H",
        "outputId": "2c662d2a-6705-4a43-9cdc-80caf5abf4f2"
      },
      "execution_count": null,
      "outputs": [
        {
          "output_type": "stream",
          "name": "stdout",
          "text": [
            "Fitting 5 folds for each of 9 candidates, totalling 45 fits\n",
            "[CV 1/5] END .................C=0.1, kernel=rbf;, score=0.716 total time=   0.0s\n",
            "[CV 2/5] END .................C=0.1, kernel=rbf;, score=0.716 total time=   0.0s\n",
            "[CV 3/5] END .................C=0.1, kernel=rbf;, score=0.753 total time=   0.0s\n",
            "[CV 4/5] END .................C=0.1, kernel=rbf;, score=0.691 total time=   0.0s\n",
            "[CV 5/5] END .................C=0.1, kernel=rbf;, score=0.662 total time=   0.0s\n",
            "[CV 1/5] END ................C=0.1, kernel=poly;, score=0.728 total time=   0.0s\n",
            "[CV 2/5] END ................C=0.1, kernel=poly;, score=0.728 total time=   0.0s\n",
            "[CV 3/5] END ................C=0.1, kernel=poly;, score=0.778 total time=   0.0s\n",
            "[CV 4/5] END ................C=0.1, kernel=poly;, score=0.741 total time=   0.0s\n",
            "[CV 5/5] END ................C=0.1, kernel=poly;, score=0.675 total time=   0.0s\n",
            "[CV 1/5] END .............C=0.1, kernel=sigmoid;, score=0.358 total time=   0.0s\n",
            "[CV 2/5] END .............C=0.1, kernel=sigmoid;, score=0.296 total time=   0.0s\n",
            "[CV 3/5] END .............C=0.1, kernel=sigmoid;, score=0.346 total time=   0.0s\n",
            "[CV 4/5] END .............C=0.1, kernel=sigmoid;, score=0.432 total time=   0.0s\n",
            "[CV 5/5] END .............C=0.1, kernel=sigmoid;, score=0.388 total time=   0.0s\n",
            "[CV 1/5] END ...................C=1, kernel=rbf;, score=0.802 total time=   0.0s\n",
            "[CV 2/5] END ...................C=1, kernel=rbf;, score=0.716 total time=   0.0s\n",
            "[CV 3/5] END ...................C=1, kernel=rbf;, score=0.728 total time=   0.0s\n",
            "[CV 4/5] END ...................C=1, kernel=rbf;, score=0.716 total time=   0.0s\n",
            "[CV 5/5] END ...................C=1, kernel=rbf;, score=0.700 total time=   0.0s\n",
            "[CV 1/5] END ..................C=1, kernel=poly;, score=0.716 total time=   0.0s\n",
            "[CV 2/5] END ..................C=1, kernel=poly;, score=0.741 total time=   0.0s\n",
            "[CV 3/5] END ..................C=1, kernel=poly;, score=0.716 total time=   0.0s\n",
            "[CV 4/5] END ..................C=1, kernel=poly;, score=0.728 total time=   0.0s\n",
            "[CV 5/5] END ..................C=1, kernel=poly;, score=0.688 total time=   0.0s\n",
            "[CV 1/5] END ...............C=1, kernel=sigmoid;, score=0.284 total time=   0.0s\n",
            "[CV 2/5] END ...............C=1, kernel=sigmoid;, score=0.296 total time=   0.0s\n",
            "[CV 3/5] END ...............C=1, kernel=sigmoid;, score=0.222 total time=   0.0s\n",
            "[CV 4/5] END ...............C=1, kernel=sigmoid;, score=0.309 total time=   0.0s\n",
            "[CV 5/5] END ...............C=1, kernel=sigmoid;, score=0.338 total time=   0.0s\n",
            "[CV 1/5] END ..................C=10, kernel=rbf;, score=0.728 total time=   0.0s\n",
            "[CV 2/5] END ..................C=10, kernel=rbf;, score=0.704 total time=   0.0s\n",
            "[CV 3/5] END ..................C=10, kernel=rbf;, score=0.728 total time=   0.0s\n",
            "[CV 4/5] END ..................C=10, kernel=rbf;, score=0.667 total time=   0.0s\n",
            "[CV 5/5] END ..................C=10, kernel=rbf;, score=0.725 total time=   0.0s\n",
            "[CV 1/5] END .................C=10, kernel=poly;, score=0.741 total time=   0.1s\n",
            "[CV 2/5] END .................C=10, kernel=poly;, score=0.728 total time=   0.0s\n",
            "[CV 3/5] END .................C=10, kernel=poly;, score=0.704 total time=   0.1s\n",
            "[CV 4/5] END .................C=10, kernel=poly;, score=0.679 total time=   0.1s\n",
            "[CV 5/5] END .................C=10, kernel=poly;, score=0.688 total time=   0.1s\n",
            "[CV 1/5] END ..............C=10, kernel=sigmoid;, score=0.765 total time=   0.0s\n",
            "[CV 2/5] END ..............C=10, kernel=sigmoid;, score=0.679 total time=   0.0s\n",
            "[CV 3/5] END ..............C=10, kernel=sigmoid;, score=0.765 total time=   0.0s\n",
            "[CV 4/5] END ..............C=10, kernel=sigmoid;, score=0.679 total time=   0.0s\n",
            "[CV 5/5] END ..............C=10, kernel=sigmoid;, score=0.338 total time=   0.0s\n"
          ]
        },
        {
          "output_type": "execute_result",
          "data": {
            "text/plain": [
              "GridSearchCV(cv=5, estimator=SVC(),\n",
              "             param_grid={'C': [0.1, 1, 10],\n",
              "                         'kernel': ['rbf', 'poly', 'sigmoid']},\n",
              "             scoring='accuracy', verbose=3)"
            ]
          },
          "metadata": {},
          "execution_count": 25
        }
      ]
    },
    {
      "cell_type": "code",
      "source": [
        "grid.best_params_"
      ],
      "metadata": {
        "colab": {
          "base_uri": "https://localhost:8080/"
        },
        "id": "XKEfN1qyB_bW",
        "outputId": "c4efa4a6-7b45-4de1-80c3-f1dfd4b7f9f2"
      },
      "execution_count": null,
      "outputs": [
        {
          "output_type": "execute_result",
          "data": {
            "text/plain": [
              "{'C': 1, 'kernel': 'rbf'}"
            ]
          },
          "metadata": {},
          "execution_count": 26
        }
      ]
    },
    {
      "cell_type": "code",
      "source": [
        "grid.best_score_"
      ],
      "metadata": {
        "colab": {
          "base_uri": "https://localhost:8080/"
        },
        "id": "sE33kKC9CZ8j",
        "outputId": "4adc4e5c-43bd-4776-b7d7-6f99109eff26"
      },
      "execution_count": null,
      "outputs": [
        {
          "output_type": "execute_result",
          "data": {
            "text/plain": [
              "0.7325925925925926"
            ]
          },
          "metadata": {},
          "execution_count": 27
        }
      ]
    },
    {
      "cell_type": "code",
      "source": [
        "y_pred_train_grid = grid.predict(X_train_scaled)\n",
        "y_pred_test_grid = grid.predict(X_test_scaled)\n",
        "\n",
        "print(\"Training\")\n",
        "print(classification_report(y_train_samp,y_pred_train_grid))\n",
        "\n",
        "print(\"\\n===========================\\n\")\n",
        "print(\"Test\")\n",
        "print(classification_report(y_test,y_pred_test_grid))"
      ],
      "metadata": {
        "colab": {
          "base_uri": "https://localhost:8080/"
        },
        "id": "ZfvuNLpUGzbB",
        "outputId": "c923b055-36dc-4d25-edbb-edc4dba45d3b"
      },
      "execution_count": null,
      "outputs": [
        {
          "output_type": "stream",
          "name": "stdout",
          "text": [
            "Training\n",
            "              precision    recall  f1-score   support\n",
            "\n",
            "           0       0.80      0.77      0.78       206\n",
            "           1       0.77      0.79      0.78       198\n",
            "\n",
            "    accuracy                           0.78       404\n",
            "   macro avg       0.78      0.78      0.78       404\n",
            "weighted avg       0.78      0.78      0.78       404\n",
            "\n",
            "\n",
            "===========================\n",
            "\n",
            "Test\n",
            "              precision    recall  f1-score   support\n",
            "\n",
            "           0       0.84      0.77      0.80       100\n",
            "           1       0.63      0.72      0.67        54\n",
            "\n",
            "    accuracy                           0.75       154\n",
            "   macro avg       0.73      0.75      0.74       154\n",
            "weighted avg       0.76      0.75      0.76       154\n",
            "\n"
          ]
        }
      ]
    },
    {
      "cell_type": "markdown",
      "source": [
        "# Deployment"
      ],
      "metadata": {
        "id": "NxJebftwEZ7G"
      }
    },
    {
      "cell_type": "code",
      "source": [
        "import pickle\n",
        "\n",
        "pickle.dump(scaler, open('scaler.pkl', 'wb')) #save scaler\n",
        "pickle.dump(grid, open('model_grid.pkl', 'wb')) #save model grid"
      ],
      "metadata": {
        "id": "yNRHLRncEd9o"
      },
      "execution_count": null,
      "outputs": []
    },
    {
      "cell_type": "code",
      "source": [
        "loaded_grid = pickle.load(open('model_grid.pkl','rb'))\n",
        "loaded_grid"
      ],
      "metadata": {
        "colab": {
          "base_uri": "https://localhost:8080/"
        },
        "id": "e1zvgJIuHrIi",
        "outputId": "9acb88e4-f864-4d85-dea4-c918143098be"
      },
      "execution_count": null,
      "outputs": [
        {
          "output_type": "execute_result",
          "data": {
            "text/plain": [
              "GridSearchCV(cv=5, estimator=SVC(),\n",
              "             param_grid={'C': [0.1, 1, 10],\n",
              "                         'kernel': ['rbf', 'poly', 'sigmoid']},\n",
              "             scoring='accuracy', verbose=3)"
            ]
          },
          "metadata": {},
          "execution_count": 34
        }
      ]
    },
    {
      "cell_type": "code",
      "source": [
        "loaded_grid.best_params_"
      ],
      "metadata": {
        "colab": {
          "base_uri": "https://localhost:8080/"
        },
        "id": "cB7nDZhSH756",
        "outputId": "e56d98ba-9cfd-4e4a-ad7c-b665da68795f"
      },
      "execution_count": null,
      "outputs": [
        {
          "output_type": "execute_result",
          "data": {
            "text/plain": [
              "{'C': 1, 'kernel': 'rbf'}"
            ]
          },
          "metadata": {},
          "execution_count": 35
        }
      ]
    },
    {
      "cell_type": "markdown",
      "source": [
        "## Flask app\n",
        "\n",
        "```\n",
        "Deployment/\n",
        "    ├── model/\n",
        "    │   └── model.pkl\n",
        "    |   └── scaler.pkl\n",
        "    ├── static\n",
        "    │   └── css\n",
        "    │        └── style.css\n",
        "    ├── templates/\n",
        "    │   └── main.html\n",
        "    └── app.py\n",
        "```"
      ],
      "metadata": {
        "id": "2qWMfvYNoXO4"
      }
    },
    {
      "cell_type": "markdown",
      "source": [
        "### app.py\n",
        "\n",
        "```\n",
        "import numpy as np\n",
        "import pickle\n",
        "from flask import Flask, render_template, request\n",
        "\n",
        "app = Flask(__name__, template_folder='templates')\n",
        "\n",
        "scaler = pickle.load(open('model/scaler.pkl', 'rb'))\n",
        "model = pickle.load(open('model/model_grid.pkl', 'rb'))\n",
        "\n",
        "@app.route('/')\n",
        "def main():\n",
        "    return(render_template('main.html'))\n",
        "\n",
        "@app.route('/',methods=['POST'])\n",
        "def predict():\n",
        "    '''\n",
        "    For rendering results on HTML GUI\n",
        "    '''\n",
        "    features = np.array([[float(x) for x in request.form.values()]])\n",
        "    scaled_features = scaler.transform(features)\n",
        "    prediction = model.predict(scaled_features)\n",
        "\n",
        "    output = {0: 'not diabetes', 1: 'diabetes'}\n",
        "\n",
        "    return render_template('main.html', features=features, prediction_text='Patient must be {}'.format(output[prediction[0]]))\n",
        "\n",
        "if __name__ == '__main__':\n",
        "    app.run()\n",
        "```"
      ],
      "metadata": {
        "id": "fXnOOFIo2bTW"
      }
    },
    {
      "cell_type": "markdown",
      "source": [
        "### style.css\n",
        "\n",
        "```\n",
        "@import url(https://fonts.googleapis.com/css?family=Roboto:300);\n",
        "\n",
        ".form {\n",
        "  position: relative;\n",
        "  z-index: 1;\n",
        "  background: #FFFFFF;\n",
        "  max-width: 360px;\n",
        "  margin: 0 auto 100px;\n",
        "  padding: 45px;\n",
        "  text-align: center;\n",
        "  box-shadow: 0 0 20px 0 rgba(0, 0, 0, 0.2), 0 5px 5px 0 rgba(0, 0, 0, 0.24);\n",
        "}\n",
        ".form input {\n",
        "  font-family: \"Roboto\", sans-serif;\n",
        "  outline: 0;\n",
        "  background: #f2f2f2;\n",
        "  width: 100%;\n",
        "  border: 0;\n",
        "  margin: 0 0 15px;\n",
        "  padding: 15px;\n",
        "  box-sizing: border-box;\n",
        "  font-size: 14px;\n",
        "}\n",
        ".form button {\n",
        "  font-family: \"Roboto\", sans-serif;\n",
        "  text-transform: uppercase;\n",
        "  outline: 0;\n",
        "  background: #F19023;\n",
        "  width: 100%;\n",
        "  border: 0;\n",
        "  padding: 15px;\n",
        "  color: #FFFFFF;\n",
        "  font-size: 14px;\n",
        "  cursor: pointer;\n",
        "}\n",
        ".form button:hover,.form button:active,.form button:focus {\n",
        "  background: #c5761c;\n",
        "}\n",
        ".form .message {\n",
        "  margin: 15px 0 0;\n",
        "  color: #b3b3b3;\n",
        "  font-size: 12px;\n",
        "}\n",
        "\n",
        "body {\n",
        "  background: #F19023;\n",
        "  font-family: \"Roboto\", sans-serif;  \n",
        "}\n",
        "```"
      ],
      "metadata": {
        "id": "541UAjNnq19_"
      }
    },
    {
      "cell_type": "markdown",
      "source": [
        "```\n",
        "<!DOCTYPE html>\n",
        "<html lang=\"en\">\n",
        "<head>\n",
        "    <meta charset=\"UTF-8\">\n",
        "    <meta name=\"viewport\" content=\"width=device-width, initial-scale=1.0\">\n",
        "    <title>Model Deployment</title>\n",
        "    <link rel=\"stylesheet\" href=\"{{ url_for('static', filename='css/style.css') }}\">\n",
        "</head>\n",
        "<body>\n",
        "\n",
        "    <div class=\"form\">\n",
        "        <h1>Diabetes Patient Classifier</h1>\n",
        "\n",
        "        <form action=\"{{ url_for('predict') }}\" method=\"post\">\n",
        "            <input type=\"text\" name=\"preg\" placeholder=\"Pregnancies\" required=\"required\" />\n",
        "            <input type=\"text\" name=\"gluc\" placeholder=\"Glucose\" required=\"required\" />\n",
        "            <input type=\"text\" name=\"blodpre\" placeholder=\"Blood Presure\" required=\"required\" />\n",
        "            <input type=\"text\" name=\"skin\" placeholder=\"Skin Thickness\" required=\"required\" />\n",
        "            <input type=\"text\" name=\"insul\" placeholder=\"Insulin\" required=\"required\" />\n",
        "            <input type=\"text\" name=\"bmi\" placeholder=\"BMI\" required=\"required\" />\n",
        "            <input type=\"text\" name=\"dpf\" placeholder=\"Diabetes Pedigree Function\" required=\"required\" />\n",
        "            <input type=\"text\" name=\"age\" placeholder=\"Age\" required=\"required\" />\n",
        "\n",
        "            <button type=\"submit\" class=\"btn btn-primary btn-block btn-large\">Predict</button>\n",
        "        </form>\n",
        "\n",
        "        {% if features|length>0 %}\n",
        "            <h1 class=\"message\">{{ prediction_text }}</h1>\n",
        "        {% endif %}\n",
        "    </div>\n",
        "\n",
        "</body>\n",
        "</html>\n",
        "```"
      ],
      "metadata": {
        "id": "ifDQxixUrXK0"
      }
    }
  ]
}