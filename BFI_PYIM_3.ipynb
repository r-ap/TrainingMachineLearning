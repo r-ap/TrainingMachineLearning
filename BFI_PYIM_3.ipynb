{
  "nbformat": 4,
  "nbformat_minor": 0,
  "metadata": {
    "colab": {
      "name": "BFI PYIM 3.ipynb",
      "provenance": [],
      "include_colab_link": true
    },
    "kernelspec": {
      "name": "python3",
      "display_name": "Python 3"
    },
    "language_info": {
      "name": "python"
    }
  },
  "cells": [
    {
      "cell_type": "markdown",
      "metadata": {
        "id": "view-in-github",
        "colab_type": "text"
      },
      "source": [
        "<a href=\"https://colab.research.google.com/github/r-ap/TrainingMachineLearning/blob/main/BFI_PYIM_3.ipynb\" target=\"_parent\"><img src=\"https://colab.research.google.com/assets/colab-badge.svg\" alt=\"Open In Colab\"/></a>"
      ]
    },
    {
      "cell_type": "markdown",
      "source": [
        "# Function"
      ],
      "metadata": {
        "id": "H4rxRL_pzxHu"
      }
    },
    {
      "cell_type": "markdown",
      "source": [
        "## Latar Belakang Masalah"
      ],
      "metadata": {
        "id": "M8i3v5t4NGDr"
      }
    },
    {
      "cell_type": "markdown",
      "source": [
        "Function pada Python adalah kumpulan code yang nantinya akan dipakai kembali di beberapa line code di bawahnya.\n",
        "\n",
        "Kita lihat permasalahan yang melatarbelakangi munculnya konsep function berikut:"
      ],
      "metadata": {
        "id": "U8DyZUN5E15a"
      }
    },
    {
      "cell_type": "code",
      "execution_count": null,
      "metadata": {
        "id": "CIy9e9xBydLj",
        "colab": {
          "base_uri": "https://localhost:8080/"
        },
        "outputId": "352214cd-7f32-4282-8ef6-9f0cd7221fb5"
      },
      "outputs": [
        {
          "output_type": "stream",
          "name": "stdout",
          "text": [
            "4.0\n",
            "9.0\n",
            "14.0\n",
            "20.0\n"
          ]
        }
      ],
      "source": [
        "#Kasus 1: Menghitung luas segitiga\n",
        "# alas1 = 2, tinggi1 = 4\n",
        "# alas2 = 3, tinggi2 = 6\n",
        "# alas3 = 4, tinggi3 = 7\n",
        "# alas4 = 5, tinggi4 = 8\n",
        "\n",
        "alas1, alas2, alas3, alas4 = 2, 3, 4, 5\n",
        "tinggi1, tinggi2, tinggi3, tinggi4 = 4, 6, 7, 8\n",
        "\n",
        "Luas1 = (alas1 * tinggi1)/2\n",
        "print(Luas1)\n",
        "\n",
        "Luas2 = (alas2 * tinggi2)/2\n",
        "print(Luas2)\n",
        "\n",
        "Luas3 = (alas3 * tinggi3)/2\n",
        "print(Luas3)\n",
        "\n",
        "Luas4 = (alas4 * tinggi4)/2\n",
        "print(Luas4)"
      ]
    },
    {
      "cell_type": "code",
      "source": [
        "#Kasus 2: menghitung Luas bangun datar antara segitiga, persegi panjang/persegi, dan jajargenjang diketahui besar sisi1(alas/panjang) dan sisi2 (tinggi/lebar)\n",
        "\n",
        "bangun_datar = \"segitiga\"\n",
        "sisi1 = 4\n",
        "sisi2 = 10\n",
        "\n",
        "if bangun_datar == \"segitiga\":\n",
        "  luas = (sisi1 * sisi2)/2\n",
        "elif bangun_datar == \"persegi panjang\":\n",
        "  luas = sisi1 * sisi2\n",
        "elif bangun_datar == \"jajargenjang\":\n",
        "  luas = sisi1 * sisi2\n",
        "else:\n",
        "  print(\"Jenis bangun datar tidak diperkenankan.\")"
      ],
      "metadata": {
        "id": "ch0cF2McHu8x"
      },
      "execution_count": null,
      "outputs": []
    },
    {
      "cell_type": "code",
      "source": [
        "luas"
      ],
      "metadata": {
        "colab": {
          "base_uri": "https://localhost:8080/"
        },
        "id": "QRnvoOrWI0ah",
        "outputId": "0256c744-1e6e-4f8e-dd2e-2a7f8eb7a45d"
      },
      "execution_count": null,
      "outputs": [
        {
          "output_type": "execute_result",
          "data": {
            "text/plain": [
              "20.0"
            ]
          },
          "metadata": {},
          "execution_count": 3
        }
      ]
    },
    {
      "cell_type": "markdown",
      "source": [
        "## Pendefinisian dan Pemanggilan Function"
      ],
      "metadata": {
        "id": "4GTwRanDNJcR"
      }
    },
    {
      "cell_type": "code",
      "source": [
        "def Nama_Function (argumen1, argumen2):\n",
        "  #statement\n",
        "  pass #optional, dimasukkan hanya jika belum ada isi apapun dalam function"
      ],
      "metadata": {
        "id": "GLsyIH6JJHLo"
      },
      "execution_count": null,
      "outputs": []
    },
    {
      "cell_type": "code",
      "source": [
        "#Contoh 1:\n",
        "\n",
        "def luas_segitiga(alas,tinggi):\n",
        "  LUAS = alas*tinggi/2\n",
        "  print(f\"luas segitiga ini adalah {LUAS}.\")"
      ],
      "metadata": {
        "id": "hrULmoSlNeja"
      },
      "execution_count": null,
      "outputs": []
    },
    {
      "cell_type": "code",
      "source": [
        "#Pemanggilan function luas_segitiga"
      ],
      "metadata": {
        "id": "Z4DI_iBINx5L"
      },
      "execution_count": null,
      "outputs": []
    },
    {
      "cell_type": "code",
      "source": [
        "#Contoh 2:\n",
        "def luas_bangun_datar(sisi1, sisi2, bangun_datar):\n",
        "  if bangun_datar == \"segitiga\":\n",
        "    LUAS = (sisi1 * sisi2)/2\n",
        "    print(f\"Luas segitiga: {LUAS}\")\n",
        "  elif bangun_datar == \"persegi panjang\":\n",
        "    LUAS = sisi1 * sisi2\n",
        "    print(f\"Luas persegi panjang: {LUAS}\")\n",
        "  elif bangun_datar == \"jajargenjang\":\n",
        "    LUAS = sisi1 * sisi2\n",
        "    print(f\"Luas jajargenjang: {LUAS}\")\n",
        "  else:\n",
        "    print(\"Jenis bangun datar tidak diperkenankan.\")"
      ],
      "metadata": {
        "id": "XKp0XH_ZN0x0"
      },
      "execution_count": null,
      "outputs": []
    },
    {
      "cell_type": "code",
      "source": [
        "#Pemanggilan function luas_bangun_datar"
      ],
      "metadata": {
        "id": "7EiFvgoJPdtY"
      },
      "execution_count": null,
      "outputs": []
    },
    {
      "cell_type": "markdown",
      "source": [
        "## Return Statement, Global Variable dan Local Variable"
      ],
      "metadata": {
        "id": "0r2-EcwjQOfX"
      }
    },
    {
      "cell_type": "code",
      "source": [
        ""
      ],
      "metadata": {
        "id": "OzYud_LdQR43"
      },
      "execution_count": null,
      "outputs": []
    },
    {
      "cell_type": "markdown",
      "source": [
        "## Function Arguments\n",
        "\n",
        "Tipe argumen:\n",
        "- Required argument\n",
        "- Keyword argument\n",
        "- Default argument\n",
        "- Variable-length argument"
      ],
      "metadata": {
        "id": "7rnawLjUQW-o"
      }
    },
    {
      "cell_type": "code",
      "source": [
        "def printnama(nama):\n",
        "  print(f\"Halo nama saya {nama}!\")"
      ],
      "metadata": {
        "id": "fGRtmXI4Q2eu"
      },
      "execution_count": null,
      "outputs": []
    },
    {
      "cell_type": "markdown",
      "source": [
        "### Required Argument"
      ],
      "metadata": {
        "id": "wgdcTA5GVx2V"
      }
    },
    {
      "cell_type": "code",
      "source": [
        ""
      ],
      "metadata": {
        "id": "AHjd4WuAWGKX"
      },
      "execution_count": null,
      "outputs": []
    },
    {
      "cell_type": "markdown",
      "source": [
        "### Keyword argument"
      ],
      "metadata": {
        "id": "6OfpIKUoWKDD"
      }
    },
    {
      "cell_type": "code",
      "source": [
        "printnama(nama=\"Fulan\")"
      ],
      "metadata": {
        "id": "BOcV8jgIWWQB",
        "colab": {
          "base_uri": "https://localhost:8080/"
        },
        "outputId": "d453b38c-dc07-4c35-d86d-7b657febf278"
      },
      "execution_count": null,
      "outputs": [
        {
          "output_type": "stream",
          "name": "stdout",
          "text": [
            "Halo nama saya Fulan!\n"
          ]
        }
      ]
    },
    {
      "cell_type": "markdown",
      "source": [
        "### Default Argument"
      ],
      "metadata": {
        "id": "RdNbYcFzWa8i"
      }
    },
    {
      "cell_type": "code",
      "source": [
        "def luas_segitiga(alas,tinggi=2):\n",
        "  LUAS = alas*tinggi/2\n",
        "  print(f\"luas segitiga ini adalah {LUAS}.\")"
      ],
      "metadata": {
        "id": "BmYoyRMlWcyv"
      },
      "execution_count": null,
      "outputs": []
    },
    {
      "cell_type": "code",
      "source": [
        ""
      ],
      "metadata": {
        "id": "XstwjERLWlbr"
      },
      "execution_count": null,
      "outputs": []
    },
    {
      "cell_type": "markdown",
      "source": [
        "### Variable-length argument\n",
        "\n",
        "Kita bisa menambahkan parameter/argumen yang kita inginkan (pastinya disesuaikan dengan kasus yang dijalankan pada sebuah function) saat memanggil function. Argumennya dapat disimpan dalam sebuah **tuple** atau **dictionary**."
      ],
      "metadata": {
        "id": "HpmlbiNdW199"
      }
    },
    {
      "cell_type": "markdown",
      "source": [
        "**Tuple**\n",
        "\n",
        "Hanya menerima non-keyword arguments"
      ],
      "metadata": {
        "id": "dkewu5tGX0yS"
      }
    },
    {
      "cell_type": "code",
      "source": [
        "def daftar_nama(sekolah, *nama_peserta):\n",
        "  print(\"Peserta didik sekolah {sekolah}:\")\n",
        "  i = 0\n",
        "  for nama in nama_peserta:\n",
        "    i += 1\n",
        "    print(f\"{i}. {nama}\")"
      ],
      "metadata": {
        "id": "azwpQlZuW8Zr"
      },
      "execution_count": null,
      "outputs": []
    },
    {
      "cell_type": "code",
      "source": [
        "daftar_nama(\"Hacktiv8\")"
      ],
      "metadata": {
        "colab": {
          "base_uri": "https://localhost:8080/"
        },
        "id": "wgLRbDgLYrc4",
        "outputId": "233bfff5-4253-458c-eb60-0b2a1be43bcd"
      },
      "execution_count": null,
      "outputs": [
        {
          "output_type": "stream",
          "name": "stdout",
          "text": [
            "Peserta didik sekolah {sekolah}:\n"
          ]
        }
      ]
    },
    {
      "cell_type": "code",
      "source": [
        "daftar_nama(\"Hacktiv8\",\"A\",\"B\",\"C\")"
      ],
      "metadata": {
        "colab": {
          "base_uri": "https://localhost:8080/"
        },
        "id": "kv5tc2IIY1GZ",
        "outputId": "7e10e6e4-be38-4830-b9b6-ac225a418f62"
      },
      "execution_count": null,
      "outputs": [
        {
          "output_type": "stream",
          "name": "stdout",
          "text": [
            "Peserta didik sekolah {sekolah}:\n",
            "1. A\n",
            "2. B\n",
            "3. C\n"
          ]
        }
      ]
    },
    {
      "cell_type": "markdown",
      "source": [
        "**Dictionary**\n",
        "\n",
        "Hanya menerima keyword arguments"
      ],
      "metadata": {
        "id": "qUSJ-leIZKtd"
      }
    },
    {
      "cell_type": "code",
      "source": [
        "def luas_bangun_datar(bangun_datar, **sisi):\n",
        "  if bangun_datar == \"segitiga\":\n",
        "    LUAS = (sisi['alas'] * sisi['tinggi'])/2\n",
        "    print(f\"Luas segitiga: {LUAS}\")\n",
        "  elif bangun_datar == \"persegi panjang\":\n",
        "    LUAS = sisi['panjang'] * sisi['tinggi']\n",
        "    print(f\"Luas persegi panjang: {LUAS}\")\n",
        "  elif bangun_datar == \"jajargenjang\":\n",
        "    LUAS = sisi['alas'] * sisi['tinggi']\n",
        "    print(f\"Luas jajargenjang: {LUAS}\")\n",
        "  else:\n",
        "    print(\"Jenis bangun datar tidak diperkenankan.\")"
      ],
      "metadata": {
        "id": "-xtJHzVaZP0h"
      },
      "execution_count": null,
      "outputs": []
    },
    {
      "cell_type": "code",
      "source": [
        ""
      ],
      "metadata": {
        "id": "Vt4qPBLqZjPq"
      },
      "execution_count": null,
      "outputs": []
    },
    {
      "cell_type": "markdown",
      "source": [
        "## Fungsi Anonim/Implisit\n",
        "\n",
        "Statement fungsi ini hanya bisa ditulis dalam satu baris dan melekat pada variabel. Biasanya digunakan untuk kasus yang sederhana.\n",
        "\n",
        "`lambda arg1, arg2 : expression`"
      ],
      "metadata": {
        "id": "VbIDAHTKSXmB"
      }
    },
    {
      "cell_type": "code",
      "source": [
        "penjumlahan = lambda x1, x2: x1 + x2"
      ],
      "metadata": {
        "id": "wzbzTKZtalsa"
      },
      "execution_count": null,
      "outputs": []
    },
    {
      "cell_type": "code",
      "source": [
        "penjumlahan(1,2)"
      ],
      "metadata": {
        "colab": {
          "base_uri": "https://localhost:8080/"
        },
        "id": "oVJtUVmabQ5K",
        "outputId": "5bd97d54-6487-453b-c86a-8a4daa500d67"
      },
      "execution_count": null,
      "outputs": [
        {
          "output_type": "execute_result",
          "data": {
            "text/plain": [
              "3"
            ]
          },
          "metadata": {},
          "execution_count": 17
        }
      ]
    },
    {
      "cell_type": "markdown",
      "source": [
        "## Docstring"
      ],
      "metadata": {
        "id": "dYv5iLGqblOx"
      }
    },
    {
      "cell_type": "code",
      "source": [
        "def sum_number(num1, num2):\n",
        "  '''\n",
        "  This function is used to sum of 2 variables.\n",
        "  :param num1: Input number 1 | int or float\n",
        "  :param num2: Input number 2 | int or float\n",
        "  \n",
        "  :return: num3: Sum of number | int or float\n",
        "  '''\n",
        "\n",
        "  num3 = num1 + num2\n",
        "  return num3"
      ],
      "metadata": {
        "id": "A_JeMYmxbnlS"
      },
      "execution_count": null,
      "outputs": []
    },
    {
      "cell_type": "code",
      "source": [
        "print(sum_number.__doc__)"
      ],
      "metadata": {
        "colab": {
          "base_uri": "https://localhost:8080/"
        },
        "id": "tX2twtAVbrYp",
        "outputId": "a02a8a89-3132-4a46-981f-a6b1b6dc81b1"
      },
      "execution_count": null,
      "outputs": [
        {
          "output_type": "stream",
          "name": "stdout",
          "text": [
            "\n",
            "  This function is used to sum of 2 variables.\n",
            "  :param num1: Input number 1 | int or float\n",
            "  :param num2: Input number 2 | int or float\n",
            "  \n",
            "  :return: num3: Sum of number | int or float\n",
            "  \n"
          ]
        }
      ]
    },
    {
      "cell_type": "markdown",
      "source": [
        "# Modul"
      ],
      "metadata": {
        "id": "HsZdB7CtcFjw"
      }
    },
    {
      "cell_type": "code",
      "source": [
        "!wget -q https://raw.githubusercontent.com/fahmimnalfrzki/Dataset/main/modul.py"
      ],
      "metadata": {
        "id": "fufleJaOc-tk"
      },
      "execution_count": null,
      "outputs": []
    },
    {
      "cell_type": "code",
      "source": [
        "import modul"
      ],
      "metadata": {
        "id": "VVlJDHZBdAtt"
      },
      "execution_count": null,
      "outputs": []
    },
    {
      "cell_type": "code",
      "source": [
        "#Attribute\n",
        "print(modul.nama)\n",
        "print(modul.usia)"
      ],
      "metadata": {
        "id": "6Dbiu_V5dJ7K",
        "colab": {
          "base_uri": "https://localhost:8080/"
        },
        "outputId": "2c0daf23-a616-462b-dab0-e6d79bc6c6e9"
      },
      "execution_count": null,
      "outputs": [
        {
          "output_type": "stream",
          "name": "stdout",
          "text": [
            "Fulan\n",
            "30\n"
          ]
        }
      ]
    },
    {
      "cell_type": "code",
      "source": [
        "#Method\n",
        "modul.gantinama('Bulan')"
      ],
      "metadata": {
        "colab": {
          "base_uri": "https://localhost:8080/"
        },
        "id": "XN8KG38yfklo",
        "outputId": "d174021f-c79b-49dc-8637-58f45b5a7896"
      },
      "execution_count": null,
      "outputs": [
        {
          "output_type": "stream",
          "name": "stdout",
          "text": [
            "nama saya adalah Bulan\n"
          ]
        }
      ]
    },
    {
      "cell_type": "code",
      "source": [
        "from modul import nama\n",
        "\n",
        "print(nama)"
      ],
      "metadata": {
        "colab": {
          "base_uri": "https://localhost:8080/"
        },
        "id": "GrHtnT1JfxEK",
        "outputId": "72b5d354-6795-4af2-a700-d1bdafc3d5d1"
      },
      "execution_count": null,
      "outputs": [
        {
          "output_type": "stream",
          "name": "stdout",
          "text": [
            "Fulan\n"
          ]
        }
      ]
    },
    {
      "cell_type": "markdown",
      "source": [
        "# Package"
      ],
      "metadata": {
        "id": "N5hZKaCsINLr"
      }
    },
    {
      "cell_type": "code",
      "source": [
        ""
      ],
      "metadata": {
        "id": "N4kV0eS2IPbH"
      },
      "execution_count": null,
      "outputs": []
    },
    {
      "cell_type": "markdown",
      "source": [
        "# Soal latihan"
      ],
      "metadata": {
        "id": "wAkI3q7mI3fJ"
      }
    },
    {
      "cell_type": "markdown",
      "source": [
        "1. Buatlah sebuah function untuk menghitung BMR dimana:\n",
        "\n",
        "    `BMR Pria = 66 + (13.7 x BB) + (5 x TB) - (6.8 x U)`\n",
        "\n",
        "    `BMR Wanita = 655 + (9.6 x BB) + (1.8 x TB) - (4.7 x U)`\n",
        "\n",
        "    dimana BB: berat badan, TB: tinggi badan, U: usia"
      ],
      "metadata": {
        "id": "kkcA8kb4JFyS"
      }
    },
    {
      "cell_type": "code",
      "source": [
        ""
      ],
      "metadata": {
        "id": "B1JwW2NALYBc"
      },
      "execution_count": null,
      "outputs": []
    },
    {
      "cell_type": "markdown",
      "source": [
        "2. Buatlah sebuah function untuk menghitung luas lingkaran (gunakan pi = 3.14) dan gunakan function tersebut untuk menghitung luas 3 lingkaran masing-masing beradius 2, 3, 4. Jumlahkan ketiga lingkaran. \n",
        "\n",
        "    Lakukan penggunaan function untuk menghitung luas ketiga lingkaran dan menjumlahkannya hanya dalam satu baris!"
      ],
      "metadata": {
        "id": "j2pVlZLJMDRy"
      }
    },
    {
      "cell_type": "code",
      "source": [
        ""
      ],
      "metadata": {
        "id": "Se9Zf-42MDdS"
      },
      "execution_count": null,
      "outputs": []
    }
  ]
}