{
  "cells": [
    {
      "cell_type": "markdown",
      "metadata": {
        "colab_type": "text",
        "id": "view-in-github"
      },
      "source": [
        "<a href=\"https://colab.research.google.com/github/r-ap/TrainingMachineLearning/blob/main/BFI_PYIM_3.ipynb\" target=\"_parent\"><img src=\"https://colab.research.google.com/assets/colab-badge.svg\" alt=\"Open In Colab\"/></a>"
      ]
    },
    {
      "cell_type": "markdown",
      "metadata": {
        "id": "H4rxRL_pzxHu"
      },
      "source": [
        "# Function"
      ]
    },
    {
      "cell_type": "markdown",
      "metadata": {
        "id": "M8i3v5t4NGDr"
      },
      "source": [
        "## Latar Belakang Masalah"
      ]
    },
    {
      "cell_type": "markdown",
      "metadata": {
        "id": "U8DyZUN5E15a"
      },
      "source": [
        "Function pada Python adalah kumpulan code yang nantinya akan dipakai kembali di beberapa line code di bawahnya.\n",
        "\n",
        "Kita lihat permasalahan yang melatarbelakangi munculnya konsep function berikut:"
      ]
    },
    {
      "cell_type": "code",
      "execution_count": null,
      "metadata": {
        "colab": {
          "base_uri": "https://localhost:8080/"
        },
        "id": "CIy9e9xBydLj",
        "outputId": "352214cd-7f32-4282-8ef6-9f0cd7221fb5"
      },
      "outputs": [
        {
          "name": "stdout",
          "output_type": "stream",
          "text": [
            "4.0\n",
            "9.0\n",
            "14.0\n",
            "20.0\n"
          ]
        }
      ],
      "source": [
        "#Kasus 1: Menghitung luas segitiga\n",
        "# alas1 = 2, tinggi1 = 4\n",
        "# alas2 = 3, tinggi2 = 6\n",
        "# alas3 = 4, tinggi3 = 7\n",
        "# alas4 = 5, tinggi4 = 8\n",
        "\n",
        "alas1, alas2, alas3, alas4 = 2, 3, 4, 5\n",
        "tinggi1, tinggi2, tinggi3, tinggi4 = 4, 6, 7, 8\n",
        "\n",
        "Luas1 = (alas1 * tinggi1)/2\n",
        "print(Luas1)\n",
        "\n",
        "Luas2 = (alas2 * tinggi2)/2\n",
        "print(Luas2)\n",
        "\n",
        "Luas3 = (alas3 * tinggi3)/2\n",
        "print(Luas3)\n",
        "\n",
        "Luas4 = (alas4 * tinggi4)/2\n",
        "print(Luas4)"
      ]
    },
    {
      "cell_type": "code",
      "execution_count": null,
      "metadata": {
        "id": "ch0cF2McHu8x"
      },
      "outputs": [],
      "source": [
        "#Kasus 2: menghitung Luas bangun datar antara segitiga, persegi panjang/persegi, dan jajargenjang diketahui besar sisi1(alas/panjang) dan sisi2 (tinggi/lebar)\n",
        "\n",
        "bangun_datar = \"segitiga\"\n",
        "sisi1 = 4\n",
        "sisi2 = 10\n",
        "\n",
        "if bangun_datar == \"segitiga\":\n",
        "  luas = (sisi1 * sisi2)/2\n",
        "elif bangun_datar == \"persegi panjang\":\n",
        "  luas = sisi1 * sisi2\n",
        "elif bangun_datar == \"jajargenjang\":\n",
        "  luas = sisi1 * sisi2\n",
        "else:\n",
        "  print(\"Jenis bangun datar tidak diperkenankan.\")"
      ]
    },
    {
      "cell_type": "code",
      "execution_count": null,
      "metadata": {
        "colab": {
          "base_uri": "https://localhost:8080/"
        },
        "id": "QRnvoOrWI0ah",
        "outputId": "0256c744-1e6e-4f8e-dd2e-2a7f8eb7a45d"
      },
      "outputs": [
        {
          "data": {
            "text/plain": [
              "20.0"
            ]
          },
          "execution_count": 3,
          "metadata": {},
          "output_type": "execute_result"
        }
      ],
      "source": [
        "luas"
      ]
    },
    {
      "cell_type": "markdown",
      "metadata": {
        "id": "4GTwRanDNJcR"
      },
      "source": [
        "## Pendefinisian dan Pemanggilan Function"
      ]
    },
    {
      "cell_type": "code",
      "execution_count": null,
      "metadata": {
        "id": "GLsyIH6JJHLo"
      },
      "outputs": [],
      "source": [
        "def Nama_Function (argumen1, argumen2):\n",
        "  #statement\n",
        "  pass #optional, dimasukkan hanya jika belum ada isi apapun dalam function"
      ]
    },
    {
      "cell_type": "code",
      "execution_count": 7,
      "metadata": {
        "id": "hrULmoSlNeja"
      },
      "outputs": [],
      "source": [
        "#Contoh 1:\n",
        "\n",
        "def luas_segitiga(alas,tinggi):\n",
        "  LUAS = alas*tinggi/2\n",
        "  print(f\"luas segitiga ini adalah {LUAS}.\")"
      ]
    },
    {
      "cell_type": "code",
      "execution_count": 12,
      "metadata": {
        "id": "Z4DI_iBINx5L"
      },
      "outputs": [
        {
          "name": "stdout",
          "output_type": "stream",
          "text": [
            "luas segitiga ini adalah 4.0.\n"
          ]
        }
      ],
      "source": [
        "#Pemanggilan function luas_segitiga\n",
        "luas_segitiga(2,4)"
      ]
    },
    {
      "cell_type": "code",
      "execution_count": 11,
      "metadata": {
        "id": "XKp0XH_ZN0x0"
      },
      "outputs": [],
      "source": [
        "#Contoh 2:\n",
        "def luas_bangun_datar(sisi1, sisi2, bangun_datar):\n",
        "  if bangun_datar == \"segitiga\":\n",
        "    LUAS = (sisi1 * sisi2)/2\n",
        "    print(f\"Luas segitiga: {LUAS}\")\n",
        "  elif bangun_datar == \"persegi panjang\":\n",
        "    LUAS = sisi1 * sisi2\n",
        "    print(f\"Luas persegi panjang: {LUAS}\")\n",
        "  elif bangun_datar == \"jajargenjang\":\n",
        "    LUAS = sisi1 * sisi2\n",
        "    print(f\"Luas jajargenjang: {LUAS}\")\n",
        "  else:\n",
        "    print(\"Jenis bangun datar tidak diperkenankan.\")"
      ]
    },
    {
      "cell_type": "code",
      "execution_count": 15,
      "metadata": {},
      "outputs": [],
      "source": [
        "def rumus_luas_bangun_datar(sisi1, sisi2, bangun_datar):\n",
        "    if bangun_datar == \"segitiga\":\n",
        "        LUAS = (sisi1 * sisi2)/2\n",
        "    elif bangun_datar == \"persegi panjang\":\n",
        "        LUAS = sisi1 * sisi2\n",
        "    elif bangun_datar == \"jajargenjang\":\n",
        "        LUAS = sisi1 * sisi2  \n",
        "    else:\n",
        "        LUAS = 0\n",
        "    return LUAS"
      ]
    },
    {
      "cell_type": "code",
      "execution_count": 13,
      "metadata": {
        "id": "7EiFvgoJPdtY"
      },
      "outputs": [
        {
          "name": "stdout",
          "output_type": "stream",
          "text": [
            "Luas segitiga: 7.5\n"
          ]
        }
      ],
      "source": [
        "#Pemanggilan function luas_bangun_datar\n",
        "luas_bangun_datar(3,5,\"segitiga\")"
      ]
    },
    {
      "cell_type": "markdown",
      "metadata": {
        "id": "0r2-EcwjQOfX"
      },
      "source": [
        "## Return Statement, Global Variable dan Local Variable"
      ]
    },
    {
      "cell_type": "code",
      "execution_count": 16,
      "metadata": {
        "id": "OzYud_LdQR43"
      },
      "outputs": [
        {
          "name": "stdout",
          "output_type": "stream",
          "text": [
            "Luas persegi panjang: 50\n"
          ]
        },
        {
          "data": {
            "text/plain": [
              "50"
            ]
          },
          "execution_count": 16,
          "metadata": {},
          "output_type": "execute_result"
        }
      ],
      "source": [
        "#Variable Global & local\n",
        "\n",
        "panjang = 10\n",
        "lebar = 5\n",
        "\n",
        "luas_bangun_datar(panjang, lebar,\"persegi panjang\")\n",
        "\n",
        "nilai_luas = rumus_luas_bangun_datar(panjang, lebar,\"persegi panjang\")\n",
        "nilai_luas"
      ]
    },
    {
      "cell_type": "markdown",
      "metadata": {
        "id": "7rnawLjUQW-o"
      },
      "source": [
        "## Function Arguments\n",
        "\n",
        "Tipe argumen:\n",
        "- Required argument\n",
        "- Keyword argument\n",
        "- Default argument\n",
        "- Variable-length argument"
      ]
    },
    {
      "cell_type": "code",
      "execution_count": 18,
      "metadata": {
        "id": "fGRtmXI4Q2eu"
      },
      "outputs": [],
      "source": [
        "def printnama(nama):\n",
        "  print(f\"Halo nama saya {nama}!\")"
      ]
    },
    {
      "cell_type": "markdown",
      "metadata": {
        "id": "wgdcTA5GVx2V"
      },
      "source": [
        "### Required Argument"
      ]
    },
    {
      "cell_type": "code",
      "execution_count": 20,
      "metadata": {
        "id": "AHjd4WuAWGKX"
      },
      "outputs": [
        {
          "name": "stdout",
          "output_type": "stream",
          "text": [
            "Halo nama saya Fulan!\n"
          ]
        }
      ],
      "source": [
        "printnama(\"Fulan\")"
      ]
    },
    {
      "cell_type": "markdown",
      "metadata": {
        "id": "6OfpIKUoWKDD"
      },
      "source": [
        "### Keyword argument"
      ]
    },
    {
      "cell_type": "code",
      "execution_count": null,
      "metadata": {
        "colab": {
          "base_uri": "https://localhost:8080/"
        },
        "id": "BOcV8jgIWWQB",
        "outputId": "d453b38c-dc07-4c35-d86d-7b657febf278"
      },
      "outputs": [
        {
          "name": "stdout",
          "output_type": "stream",
          "text": [
            "Halo nama saya Fulan!\n"
          ]
        }
      ],
      "source": [
        "printnama(nama=\"Fulan\")"
      ]
    },
    {
      "cell_type": "markdown",
      "metadata": {
        "id": "RdNbYcFzWa8i"
      },
      "source": [
        "### Default Argument"
      ]
    },
    {
      "cell_type": "code",
      "execution_count": 21,
      "metadata": {
        "id": "BmYoyRMlWcyv"
      },
      "outputs": [],
      "source": [
        "def luas_segitiga(alas,tinggi=2):\n",
        "  LUAS = alas*tinggi/2\n",
        "  print(f\"luas segitiga ini adalah {LUAS}.\")"
      ]
    },
    {
      "cell_type": "code",
      "execution_count": 22,
      "metadata": {
        "id": "XstwjERLWlbr"
      },
      "outputs": [
        {
          "name": "stdout",
          "output_type": "stream",
          "text": [
            "luas segitiga ini adalah 7.0.\n"
          ]
        }
      ],
      "source": [
        "luas_segitiga(7)"
      ]
    },
    {
      "cell_type": "markdown",
      "metadata": {
        "id": "HpmlbiNdW199"
      },
      "source": [
        "### Variable-length argument\n",
        "\n",
        "Kita bisa menambahkan parameter/argumen yang kita inginkan (pastinya disesuaikan dengan kasus yang dijalankan pada sebuah function) saat memanggil function. Argumennya dapat disimpan dalam sebuah **tuple** atau **dictionary**."
      ]
    },
    {
      "cell_type": "markdown",
      "metadata": {
        "id": "dkewu5tGX0yS"
      },
      "source": [
        "**Tuple**\n",
        "\n",
        "Hanya menerima non-keyword arguments"
      ]
    },
    {
      "cell_type": "code",
      "execution_count": 23,
      "metadata": {
        "id": "azwpQlZuW8Zr"
      },
      "outputs": [],
      "source": [
        "def daftar_nama(sekolah, *nama_peserta):\n",
        "  print(\"Peserta didik sekolah {sekolah}:\")\n",
        "  i = 0\n",
        "  for nama in nama_peserta:\n",
        "    i += 1\n",
        "    print(f\"{i}. {nama}\")"
      ]
    },
    {
      "cell_type": "code",
      "execution_count": 24,
      "metadata": {
        "colab": {
          "base_uri": "https://localhost:8080/"
        },
        "id": "wgLRbDgLYrc4",
        "outputId": "233bfff5-4253-458c-eb60-0b2a1be43bcd"
      },
      "outputs": [
        {
          "name": "stdout",
          "output_type": "stream",
          "text": [
            "Peserta didik sekolah {sekolah}:\n"
          ]
        }
      ],
      "source": [
        "daftar_nama(\"Hacktiv8\")"
      ]
    },
    {
      "cell_type": "code",
      "execution_count": 25,
      "metadata": {
        "colab": {
          "base_uri": "https://localhost:8080/"
        },
        "id": "kv5tc2IIY1GZ",
        "outputId": "7e10e6e4-be38-4830-b9b6-ac225a418f62"
      },
      "outputs": [
        {
          "name": "stdout",
          "output_type": "stream",
          "text": [
            "Peserta didik sekolah {sekolah}:\n",
            "1. A\n",
            "2. B\n",
            "3. C\n"
          ]
        }
      ],
      "source": [
        "daftar_nama(\"Hacktiv8\",\"A\",\"B\",\"C\")"
      ]
    },
    {
      "cell_type": "markdown",
      "metadata": {
        "id": "qUSJ-leIZKtd"
      },
      "source": [
        "**Dictionary**\n",
        "\n",
        "Hanya menerima keyword arguments"
      ]
    },
    {
      "cell_type": "code",
      "execution_count": 27,
      "metadata": {
        "id": "-xtJHzVaZP0h"
      },
      "outputs": [],
      "source": [
        "def luas_bangun_datar_dictionary(bangun_datar, **sisi):\n",
        "  if bangun_datar == \"segitiga\":\n",
        "    LUAS = (sisi['alas'] * sisi['tinggi'])/2\n",
        "    print(f\"Luas segitiga: {LUAS}\")\n",
        "  elif bangun_datar == \"persegi panjang\":\n",
        "    LUAS = sisi['panjang'] * sisi['tinggi']\n",
        "    print(f\"Luas persegi panjang: {LUAS}\")\n",
        "  elif bangun_datar == \"jajargenjang\":\n",
        "    LUAS = sisi['alas'] * sisi['tinggi']\n",
        "    print(f\"Luas jajargenjang: {LUAS}\")\n",
        "  else:\n",
        "    print(\"Jenis bangun datar tidak diperkenankan.\")"
      ]
    },
    {
      "cell_type": "code",
      "execution_count": 37,
      "metadata": {
        "id": "Vt4qPBLqZjPq"
      },
      "outputs": [
        {
          "name": "stdout",
          "output_type": "stream",
          "text": [
            "Luas segitiga: 21.0\n"
          ]
        }
      ],
      "source": [
        "luas_bangun_datar_dictionary('segitiga',alas=6,tinggi=7)"
      ]
    },
    {
      "cell_type": "markdown",
      "metadata": {
        "id": "VbIDAHTKSXmB"
      },
      "source": [
        "## Fungsi Anonim/Implisit\n",
        "\n",
        "Statement fungsi ini hanya bisa ditulis dalam satu baris dan melekat pada variabel. Biasanya digunakan untuk kasus yang sederhana.\n",
        "\n",
        "`lambda arg1, arg2 : expression`"
      ]
    },
    {
      "cell_type": "code",
      "execution_count": null,
      "metadata": {
        "id": "wzbzTKZtalsa"
      },
      "outputs": [],
      "source": [
        "penjumlahan = lambda x1, x2: x1 + x2"
      ]
    },
    {
      "cell_type": "code",
      "execution_count": null,
      "metadata": {
        "colab": {
          "base_uri": "https://localhost:8080/"
        },
        "id": "oVJtUVmabQ5K",
        "outputId": "5bd97d54-6487-453b-c86a-8a4daa500d67"
      },
      "outputs": [
        {
          "data": {
            "text/plain": [
              "3"
            ]
          },
          "execution_count": 17,
          "metadata": {},
          "output_type": "execute_result"
        }
      ],
      "source": [
        "penjumlahan(1,2)"
      ]
    },
    {
      "cell_type": "markdown",
      "metadata": {
        "id": "dYv5iLGqblOx"
      },
      "source": [
        "## Docstring"
      ]
    },
    {
      "cell_type": "code",
      "execution_count": null,
      "metadata": {
        "id": "A_JeMYmxbnlS"
      },
      "outputs": [],
      "source": [
        "def sum_number(num1, num2):\n",
        "  '''\n",
        "  This function is used to sum of 2 variables.\n",
        "  :param num1: Input number 1 | int or float\n",
        "  :param num2: Input number 2 | int or float\n",
        "  \n",
        "  :return: num3: Sum of number | int or float\n",
        "  '''\n",
        "\n",
        "  num3 = num1 + num2\n",
        "  return num3"
      ]
    },
    {
      "cell_type": "code",
      "execution_count": null,
      "metadata": {
        "colab": {
          "base_uri": "https://localhost:8080/"
        },
        "id": "tX2twtAVbrYp",
        "outputId": "a02a8a89-3132-4a46-981f-a6b1b6dc81b1"
      },
      "outputs": [
        {
          "name": "stdout",
          "output_type": "stream",
          "text": [
            "\n",
            "  This function is used to sum of 2 variables.\n",
            "  :param num1: Input number 1 | int or float\n",
            "  :param num2: Input number 2 | int or float\n",
            "  \n",
            "  :return: num3: Sum of number | int or float\n",
            "  \n"
          ]
        }
      ],
      "source": [
        "print(sum_number.__doc__)"
      ]
    },
    {
      "cell_type": "markdown",
      "metadata": {
        "id": "HsZdB7CtcFjw"
      },
      "source": [
        "# Modul"
      ]
    },
    {
      "cell_type": "code",
      "execution_count": 71,
      "metadata": {
        "id": "fufleJaOc-tk"
      },
      "outputs": [
        {
          "name": "stderr",
          "output_type": "stream",
          "text": [
            "'wget' is not recognized as an internal or external command,\n",
            "operable program or batch file.\n"
          ]
        }
      ],
      "source": [
        "!wget -q https://raw.githubusercontent.com/fahmimnalfrzki/Dataset/main/modul.py"
      ]
    },
    {
      "cell_type": "code",
      "execution_count": 75,
      "metadata": {
        "id": "VVlJDHZBdAtt"
      },
      "outputs": [
        {
          "ename": "ModuleNotFoundError",
          "evalue": "No module named 'modul'",
          "output_type": "error",
          "traceback": [
            "\u001b[1;31m---------------------------------------------------------------------------\u001b[0m",
            "\u001b[1;31mModuleNotFoundError\u001b[0m                       Traceback (most recent call last)",
            "\u001b[1;32m~\\AppData\\Local\\Temp/ipykernel_5220/516211365.py\u001b[0m in \u001b[0;36m<module>\u001b[1;34m\u001b[0m\n\u001b[1;32m----> 1\u001b[1;33m \u001b[1;32mimport\u001b[0m \u001b[0mmodul\u001b[0m\u001b[1;33m\u001b[0m\u001b[1;33m\u001b[0m\u001b[0m\n\u001b[0m",
            "\u001b[1;31mModuleNotFoundError\u001b[0m: No module named 'modul'"
          ]
        }
      ],
      "source": [
        "import modul"
      ]
    },
    {
      "cell_type": "code",
      "execution_count": null,
      "metadata": {
        "colab": {
          "base_uri": "https://localhost:8080/"
        },
        "id": "6Dbiu_V5dJ7K",
        "outputId": "2c0daf23-a616-462b-dab0-e6d79bc6c6e9"
      },
      "outputs": [
        {
          "name": "stdout",
          "output_type": "stream",
          "text": [
            "Fulan\n",
            "30\n"
          ]
        }
      ],
      "source": [
        "#Attribute\n",
        "print(modul.nama)\n",
        "print(modul.usia)"
      ]
    },
    {
      "cell_type": "code",
      "execution_count": null,
      "metadata": {
        "colab": {
          "base_uri": "https://localhost:8080/"
        },
        "id": "XN8KG38yfklo",
        "outputId": "d174021f-c79b-49dc-8637-58f45b5a7896"
      },
      "outputs": [
        {
          "name": "stdout",
          "output_type": "stream",
          "text": [
            "nama saya adalah Bulan\n"
          ]
        }
      ],
      "source": [
        "#Method\n",
        "modul.gantinama('Bulan')"
      ]
    },
    {
      "cell_type": "code",
      "execution_count": null,
      "metadata": {
        "colab": {
          "base_uri": "https://localhost:8080/"
        },
        "id": "GrHtnT1JfxEK",
        "outputId": "72b5d354-6795-4af2-a700-d1bdafc3d5d1"
      },
      "outputs": [
        {
          "name": "stdout",
          "output_type": "stream",
          "text": [
            "Fulan\n"
          ]
        }
      ],
      "source": [
        "from modul import nama\n",
        "\n",
        "print(nama)"
      ]
    },
    {
      "cell_type": "markdown",
      "metadata": {
        "id": "N5hZKaCsINLr"
      },
      "source": [
        "# Package"
      ]
    },
    {
      "cell_type": "code",
      "execution_count": null,
      "metadata": {
        "id": "N4kV0eS2IPbH"
      },
      "outputs": [],
      "source": []
    },
    {
      "cell_type": "markdown",
      "metadata": {
        "id": "wAkI3q7mI3fJ"
      },
      "source": [
        "# Soal latihan"
      ]
    },
    {
      "cell_type": "markdown",
      "metadata": {
        "id": "kkcA8kb4JFyS"
      },
      "source": [
        "1. Buatlah sebuah function untuk menghitung BMR dimana:\n",
        "\n",
        "    `BMR Pria = 66 + (13.7 x BB) + (5 x TB) - (6.8 x U)`\n",
        "\n",
        "    `BMR Wanita = 655 + (9.6 x BB) + (1.8 x TB) - (4.7 x U)`\n",
        "\n",
        "    dimana BB: berat badan, TB: tinggi badan, U: usia"
      ]
    },
    {
      "cell_type": "code",
      "execution_count": 57,
      "metadata": {
        "id": "B1JwW2NALYBc"
      },
      "outputs": [],
      "source": [
        "def bmr(sex, weight, height, old):\n",
        "    if sex =='Pria':\n",
        "        return 66 + (13.7 * weight) + (5 * height) - (6.8 * old)\n",
        "    else:\n",
        "        return 655 + (9.6 * weight) + (1.8 * height) - (4.7 * old)    "
      ]
    },
    {
      "cell_type": "code",
      "execution_count": 59,
      "metadata": {},
      "outputs": [
        {
          "data": {
            "text/plain": [
              "1317.96"
            ]
          },
          "execution_count": 59,
          "metadata": {},
          "output_type": "execute_result"
        }
      ],
      "source": [
        "nilai_bmr = bmr(\"Wanita\",80,1.70,23)\n",
        "nilai_bmr"
      ]
    },
    {
      "cell_type": "markdown",
      "metadata": {
        "id": "j2pVlZLJMDRy"
      },
      "source": [
        "2. Buatlah sebuah function untuk menghitung luas lingkaran (gunakan pi = 3.14) dan gunakan function tersebut untuk menghitung luas 3 lingkaran masing-masing beradius 2, 3, 4. Jumlahkan ketiga lingkaran. \n",
        "\n",
        "    Lakukan penggunaan function untuk menghitung luas ketiga lingkaran dan menjumlahkannya hanya dalam satu baris!"
      ]
    },
    {
      "cell_type": "code",
      "execution_count": 48,
      "metadata": {
        "id": "Se9Zf-42MDdS"
      },
      "outputs": [],
      "source": [
        "def rumus_luas_lingkaran(*radius):\n",
        "    i = 0\n",
        "    totalluas = 0\n",
        "    for jari in radius:\n",
        "        i += 1\n",
        "        luas = 3.14 * int(jari) * int(jari)\n",
        "        totalluas += luas\n",
        "    return(totalluas)"
      ]
    },
    {
      "cell_type": "code",
      "execution_count": 50,
      "metadata": {},
      "outputs": [
        {
          "data": {
            "text/plain": [
              "91.06"
            ]
          },
          "execution_count": 50,
          "metadata": {},
          "output_type": "execute_result"
        }
      ],
      "source": [
        "total_luas_lingkaran = rumus_luas_lingkaran(\"2\",\"3\",\"4\")\n",
        "total_luas_lingkaran"
      ]
    }
  ],
  "metadata": {
    "colab": {
      "include_colab_link": true,
      "name": "BFI PYIM 3.ipynb",
      "provenance": []
    },
    "kernelspec": {
      "display_name": "Python 3.9.7 ('base')",
      "language": "python",
      "name": "python3"
    },
    "language_info": {
      "codemirror_mode": {
        "name": "ipython",
        "version": 3
      },
      "file_extension": ".py",
      "mimetype": "text/x-python",
      "name": "python",
      "nbconvert_exporter": "python",
      "pygments_lexer": "ipython3",
      "version": "3.9.7"
    },
    "vscode": {
      "interpreter": {
        "hash": "5633d90d4512c475bf0b7442eb62c89fd36a96911d9160e54efe07a10f1f8fe2"
      }
    }
  },
  "nbformat": 4,
  "nbformat_minor": 0
}
