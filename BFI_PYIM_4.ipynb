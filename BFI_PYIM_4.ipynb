{
  "nbformat": 4,
  "nbformat_minor": 0,
  "metadata": {
    "colab": {
      "name": "BFI PYIM 4.ipynb",
      "provenance": [],
      "include_colab_link": true
    },
    "kernelspec": {
      "name": "python3",
      "display_name": "Python 3"
    },
    "language_info": {
      "name": "python"
    }
  },
  "cells": [
    {
      "cell_type": "markdown",
      "metadata": {
        "id": "view-in-github",
        "colab_type": "text"
      },
      "source": [
        "<a href=\"https://colab.research.google.com/github/r-ap/TrainingMachineLearning/blob/main/BFI_PYIM_4.ipynb\" target=\"_parent\"><img src=\"https://colab.research.google.com/assets/colab-badge.svg\" alt=\"Open In Colab\"/></a>"
      ]
    },
    {
      "cell_type": "markdown",
      "source": [
        "# NumPy"
      ],
      "metadata": {
        "id": "gx6Nge4NefI-"
      }
    },
    {
      "cell_type": "code",
      "source": [
        "import numpy as np"
      ],
      "metadata": {
        "id": "Wd1gL8UVWSQy"
      },
      "execution_count": null,
      "outputs": []
    },
    {
      "cell_type": "markdown",
      "source": [
        "## Array & NDarray\n",
        "\n",
        "**np.array()**"
      ],
      "metadata": {
        "id": "8B993zuYemX5"
      }
    },
    {
      "cell_type": "code",
      "execution_count": null,
      "metadata": {
        "id": "UfJmymTSzJxQ",
        "colab": {
          "base_uri": "https://localhost:8080/"
        },
        "outputId": "f184761f-9afd-4492-8e7d-87f4eaa16c41"
      },
      "outputs": [
        {
          "output_type": "execute_result",
          "data": {
            "text/plain": [
              "array([1, 2, 3, 4, 5])"
            ]
          },
          "metadata": {},
          "execution_count": 2
        }
      ],
      "source": [
        "np.array([1,2,3,4,5])"
      ]
    },
    {
      "cell_type": "markdown",
      "source": [
        "**np.zeros()**"
      ],
      "metadata": {
        "id": "nscuWpBaV_Q_"
      }
    },
    {
      "cell_type": "code",
      "source": [
        "np.zeros(8)"
      ],
      "metadata": {
        "colab": {
          "base_uri": "https://localhost:8080/"
        },
        "id": "v5XGwH3KV_aQ",
        "outputId": "2dcdf0f8-9bac-44b2-c1ba-23f63a315178"
      },
      "execution_count": null,
      "outputs": [
        {
          "output_type": "execute_result",
          "data": {
            "text/plain": [
              "array([0., 0., 0., 0., 0., 0., 0., 0.])"
            ]
          },
          "metadata": {},
          "execution_count": 3
        }
      ]
    },
    {
      "cell_type": "markdown",
      "source": [
        "**np.ones()**"
      ],
      "metadata": {
        "id": "0d7duu-BV_jb"
      }
    },
    {
      "cell_type": "code",
      "source": [
        "np.ones(4)"
      ],
      "metadata": {
        "colab": {
          "base_uri": "https://localhost:8080/"
        },
        "id": "2_C2k6EcV_t1",
        "outputId": "20a3c0f8-80d3-494f-fd47-cc2dda67487c"
      },
      "execution_count": null,
      "outputs": [
        {
          "output_type": "execute_result",
          "data": {
            "text/plain": [
              "array([1., 1., 1., 1.])"
            ]
          },
          "metadata": {},
          "execution_count": 4
        }
      ]
    },
    {
      "cell_type": "markdown",
      "source": [
        "**np.empty()**"
      ],
      "metadata": {
        "id": "n0ql9kK7WFVO"
      }
    },
    {
      "cell_type": "code",
      "source": [
        "np.empty(5)"
      ],
      "metadata": {
        "colab": {
          "base_uri": "https://localhost:8080/"
        },
        "id": "qJOWguFnWFeh",
        "outputId": "5e40b2c4-0d13-4ec7-9dbf-565fe68899c2"
      },
      "execution_count": null,
      "outputs": [
        {
          "output_type": "execute_result",
          "data": {
            "text/plain": [
              "array([1.93182197e-316, 0.00000000e+000, 0.00000000e+000, 0.00000000e+000,\n",
              "       0.00000000e+000])"
            ]
          },
          "metadata": {},
          "execution_count": 5
        }
      ]
    },
    {
      "cell_type": "markdown",
      "source": [
        "**np.arange()**"
      ],
      "metadata": {
        "id": "SdLfdDLqWF7N"
      }
    },
    {
      "cell_type": "code",
      "source": [
        "np.arange(1,4) #start, stop, step"
      ],
      "metadata": {
        "colab": {
          "base_uri": "https://localhost:8080/"
        },
        "id": "rzF2ahJwWGHx",
        "outputId": "0222cce1-a293-4d18-a52b-618ad60a8c53"
      },
      "execution_count": null,
      "outputs": [
        {
          "output_type": "execute_result",
          "data": {
            "text/plain": [
              "array([1, 2, 3])"
            ]
          },
          "metadata": {},
          "execution_count": 6
        }
      ]
    },
    {
      "cell_type": "markdown",
      "source": [
        "**np.linspace()**"
      ],
      "metadata": {
        "id": "e5ddW8AkWxXs"
      }
    },
    {
      "cell_type": "code",
      "source": [
        "np.linspace(2,8,100) #start, stop, jumlah elemen"
      ],
      "metadata": {
        "colab": {
          "base_uri": "https://localhost:8080/"
        },
        "id": "6uLdsdPLW0Nd",
        "outputId": "3937d64d-23c2-4aee-d4bd-565ef87f7491"
      },
      "execution_count": null,
      "outputs": [
        {
          "output_type": "execute_result",
          "data": {
            "text/plain": [
              "array([2.        , 2.06060606, 2.12121212, 2.18181818, 2.24242424,\n",
              "       2.3030303 , 2.36363636, 2.42424242, 2.48484848, 2.54545455,\n",
              "       2.60606061, 2.66666667, 2.72727273, 2.78787879, 2.84848485,\n",
              "       2.90909091, 2.96969697, 3.03030303, 3.09090909, 3.15151515,\n",
              "       3.21212121, 3.27272727, 3.33333333, 3.39393939, 3.45454545,\n",
              "       3.51515152, 3.57575758, 3.63636364, 3.6969697 , 3.75757576,\n",
              "       3.81818182, 3.87878788, 3.93939394, 4.        , 4.06060606,\n",
              "       4.12121212, 4.18181818, 4.24242424, 4.3030303 , 4.36363636,\n",
              "       4.42424242, 4.48484848, 4.54545455, 4.60606061, 4.66666667,\n",
              "       4.72727273, 4.78787879, 4.84848485, 4.90909091, 4.96969697,\n",
              "       5.03030303, 5.09090909, 5.15151515, 5.21212121, 5.27272727,\n",
              "       5.33333333, 5.39393939, 5.45454545, 5.51515152, 5.57575758,\n",
              "       5.63636364, 5.6969697 , 5.75757576, 5.81818182, 5.87878788,\n",
              "       5.93939394, 6.        , 6.06060606, 6.12121212, 6.18181818,\n",
              "       6.24242424, 6.3030303 , 6.36363636, 6.42424242, 6.48484848,\n",
              "       6.54545455, 6.60606061, 6.66666667, 6.72727273, 6.78787879,\n",
              "       6.84848485, 6.90909091, 6.96969697, 7.03030303, 7.09090909,\n",
              "       7.15151515, 7.21212121, 7.27272727, 7.33333333, 7.39393939,\n",
              "       7.45454545, 7.51515152, 7.57575758, 7.63636364, 7.6969697 ,\n",
              "       7.75757576, 7.81818182, 7.87878788, 7.93939394, 8.        ])"
            ]
          },
          "metadata": {},
          "execution_count": 7
        }
      ]
    },
    {
      "cell_type": "markdown",
      "source": [
        "### Add, Remove, Sort"
      ],
      "metadata": {
        "id": "e-Phcfq5YY57"
      }
    },
    {
      "cell_type": "code",
      "source": [
        "#Add\n",
        "\n",
        "arr = np.array([1, 2, 3, 4, 5, 6, 7, 8])\n",
        "\n",
        "np.append(arr,5)"
      ],
      "metadata": {
        "colab": {
          "base_uri": "https://localhost:8080/"
        },
        "id": "KOwOcjoDewGB",
        "outputId": "615fc8db-2e6b-4977-ed76-388f841fc43a"
      },
      "execution_count": null,
      "outputs": [
        {
          "output_type": "execute_result",
          "data": {
            "text/plain": [
              "array([1, 2, 3, 4, 5, 6, 7, 8, 5])"
            ]
          },
          "metadata": {},
          "execution_count": 8
        }
      ]
    },
    {
      "cell_type": "code",
      "source": [
        "#Remove\n",
        "\n",
        "np.delete(arr,0)"
      ],
      "metadata": {
        "colab": {
          "base_uri": "https://localhost:8080/"
        },
        "id": "7Y_Ju1huXPeP",
        "outputId": "779413df-db12-4eea-ddc6-6719624a4557"
      },
      "execution_count": null,
      "outputs": [
        {
          "output_type": "execute_result",
          "data": {
            "text/plain": [
              "array([2, 3, 4, 5, 6, 7, 8])"
            ]
          },
          "metadata": {},
          "execution_count": 9
        }
      ]
    },
    {
      "cell_type": "code",
      "source": [
        "#Sort - ascending\n",
        "\n",
        "arr2 = np.array([6,8,2,4,6,0,3])\n",
        "np.sort(arr2)"
      ],
      "metadata": {
        "colab": {
          "base_uri": "https://localhost:8080/"
        },
        "id": "EjlQUhl7XXkv",
        "outputId": "57e7c2a9-9bb5-4850-8f75-c7e2564d725f"
      },
      "execution_count": null,
      "outputs": [
        {
          "output_type": "execute_result",
          "data": {
            "text/plain": [
              "array([0, 2, 3, 4, 6, 6, 8])"
            ]
          },
          "metadata": {},
          "execution_count": 11
        }
      ]
    },
    {
      "cell_type": "code",
      "source": [
        "#Sort - descending\n",
        "\n",
        "-np.sort(-arr2)"
      ],
      "metadata": {
        "colab": {
          "base_uri": "https://localhost:8080/"
        },
        "id": "Ao64nh4GbdUd",
        "outputId": "7c04e234-d432-415d-c4ec-c34fe261d450"
      },
      "execution_count": null,
      "outputs": [
        {
          "output_type": "execute_result",
          "data": {
            "text/plain": [
              "array([8, 6, 6, 4, 3, 2, 0])"
            ]
          },
          "metadata": {},
          "execution_count": 36
        }
      ]
    },
    {
      "cell_type": "markdown",
      "source": [
        "### Shape and Size"
      ],
      "metadata": {
        "id": "OE4KpVsaYoEg"
      }
    },
    {
      "cell_type": "markdown",
      "source": [
        "**ndarray.ndim**"
      ],
      "metadata": {
        "id": "I4HKAuWyYzUW"
      }
    },
    {
      "cell_type": "code",
      "source": [
        "arr2.ndim"
      ],
      "metadata": {
        "colab": {
          "base_uri": "https://localhost:8080/"
        },
        "id": "qCbl2lhdYyKX",
        "outputId": "a574027c-dcbf-4002-9e2d-f669cdc37c8a"
      },
      "execution_count": null,
      "outputs": [
        {
          "output_type": "execute_result",
          "data": {
            "text/plain": [
              "1"
            ]
          },
          "metadata": {},
          "execution_count": 18
        }
      ]
    },
    {
      "cell_type": "markdown",
      "source": [
        "**ndarray.size**"
      ],
      "metadata": {
        "id": "tFfOZ2XxY147"
      }
    },
    {
      "cell_type": "code",
      "source": [
        "arr2.size"
      ],
      "metadata": {
        "colab": {
          "base_uri": "https://localhost:8080/"
        },
        "id": "1CZZ2_axZBhL",
        "outputId": "4a20336e-9181-4373-dbb6-af3e508a54bd"
      },
      "execution_count": null,
      "outputs": [
        {
          "output_type": "execute_result",
          "data": {
            "text/plain": [
              "7"
            ]
          },
          "metadata": {},
          "execution_count": 19
        }
      ]
    },
    {
      "cell_type": "markdown",
      "source": [
        "**ndarray.shape**"
      ],
      "metadata": {
        "id": "G2lxJShjZCDB"
      }
    },
    {
      "cell_type": "code",
      "source": [
        "arr2.shape"
      ],
      "metadata": {
        "colab": {
          "base_uri": "https://localhost:8080/"
        },
        "id": "QnYYuPgtZCLy",
        "outputId": "2659d474-2429-4b3d-91b5-5d5b35909079"
      },
      "execution_count": null,
      "outputs": [
        {
          "output_type": "execute_result",
          "data": {
            "text/plain": [
              "(7,)"
            ]
          },
          "metadata": {},
          "execution_count": 20
        }
      ]
    },
    {
      "cell_type": "markdown",
      "source": [
        "### Reshape"
      ],
      "metadata": {
        "id": "o3nicF9wZn9D"
      }
    },
    {
      "cell_type": "code",
      "source": [
        "array = np.array([[1,3],[3,4],[4,5]])\n",
        "print(array)\n",
        "print(array.shape)"
      ],
      "metadata": {
        "colab": {
          "base_uri": "https://localhost:8080/"
        },
        "id": "oU5glK4iZpDC",
        "outputId": "4921872c-4e3b-4ac6-bfc1-8d1f948fd0c2"
      },
      "execution_count": null,
      "outputs": [
        {
          "output_type": "stream",
          "name": "stdout",
          "text": [
            "[[1 3]\n",
            " [3 4]\n",
            " [4 5]]\n",
            "(3, 2)\n"
          ]
        }
      ]
    },
    {
      "cell_type": "code",
      "source": [
        "array_reshape = array.reshape(2,3)\n",
        "print(array_reshape)\n",
        "print(array_reshape.shape)"
      ],
      "metadata": {
        "colab": {
          "base_uri": "https://localhost:8080/"
        },
        "id": "Sn8IOf5oZzGA",
        "outputId": "b2a45cbd-2ccb-4fd0-b3fd-d3ba2ac6131e"
      },
      "execution_count": null,
      "outputs": [
        {
          "output_type": "stream",
          "name": "stdout",
          "text": [
            "[[1 3 3]\n",
            " [4 4 5]]\n",
            "(2, 3)\n"
          ]
        }
      ]
    },
    {
      "cell_type": "markdown",
      "source": [
        "### Transpose"
      ],
      "metadata": {
        "id": "qxCccmB4f1MS"
      }
    },
    {
      "cell_type": "code",
      "source": [
        "array.T"
      ],
      "metadata": {
        "colab": {
          "base_uri": "https://localhost:8080/"
        },
        "id": "ubTAE0iqf3bQ",
        "outputId": "107b1f2a-08a8-48d5-d96b-bc44a9758a82"
      },
      "execution_count": null,
      "outputs": [
        {
          "output_type": "execute_result",
          "data": {
            "text/plain": [
              "array([[1, 3, 4],\n",
              "       [3, 4, 5]])"
            ]
          },
          "metadata": {},
          "execution_count": 40
        }
      ]
    },
    {
      "cell_type": "markdown",
      "source": [
        "## Ubah Array 1D ke 2D"
      ],
      "metadata": {
        "id": "kCizGgsHev7H"
      }
    },
    {
      "cell_type": "markdown",
      "source": [
        "**np.newaxis**"
      ],
      "metadata": {
        "id": "u0t8vQwXaNwj"
      }
    },
    {
      "cell_type": "code",
      "source": [
        "arr2"
      ],
      "metadata": {
        "colab": {
          "base_uri": "https://localhost:8080/"
        },
        "id": "eQFK2QBTYm6V",
        "outputId": "e116e36a-def4-4837-8e6d-7958c520a195"
      },
      "execution_count": null,
      "outputs": [
        {
          "output_type": "execute_result",
          "data": {
            "text/plain": [
              "array([6, 8, 2, 4, 6, 0, 3])"
            ]
          },
          "metadata": {},
          "execution_count": 23
        }
      ]
    },
    {
      "cell_type": "code",
      "source": [
        "arr2[np.newaxis]"
      ],
      "metadata": {
        "colab": {
          "base_uri": "https://localhost:8080/"
        },
        "id": "HjFvw2HuajgA",
        "outputId": "2d35f354-45be-4714-c69e-5520d1fa5f54"
      },
      "execution_count": null,
      "outputs": [
        {
          "output_type": "execute_result",
          "data": {
            "text/plain": [
              "array([[6, 8, 2, 4, 6, 0, 3]])"
            ]
          },
          "metadata": {},
          "execution_count": 24
        }
      ]
    },
    {
      "cell_type": "code",
      "source": [
        "arr2[np.newaxis,:]"
      ],
      "metadata": {
        "colab": {
          "base_uri": "https://localhost:8080/"
        },
        "id": "D2rTQlC_am6e",
        "outputId": "0cf177e2-9e30-4aca-8b08-35d90f858aba"
      },
      "execution_count": null,
      "outputs": [
        {
          "output_type": "execute_result",
          "data": {
            "text/plain": [
              "array([[6, 8, 2, 4, 6, 0, 3]])"
            ]
          },
          "metadata": {},
          "execution_count": 26
        }
      ]
    },
    {
      "cell_type": "code",
      "source": [
        "arr2[np.newaxis,:].shape"
      ],
      "metadata": {
        "colab": {
          "base_uri": "https://localhost:8080/"
        },
        "id": "XeLMMlW6as17",
        "outputId": "ccc35a17-0a4b-41d8-d5fa-5f5ac9b474e0"
      },
      "execution_count": null,
      "outputs": [
        {
          "output_type": "execute_result",
          "data": {
            "text/plain": [
              "(1, 7)"
            ]
          },
          "metadata": {},
          "execution_count": 27
        }
      ]
    },
    {
      "cell_type": "markdown",
      "source": [
        "**np.expand_dims**"
      ],
      "metadata": {
        "id": "TaS7yNS-aQ5D"
      }
    },
    {
      "cell_type": "code",
      "source": [
        "arr3 = np.expand_dims(arr2, axis=1)\n",
        "arr3.shape"
      ],
      "metadata": {
        "colab": {
          "base_uri": "https://localhost:8080/"
        },
        "id": "X1MgEZACaSB_",
        "outputId": "e2bdbb00-bb32-4c19-94ce-117180fc6315"
      },
      "execution_count": null,
      "outputs": [
        {
          "output_type": "execute_result",
          "data": {
            "text/plain": [
              "(7, 1)"
            ]
          },
          "metadata": {},
          "execution_count": 28
        }
      ]
    },
    {
      "cell_type": "code",
      "source": [
        "arr3"
      ],
      "metadata": {
        "colab": {
          "base_uri": "https://localhost:8080/"
        },
        "id": "zHELKbZpbG_v",
        "outputId": "7519846c-c3b3-41b9-91fb-78616b5c8a28"
      },
      "execution_count": null,
      "outputs": [
        {
          "output_type": "execute_result",
          "data": {
            "text/plain": [
              "array([[6],\n",
              "       [8],\n",
              "       [2],\n",
              "       [4],\n",
              "       [6],\n",
              "       [0],\n",
              "       [3]])"
            ]
          },
          "metadata": {},
          "execution_count": 29
        }
      ]
    },
    {
      "cell_type": "code",
      "source": [
        "arr4 = np.expand_dims(arr2, axis=0)\n",
        "arr4.shape"
      ],
      "metadata": {
        "colab": {
          "base_uri": "https://localhost:8080/"
        },
        "id": "UPA3-RR0bJad",
        "outputId": "5631a792-b02a-4579-c268-786316a72979"
      },
      "execution_count": null,
      "outputs": [
        {
          "output_type": "execute_result",
          "data": {
            "text/plain": [
              "(1, 7)"
            ]
          },
          "metadata": {},
          "execution_count": 30
        }
      ]
    },
    {
      "cell_type": "code",
      "source": [
        "arr4"
      ],
      "metadata": {
        "colab": {
          "base_uri": "https://localhost:8080/"
        },
        "id": "OnrQ-IUebO_0",
        "outputId": "215f36a7-de33-4901-9f7c-cd9f46df3276"
      },
      "execution_count": null,
      "outputs": [
        {
          "output_type": "execute_result",
          "data": {
            "text/plain": [
              "array([[6, 8, 2, 4, 6, 0, 3]])"
            ]
          },
          "metadata": {},
          "execution_count": 31
        }
      ]
    },
    {
      "cell_type": "markdown",
      "source": [
        "## Indexing dan Slicing"
      ],
      "metadata": {
        "id": "cewrROrkewPN"
      }
    },
    {
      "cell_type": "code",
      "source": [
        "print(arr2)\n",
        "print(array)"
      ],
      "metadata": {
        "colab": {
          "base_uri": "https://localhost:8080/"
        },
        "id": "PEmL9boKewZ0",
        "outputId": "ce9c21a7-737d-497a-fddc-eb45baf7d93a"
      },
      "execution_count": null,
      "outputs": [
        {
          "output_type": "stream",
          "name": "stdout",
          "text": [
            "[8 6 6 4 3 2 0]\n",
            "[[1 3]\n",
            " [3 4]\n",
            " [4 5]]\n"
          ]
        }
      ]
    },
    {
      "cell_type": "code",
      "source": [
        ""
      ],
      "metadata": {
        "id": "8OIv6MX5cUFB"
      },
      "execution_count": null,
      "outputs": []
    },
    {
      "cell_type": "markdown",
      "source": [
        "## Operasi Dasar NumPy"
      ],
      "metadata": {
        "id": "Y3mgO-1tewjL"
      }
    },
    {
      "cell_type": "code",
      "source": [
        "ARR1 = np.array([1,2,3,4,5])\n",
        "ARR2 = np.array([2,3,4,5,6])\n",
        "print(ARR1)\n",
        "print(ARR2)"
      ],
      "metadata": {
        "colab": {
          "base_uri": "https://localhost:8080/"
        },
        "id": "9bv10jI1ewto",
        "outputId": "b155e3a2-280c-4731-952f-9640a1be99a1"
      },
      "execution_count": null,
      "outputs": [
        {
          "output_type": "stream",
          "name": "stdout",
          "text": [
            "[1 2 3 4 5]\n",
            "[2 3 4 5 6]\n"
          ]
        }
      ]
    },
    {
      "cell_type": "markdown",
      "source": [
        "### Aritmatika"
      ],
      "metadata": {
        "id": "CgOTGJzVf7Xn"
      }
    },
    {
      "cell_type": "code",
      "source": [
        ""
      ],
      "metadata": {
        "id": "_T4MYUy7fZcJ"
      },
      "execution_count": null,
      "outputs": []
    },
    {
      "cell_type": "markdown",
      "source": [
        "### Agregat"
      ],
      "metadata": {
        "id": "q8qpSQK7f9zV"
      }
    },
    {
      "cell_type": "code",
      "source": [
        ""
      ],
      "metadata": {
        "id": "rCfqLoqFgDl4"
      },
      "execution_count": null,
      "outputs": []
    },
    {
      "cell_type": "markdown",
      "source": [
        "## Flatten N-Dimensional Array"
      ],
      "metadata": {
        "id": "hakNSf0WfD3N"
      }
    },
    {
      "cell_type": "code",
      "source": [
        "arr_exp = np.array([[1, 2, 3, 4], [5, 6, 7, 8], [9, 10, 11, 12]])"
      ],
      "metadata": {
        "id": "iw2MKjmrfHhA"
      },
      "execution_count": null,
      "outputs": []
    },
    {
      "cell_type": "code",
      "source": [
        "arr_exp.flatten()"
      ],
      "metadata": {
        "id": "jEpVwlDTgNah"
      },
      "execution_count": null,
      "outputs": []
    }
  ]
}