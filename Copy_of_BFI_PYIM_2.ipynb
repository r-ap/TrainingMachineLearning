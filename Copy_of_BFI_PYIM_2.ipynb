{
  "nbformat": 4,
  "nbformat_minor": 0,
  "metadata": {
    "colab": {
      "name": "Copy of BFI PYIM 2.ipynb",
      "provenance": [],
      "include_colab_link": true
    },
    "kernelspec": {
      "name": "python3",
      "display_name": "Python 3"
    },
    "language_info": {
      "name": "python"
    }
  },
  "cells": [
    {
      "cell_type": "markdown",
      "metadata": {
        "id": "view-in-github",
        "colab_type": "text"
      },
      "source": [
        "<a href=\"https://colab.research.google.com/github/r-ap/TrainingMachineLearning/blob/main/Copy_of_BFI_PYIM_2.ipynb\" target=\"_parent\"><img src=\"https://colab.research.google.com/assets/colab-badge.svg\" alt=\"Open In Colab\"/></a>"
      ]
    },
    {
      "cell_type": "markdown",
      "source": [
        "# Conditional If\n",
        "\n",
        "\n",
        "Pernyataan conditional if dapat ditulis sebagai berikut:\n",
        "\n",
        "```\n",
        "if <expr> :\n",
        "  <statement>\n",
        "```\n",
        "\n",
        "\"Jika suatu kondisi (expr) terpenuhi, maka jalankan suatu perintah (statement)\"\n",
        "\n",
        "*expr* selalu bernilai True"
      ],
      "metadata": {
        "id": "z5s5o4VLV4Ax"
      }
    },
    {
      "cell_type": "code",
      "execution_count": null,
      "metadata": {
        "id": "NqFnxk32VycK"
      },
      "outputs": [],
      "source": [
        "x = 0\n",
        "y = 5"
      ]
    },
    {
      "cell_type": "code",
      "source": [
        "if x < y:                            # Truthy\n",
        "    print('yes')"
      ],
      "metadata": {
        "colab": {
          "base_uri": "https://localhost:8080/"
        },
        "id": "fPHkcYwfWsH1",
        "outputId": "42efc9c2-b4ae-4db5-aa8b-a39b3e4bf480"
      },
      "execution_count": null,
      "outputs": [
        {
          "output_type": "stream",
          "name": "stdout",
          "text": [
            "yes\n"
          ]
        }
      ]
    },
    {
      "cell_type": "code",
      "source": [
        "if y < x:                            # Falsy\n",
        "    print('yes')"
      ],
      "metadata": {
        "id": "itTDN9fvWtRd"
      },
      "execution_count": null,
      "outputs": []
    },
    {
      "cell_type": "code",
      "source": [
        "if x:                                # Falsy\n",
        "    print('yes')"
      ],
      "metadata": {
        "id": "bSN5zgVzWubf"
      },
      "execution_count": null,
      "outputs": []
    },
    {
      "cell_type": "code",
      "source": [
        "if y:                                # Truthy\n",
        "    print('yes')"
      ],
      "metadata": {
        "colab": {
          "base_uri": "https://localhost:8080/"
        },
        "id": "op_9fX-WWvz0",
        "outputId": "e5adc1d4-02c7-436f-def6-495a0eb476ee"
      },
      "execution_count": null,
      "outputs": [
        {
          "output_type": "stream",
          "name": "stdout",
          "text": [
            "yes\n"
          ]
        }
      ]
    },
    {
      "cell_type": "code",
      "source": [
        "if 'aul' in 'grault':                # Truthy\n",
        "    print('yes')"
      ],
      "metadata": {
        "colab": {
          "base_uri": "https://localhost:8080/"
        },
        "id": "hEJnREp6WyfB",
        "outputId": "ec677100-c126-4586-8e05-9932cdb9060a"
      },
      "execution_count": null,
      "outputs": [
        {
          "output_type": "stream",
          "name": "stdout",
          "text": [
            "yes\n"
          ]
        }
      ]
    },
    {
      "cell_type": "code",
      "source": [
        "if 'quux' in ['foo', 'bar', 'baz']:  # Falsy\n",
        "    print('yes')"
      ],
      "metadata": {
        "id": "ZbhEi70tWz5p"
      },
      "execution_count": null,
      "outputs": []
    },
    {
      "cell_type": "markdown",
      "source": [
        "## Indentasi sangat penting di Python"
      ],
      "metadata": {
        "id": "qZ2ZPBv0XFYI"
      }
    },
    {
      "cell_type": "code",
      "source": [
        "if 'bar' in ['bar', 'baz', 'qux']:\n",
        "    print('Expression was true')\n",
        "    print('Executing statement in suite')\n",
        "    print('...')\n",
        "    print('Done.')\n",
        "    \n",
        "print('After conditional')"
      ],
      "metadata": {
        "colab": {
          "base_uri": "https://localhost:8080/"
        },
        "id": "FwV2RA-XXI6d",
        "outputId": "ff33958e-4b69-4404-8912-d8b79b279490"
      },
      "execution_count": null,
      "outputs": [
        {
          "output_type": "stream",
          "name": "stdout",
          "text": [
            "Expression was true\n",
            "Executing statement in suite\n",
            "...\n",
            "Done.\n",
            "After conditional\n"
          ]
        }
      ]
    },
    {
      "cell_type": "markdown",
      "source": [
        "## Nested If"
      ],
      "metadata": {
        "id": "VE6OGqxEXVQx"
      }
    },
    {
      "cell_type": "code",
      "source": [
        "# Does line execute?                        Yes    No\n",
        "#                                           ---    --\n",
        "if 'foo' in ['foo', 'bar', 'baz']:        #  x\n",
        "    print('Outer condition is true')      #  x\n",
        "\n",
        "    if 10 > 20:                           #  x\n",
        "        print('Inner condition 1')        #        x\n",
        "\n",
        "    print('Between inner conditions')     #  x\n",
        "\n",
        "    if 10 < 20:                           #  x\n",
        "        print('Inner condition 2')        #  x\n",
        "\n",
        "    print('End of outer condition')       #  x\n",
        "print('After outer condition')            #  x"
      ],
      "metadata": {
        "colab": {
          "base_uri": "https://localhost:8080/"
        },
        "id": "HXn5sYwQXZTr",
        "outputId": "1742a9e4-12bb-47b2-f8c3-fc1c6f759def"
      },
      "execution_count": null,
      "outputs": [
        {
          "output_type": "stream",
          "name": "stdout",
          "text": [
            "Outer condition is true\n",
            "Between inner conditions\n",
            "Inner condition 2\n",
            "End of outer condition\n",
            "After outer condition\n"
          ]
        }
      ]
    },
    {
      "cell_type": "markdown",
      "source": [
        "## Klausa If dan Elif (Else If)\n",
        "\n",
        "```\n",
        "if <expr>:\n",
        "    <statement(s)>\n",
        "elif <expr>:\n",
        "    <statement(s)>\n",
        "else:\n",
        "    <statement(s)>\n",
        "```"
      ],
      "metadata": {
        "id": "WwGEymORXb1E"
      }
    },
    {
      "cell_type": "code",
      "source": [
        "x = 20\n",
        "\n",
        "if x < 50:\n",
        "    print('(first suite)')\n",
        "    print('x is small')\n",
        "else:\n",
        "    print('(second suite)')\n",
        "    print('x is large')"
      ],
      "metadata": {
        "colab": {
          "base_uri": "https://localhost:8080/"
        },
        "id": "TbAM9mW0XaAe",
        "outputId": "9adb707e-9442-44e7-9c2a-e94bf2558f80"
      },
      "execution_count": null,
      "outputs": [
        {
          "output_type": "stream",
          "name": "stdout",
          "text": [
            "(first suite)\n",
            "x is small\n"
          ]
        }
      ]
    },
    {
      "cell_type": "code",
      "source": [
        "hargaBuku = 20000\n",
        "hargaMajalah = 5000\n",
        "uang = 2000\n",
        "\n",
        "if uang > hargaBuku:\n",
        "    print(\"beli buku\")\n",
        "elif uang > hargaMajalah:\n",
        "    print(\"beli majalah\")\n",
        "else:\n",
        "    print(\"uang tidak cukup\")"
      ],
      "metadata": {
        "colab": {
          "base_uri": "https://localhost:8080/"
        },
        "id": "wptYcQAlX3fG",
        "outputId": "4ef02983-9ca4-4199-889e-33c15075e176"
      },
      "execution_count": null,
      "outputs": [
        {
          "output_type": "stream",
          "name": "stdout",
          "text": [
            "uang tidak cukup\n"
          ]
        }
      ]
    },
    {
      "cell_type": "markdown",
      "source": [
        "## One Line Statements\n",
        "\n",
        "```\n",
        "if <expr>: <statement_1>; <statement_2>; ...; <statement_n>\n",
        "```"
      ],
      "metadata": {
        "id": "qYCkiCKfX9Lp"
      }
    },
    {
      "cell_type": "code",
      "source": [
        "if 'f' in 'foo': print('1'); print('2'); print('3')"
      ],
      "metadata": {
        "colab": {
          "base_uri": "https://localhost:8080/"
        },
        "id": "0u_IxjAqX_NU",
        "outputId": "1ba8f5c1-2f40-498b-d680-c621b7e2ab76"
      },
      "execution_count": null,
      "outputs": [
        {
          "output_type": "stream",
          "name": "stdout",
          "text": [
            "1\n",
            "2\n",
            "3\n"
          ]
        }
      ]
    },
    {
      "cell_type": "code",
      "source": [
        "x = 2\n",
        "\n",
        "if x == 1: print('foo'); print('bar'); print('baz')\n",
        "elif x == 2: print('qux'); print('quux')\n",
        "else: print('corge'); print('grault')"
      ],
      "metadata": {
        "colab": {
          "base_uri": "https://localhost:8080/"
        },
        "id": "gUTVZMlEYKBW",
        "outputId": "17e36918-98b7-4360-e473-6d3fb2f1d634"
      },
      "execution_count": null,
      "outputs": [
        {
          "output_type": "stream",
          "name": "stdout",
          "text": [
            "qux\n",
            "quux\n"
          ]
        }
      ]
    },
    {
      "cell_type": "markdown",
      "source": [
        "## Ternary Operator\n",
        "\n",
        "Kalimat kondisi berubah dari `Jika suatu kondisi terpenuhi, maka jalankan suatu perintah` menjadi `Jalankan perintah jika suatu kondisi terpenuhi`.\n",
        "\n",
        "```\n",
        "<expr1> if <conditional_expr> else <expr2>\n",
        "```\n",
        "\n",
        "Bentuk ini biasanya dilekatkan pada variabel, objek, atau function"
      ],
      "metadata": {
        "id": "tAGRDi93YPgx"
      }
    },
    {
      "cell_type": "code",
      "source": [
        "raining = False\n",
        "print(\"Let's go to the\", 'beach' if not raining else 'library')"
      ],
      "metadata": {
        "colab": {
          "base_uri": "https://localhost:8080/"
        },
        "id": "x0g-e_F-YMcY",
        "outputId": "ddf5b786-8d8c-4084-8062-98efd6744aff"
      },
      "execution_count": null,
      "outputs": [
        {
          "output_type": "stream",
          "name": "stdout",
          "text": [
            "Let's go to the beach\n"
          ]
        }
      ]
    },
    {
      "cell_type": "code",
      "source": [
        "print('yes') if raining else print('no')"
      ],
      "metadata": {
        "colab": {
          "base_uri": "https://localhost:8080/"
        },
        "id": "LYMlEqzyYsaO",
        "outputId": "14d2797d-e6b1-4fa1-a820-b896bc67dbcb"
      },
      "execution_count": null,
      "outputs": [
        {
          "output_type": "stream",
          "name": "stdout",
          "text": [
            "no\n"
          ]
        }
      ]
    },
    {
      "cell_type": "markdown",
      "source": [
        "## LATIHAN"
      ],
      "metadata": {
        "id": "NpteRGs6eDKv"
      }
    },
    {
      "cell_type": "markdown",
      "source": [
        "1. Buatlah program menggunakan conditional if untuk mengecek apakah suatu bilangan merupakan bilangin ganjil atau genap. Jika ganjil, cetak keluaran \"Bilangan Ganjil\", jika genap, cetak keluaran \"Bilangan Genap\"."
      ],
      "metadata": {
        "id": "j2rjMgHffCqG"
      }
    },
    {
      "cell_type": "code",
      "source": [
        ""
      ],
      "metadata": {
        "id": "c45tq_ZTfDtR"
      },
      "execution_count": null,
      "outputs": []
    },
    {
      "cell_type": "markdown",
      "source": [
        "2. Buatlah logika if untuk mengevaluasi nilai score dengan ketentuan:\n",
        "   * Jika score bernilai 90 atau lebih\n",
        "      - Isi variabel result dengan nilai: 'Selamat! Anda mendapatkan nilai A.'\n",
        "   * Jika score bernilai 80 hingga 89\n",
        "       - Isi variabel result dengan nilai: 'Anda mendapatkan nilai B.'\n",
        " *   Jika score bernilai 70 hingga 79\n",
        "      - Isi variabel result dengan nilai: 'Anda mendapatkan nilai C.'\n",
        " *  Jika score bernilai 60 hingga 69:\n",
        "      - Isi variabel result dengan nilai: 'Anda mendapatkan nilai D.'\n",
        " *  Jika score bernilai di bawah 60:\n",
        "     - Isi variabel result dengan nilai: 'Anda mendapatkan nilai E.'"
      ],
      "metadata": {
        "id": "b7NBtY4IfEuL"
      }
    },
    {
      "cell_type": "code",
      "source": [
        ""
      ],
      "metadata": {
        "id": "yjDzsGCUfl_g"
      },
      "execution_count": null,
      "outputs": []
    },
    {
      "cell_type": "markdown",
      "source": [
        "# Looping\n",
        "\n",
        "Ada dua jenis pengulangan di Python yaitu `indefinite` dan `definite`.\n",
        "\n",
        "`Indefinite Loop`, kita tidak menyatakan berapa jumlah iterasi yang akan terjadi.\n",
        "\n",
        "`definite loop`, kita menyatakan berapa jumlah iterasi yang akan berlangsung."
      ],
      "metadata": {
        "id": "WYVwez_bZoWG"
      }
    },
    {
      "cell_type": "markdown",
      "source": [
        "## Indefinite Loop `While`\n",
        "\n",
        "Penulisan syntax mirip seperti conditional If, dimana pernyataan kalimatnya: `Ketika suatu kondisi (expr) terpenuhi, maka jalankan suatu perintah (statement)`.\n",
        "\n",
        "```\n",
        "while <expr>:\n",
        "    <statement(s)>\n",
        "```\n",
        "\n",
        "Seperti Conditional If, While akan terus berjalan selama `<expr>` bernilai `True`. Looping akan berhenti jika `<expr>` bernilai False"
      ],
      "metadata": {
        "id": "cCQHHpCCaLyJ"
      }
    },
    {
      "cell_type": "code",
      "source": [
        "n = 5\n",
        "while n > 0:\n",
        "    n -= 1\n",
        "    print(n)\n",
        "    print(True if n>0 else False)"
      ],
      "metadata": {
        "colab": {
          "base_uri": "https://localhost:8080/"
        },
        "id": "QiRW1UY6aJQd",
        "outputId": "e2467705-15d3-48ff-c0df-e735462e2b0e"
      },
      "execution_count": null,
      "outputs": [
        {
          "output_type": "stream",
          "name": "stdout",
          "text": [
            "4\n",
            "True\n",
            "3\n",
            "True\n",
            "2\n",
            "True\n",
            "1\n",
            "True\n",
            "0\n",
            "False\n"
          ]
        }
      ]
    },
    {
      "cell_type": "markdown",
      "source": [
        "### The Python break and continue Statements\n",
        "\n",
        "`Python break` statement segera menghentikan perulangan seluruhnya. Eksekusi program dilanjutkan ke pernyataan pertama setelah badan loop.\n",
        "\n",
        "`Python continue` statement segera menghentikan iterasi loop saat dijalankan. Eksekusi melompat ke atas loop, dan controlling expression dievaluasi ulang untuk menentukan apakah loop akan dieksekusi lagi atau dihentikan."
      ],
      "metadata": {
        "id": "hPBg5_zfaopv"
      }
    },
    {
      "cell_type": "code",
      "source": [
        "n = 5\n",
        "while n > 0:\n",
        "    n -= 1\n",
        "    if n == 2:\n",
        "        break # Break Statement\n",
        "    print(n)\n",
        "print('Loop ended.')"
      ],
      "metadata": {
        "colab": {
          "base_uri": "https://localhost:8080/"
        },
        "id": "xM9hjeO_avAP",
        "outputId": "e22d19d2-cb24-4630-890a-e19b7246f3ef"
      },
      "execution_count": null,
      "outputs": [
        {
          "output_type": "stream",
          "name": "stdout",
          "text": [
            "4\n",
            "3\n",
            "Loop ended.\n"
          ]
        }
      ]
    },
    {
      "cell_type": "code",
      "source": [
        "n = 5\n",
        "while n > 0:\n",
        "    n -= 1\n",
        "    if n == 2:\n",
        "        continue # Continue Statement\n",
        "    print(n)\n",
        "print('Loop ended.')"
      ],
      "metadata": {
        "colab": {
          "base_uri": "https://localhost:8080/"
        },
        "id": "34M4GZIKazyQ",
        "outputId": "ad9903cf-83a8-494b-8fbc-d48ca49e1c6f"
      },
      "execution_count": null,
      "outputs": [
        {
          "output_type": "stream",
          "name": "stdout",
          "text": [
            "4\n",
            "3\n",
            "1\n",
            "0\n",
            "Loop ended.\n"
          ]
        }
      ]
    },
    {
      "cell_type": "markdown",
      "source": [
        "### Klausa Else pada While\n",
        "\n",
        "```\n",
        "while <expr>:\n",
        "    <statement(s)>\n",
        "else:\n",
        "    <additional_statement(s)>\n",
        "```"
      ],
      "metadata": {
        "id": "UqDoqDiIa8iX"
      }
    },
    {
      "cell_type": "code",
      "source": [
        "n = 5\n",
        "while n > 0:\n",
        "    n -= 1\n",
        "    print(n)\n",
        "else:\n",
        "    print('Loop done.')"
      ],
      "metadata": {
        "colab": {
          "base_uri": "https://localhost:8080/"
        },
        "id": "J1Nlx78EbDkG",
        "outputId": "fbda569f-a718-4eff-f7dd-fdb694c47503"
      },
      "execution_count": null,
      "outputs": [
        {
          "output_type": "stream",
          "name": "stdout",
          "text": [
            "4\n",
            "3\n",
            "2\n",
            "1\n",
            "0\n",
            "Loop done.\n"
          ]
        }
      ]
    },
    {
      "cell_type": "markdown",
      "source": [
        "### Infinite Loop"
      ],
      "metadata": {
        "id": "Vu3WVf4zbdE5"
      }
    },
    {
      "cell_type": "code",
      "source": [
        "while True:\n",
        "    print('foo')"
      ],
      "metadata": {
        "id": "C7MX3DNxbh8i"
      },
      "execution_count": null,
      "outputs": []
    },
    {
      "cell_type": "markdown",
      "source": [
        "### Nested While Loop\n",
        "```\n",
        "while <expr1>:\n",
        "    statement\n",
        "    statement\n",
        "\n",
        "    while <expr2>:\n",
        "        statement\n",
        "        statement\n",
        "```"
      ],
      "metadata": {
        "id": "Bk4TL9WRcmWl"
      }
    },
    {
      "cell_type": "code",
      "source": [
        "a = ['foo', 'bar']\n",
        "\n",
        "while len(a):\n",
        "    print(a.pop(0))\n",
        "    \n",
        "    b = ['baz', 'qux']\n",
        "    \n",
        "    while len(b):\n",
        "        print('>', b.pop(0))"
      ],
      "metadata": {
        "id": "WZMVAFbAc0G-"
      },
      "execution_count": null,
      "outputs": []
    },
    {
      "cell_type": "markdown",
      "source": [
        "### One-Line While"
      ],
      "metadata": {
        "id": "J58XerSFbi11"
      }
    },
    {
      "cell_type": "code",
      "source": [
        "n = 5\n",
        "while n > 0: n -= 1; print(n)"
      ],
      "metadata": {
        "id": "4wfYVdrNftKj"
      },
      "execution_count": null,
      "outputs": []
    },
    {
      "cell_type": "markdown",
      "source": [
        "## Definite Loop (For)\n",
        "\n",
        "```\n",
        "for <var> in <iterable>:\n",
        "    <statement(s)>\n",
        "```\n",
        "\n",
        "`Untuk sebuah variabel di dalam suatu objek iterable maka jalankan suatu perintah`"
      ],
      "metadata": {
        "id": "seZy-zSrfuRL"
      }
    },
    {
      "cell_type": "code",
      "source": [
        "a = ['foo', 'bar', 'baz']\n",
        "for i in a:\n",
        "    print(i)"
      ],
      "metadata": {
        "id": "FTNQjowPf_Kf",
        "colab": {
          "base_uri": "https://localhost:8080/"
        },
        "outputId": "2496a2ee-a2b3-4472-f95d-545422a931c5"
      },
      "execution_count": null,
      "outputs": [
        {
          "output_type": "stream",
          "name": "stdout",
          "text": [
            "foo\n",
            "bar\n",
            "baz\n"
          ]
        }
      ]
    },
    {
      "cell_type": "code",
      "source": [
        "d = {'foo': 1, 'bar': 2, 'baz': 3}\n",
        "for k in d:\n",
        "    print(k)"
      ],
      "metadata": {
        "colab": {
          "base_uri": "https://localhost:8080/"
        },
        "id": "7w4dJ9zzVCjl",
        "outputId": "7dd102aa-3891-4f05-94e9-6073ceebd569"
      },
      "execution_count": null,
      "outputs": [
        {
          "output_type": "stream",
          "name": "stdout",
          "text": [
            "foo\n",
            "bar\n",
            "baz\n"
          ]
        }
      ]
    },
    {
      "cell_type": "code",
      "source": [
        "d = {'foo': 1, 'bar': 2, 'baz': 3}\n",
        "for k in d.values():\n",
        "    print(k)"
      ],
      "metadata": {
        "colab": {
          "base_uri": "https://localhost:8080/"
        },
        "id": "AzfsTpLkVXp6",
        "outputId": "616af80b-73e7-448e-c7cf-4f4d1f77f908"
      },
      "execution_count": null,
      "outputs": [
        {
          "output_type": "stream",
          "name": "stdout",
          "text": [
            "1\n",
            "2\n",
            "3\n"
          ]
        }
      ]
    },
    {
      "cell_type": "code",
      "source": [
        "for n in (0, 1, 2, 3, 4):\n",
        "    print(n)"
      ],
      "metadata": {
        "colab": {
          "base_uri": "https://localhost:8080/"
        },
        "id": "d-eUbF_9VpX2",
        "outputId": "20de1a0a-23f0-4a68-d856-c1cd8811acbb"
      },
      "execution_count": null,
      "outputs": [
        {
          "output_type": "stream",
          "name": "stdout",
          "text": [
            "0\n",
            "1\n",
            "2\n",
            "3\n",
            "4\n"
          ]
        }
      ]
    },
    {
      "cell_type": "code",
      "source": [
        "for j in range(5):\n",
        "  print(j)"
      ],
      "metadata": {
        "colab": {
          "base_uri": "https://localhost:8080/"
        },
        "id": "D6hnSW9BVhVk",
        "outputId": "9b45e39a-5e78-43d2-ac6a-ce317ceaada4"
      },
      "execution_count": null,
      "outputs": [
        {
          "output_type": "stream",
          "name": "stdout",
          "text": [
            "0\n",
            "1\n",
            "2\n",
            "3\n",
            "4\n"
          ]
        }
      ]
    },
    {
      "cell_type": "code",
      "source": [
        "for char in 'Hacktiv8':\n",
        "  print(char)"
      ],
      "metadata": {
        "colab": {
          "base_uri": "https://localhost:8080/"
        },
        "id": "mw-g54-rVkvz",
        "outputId": "2c4a366b-2f2f-4d1c-94e7-c697fe2bbf53"
      },
      "execution_count": null,
      "outputs": [
        {
          "output_type": "stream",
          "name": "stdout",
          "text": [
            "H\n",
            "a\n",
            "c\n",
            "k\n",
            "t\n",
            "i\n",
            "v\n",
            "8\n"
          ]
        }
      ]
    },
    {
      "cell_type": "markdown",
      "source": [
        "### Break & Continue"
      ],
      "metadata": {
        "id": "EmYolaYrV35C"
      }
    },
    {
      "cell_type": "code",
      "source": [
        "for i in ['foo', 'bar', 'baz', 'qux']:\n",
        "    if 'b' in i:\n",
        "        break\n",
        "    print(i)"
      ],
      "metadata": {
        "colab": {
          "base_uri": "https://localhost:8080/"
        },
        "id": "MRVWLONkV6pF",
        "outputId": "a6486f4b-4f8b-47e8-893d-45bdfc2d912d"
      },
      "execution_count": null,
      "outputs": [
        {
          "output_type": "stream",
          "name": "stdout",
          "text": [
            "foo\n"
          ]
        }
      ]
    },
    {
      "cell_type": "code",
      "source": [
        "for i in ['foo', 'bar', 'baz', 'qux']:\n",
        "    if 'b' in i:\n",
        "        continue\n",
        "    print(i)"
      ],
      "metadata": {
        "colab": {
          "base_uri": "https://localhost:8080/"
        },
        "id": "swkuOPbiV86C",
        "outputId": "033c7725-ff06-42f0-ee10-1cdac9d4bb98"
      },
      "execution_count": null,
      "outputs": [
        {
          "output_type": "stream",
          "name": "stdout",
          "text": [
            "foo\n",
            "qux\n"
          ]
        }
      ]
    },
    {
      "cell_type": "markdown",
      "source": [
        "### Bentuk lain dari for loop\n",
        "\n",
        "`Jalankan perintah untuk suatu variabel di dalam suatu objek iterable`"
      ],
      "metadata": {
        "id": "xooenRMAWERh"
      }
    },
    {
      "cell_type": "code",
      "source": [
        "list_number = [i for i in range(5)]\n",
        "list_number"
      ],
      "metadata": {
        "colab": {
          "base_uri": "https://localhost:8080/"
        },
        "id": "Itpu40XaWIAp",
        "outputId": "4160f30b-6900-436e-8dc3-89d9df2267b2"
      },
      "execution_count": null,
      "outputs": [
        {
          "output_type": "execute_result",
          "data": {
            "text/plain": [
              "[0, 1, 2, 3, 4]"
            ]
          },
          "metadata": {},
          "execution_count": 12
        }
      ]
    }
  ]
}